{
 "cells": [
  {
   "cell_type": "markdown",
   "metadata": {},
   "source": [
    "#  Lecture 3 28/09/2022"
   ]
  },
  {
   "cell_type": "markdown",
   "metadata": {},
   "source": [
    "### Values and objects\n",
    "\n",
    "120 is an integer value. An object is a value encapsulated in a specific identity. We may have different objects but we encaoìpsulate the same value. Everything in python is an object. It doesn't exist an entity 120 but exist an object 120. There is a function called id() that gives us the identity of an object."
   ]
  },
  {
   "cell_type": "code",
   "execution_count": 2,
   "metadata": {},
   "outputs": [
    {
     "name": "stdout",
     "output_type": "stream",
     "text": [
      "1415855626320\n"
     ]
    }
   ],
   "source": [
    "A=120\n",
    "print(id(A))"
   ]
  },
  {
   "cell_type": "markdown",
   "metadata": {},
   "source": [
    "We have a box  [120] and it's labelled with this id. "
   ]
  },
  {
   "cell_type": "code",
   "execution_count": 3,
   "metadata": {},
   "outputs": [
    {
     "name": "stdout",
     "output_type": "stream",
     "text": [
      "1415970109808 1415970109680\n",
      "True\n",
      "False\n",
      "True\n"
     ]
    }
   ],
   "source": [
    "A=1200\n",
    "B=1200\n",
    "print(id(A),id(B))\n",
    "print(A==B)\n",
    "print(A is B)\n",
    "A=120\n",
    "B=120\n",
    "print(A is B)\n"
   ]
  },
  {
   "cell_type": "markdown",
   "metadata": {},
   "source": [
    "The machine allocates immediatly numbers under 256 at the same run time, so if they are equal are in the same memory. Never assume that if two ubjects have the same values are the same. But assume that every operation creates a new object."
   ]
  },
  {
   "cell_type": "code",
   "execution_count": 4,
   "metadata": {},
   "outputs": [],
   "source": [
    "x=\"simo\"\n",
    "x=x+\"ne\"\n",
    "y=\"simone\""
   ]
  },
  {
   "cell_type": "markdown",
   "metadata": {},
   "source": [
    "In this case we have tree objects and we point to different boxes each time."
   ]
  },
  {
   "cell_type": "markdown",
   "metadata": {},
   "source": [
    "An object can be activated o the object can do something. The way with we interact with the object by method invocation. Objects of the same type shares the same methods."
   ]
  },
  {
   "cell_type": "markdown",
   "metadata": {},
   "source": [
    "##### Upper for strings"
   ]
  },
  {
   "cell_type": "code",
   "execution_count": 5,
   "metadata": {},
   "outputs": [
    {
     "name": "stdout",
     "output_type": "stream",
     "text": [
      "SIMONE\n"
     ]
    }
   ],
   "source": [
    "S = 'simone'.upper()\n",
    "print(S)"
   ]
  },
  {
   "cell_type": "markdown",
   "metadata": {},
   "source": [
    "##### Capitalize"
   ]
  },
  {
   "cell_type": "code",
   "execution_count": 6,
   "metadata": {},
   "outputs": [
    {
     "name": "stdout",
     "output_type": "stream",
     "text": [
      "Simone\n"
     ]
    }
   ],
   "source": [
    "S=\"simone\".capitalize()\n",
    "print(S)"
   ]
  },
  {
   "cell_type": "markdown",
   "metadata": {},
   "source": [
    "##### isalpha"
   ]
  },
  {
   "cell_type": "code",
   "execution_count": 7,
   "metadata": {},
   "outputs": [
    {
     "name": "stdout",
     "output_type": "stream",
     "text": [
      "True\n"
     ]
    }
   ],
   "source": [
    "print(S.isalpha())\n"
   ]
  },
  {
   "cell_type": "markdown",
   "metadata": {},
   "source": [
    "##### isdigit"
   ]
  },
  {
   "cell_type": "code",
   "execution_count": 8,
   "metadata": {},
   "outputs": [
    {
     "name": "stdout",
     "output_type": "stream",
     "text": [
      "False\n"
     ]
    }
   ],
   "source": [
    "A = \"\".isdigit()\n",
    "print(A)"
   ]
  },
  {
   "cell_type": "markdown",
   "metadata": {},
   "source": [
    "##### Str.find(sub[,start[,end]])"
   ]
  },
  {
   "cell_type": "code",
   "execution_count": 9,
   "metadata": {},
   "outputs": [
    {
     "name": "stdout",
     "output_type": "stream",
     "text": [
      "2\n",
      "2\n",
      "-1\n"
     ]
    }
   ],
   "source": [
    "print(S.find(\"mo\"))\n",
    "print(S.find(\"mo\",1))\n",
    "print(S.find(\"mo\",3,7))\n"
   ]
  },
  {
   "cell_type": "markdown",
   "metadata": {},
   "source": [
    "#### Is_integer()"
   ]
  },
  {
   "cell_type": "code",
   "execution_count": 10,
   "metadata": {},
   "outputs": [
    {
     "name": "stdout",
     "output_type": "stream",
     "text": [
      "True\n",
      "False\n"
     ]
    }
   ],
   "source": [
    "print((3.0).is_integer())\n",
    "print((3.2).is_integer())"
   ]
  },
  {
   "cell_type": "markdown",
   "metadata": {},
   "source": [
    "#### Index\n",
    "Avaleable in sequences, find only on strings."
   ]
  },
  {
   "cell_type": "code",
   "execution_count": 11,
   "metadata": {},
   "outputs": [
    {
     "name": "stdout",
     "output_type": "stream",
     "text": [
      "3\n"
     ]
    }
   ],
   "source": [
    "print(S.index(\"o\"))"
   ]
  },
  {
   "cell_type": "markdown",
   "metadata": {},
   "source": [
    "## Tuple \n",
    "Int, float, bool,str,NoneTye, are simple tipes. tuple are costructed types: its values are groups of values each of them of an arbitrary type. "
   ]
  },
  {
   "cell_type": "markdown",
   "metadata": {},
   "source": [
    "Tuple are **immutable sequences** of objecs. Like strings."
   ]
  },
  {
   "cell_type": "code",
   "execution_count": 12,
   "metadata": {},
   "outputs": [
    {
     "name": "stdout",
     "output_type": "stream",
     "text": [
      "(1, (2, 3, 4, 5), 'simone', 'simone', 'poppo')\n",
      "5\n",
      "4\n"
     ]
    }
   ],
   "source": [
    "A=(1,2)\n",
    "A=(8,)\n",
    "A=(1, \"simone\",3.1415)\n",
    "A=(1,(2,3,4,5),\"simone\")\n",
    "A=A+(\"simone\", \"poppo\")\n",
    "print(A)\n",
    "print(len(A))\n",
    "print(A[1][2])\n",
    "#A=(3)\n"
   ]
  },
  {
   "cell_type": "markdown",
   "metadata": {},
   "source": [
    "We can do a for on tuples: "
   ]
  },
  {
   "cell_type": "code",
   "execution_count": 13,
   "metadata": {},
   "outputs": [
    {
     "name": "stdout",
     "output_type": "stream",
     "text": [
      "1\n",
      "2\n",
      "3\n",
      "4\n",
      "pippo\n",
      "8\n"
     ]
    }
   ],
   "source": [
    "for i in (1,2,3,4,(\"pippo\"),8):\n",
    "    print(i)"
   ]
  },
  {
   "cell_type": "markdown",
   "metadata": {},
   "source": [
    "X and w[1] are the same object. They point to the same peace of memory."
   ]
  },
  {
   "cell_type": "code",
   "execution_count": 14,
   "metadata": {},
   "outputs": [
    {
     "name": "stdout",
     "output_type": "stream",
     "text": [
      "True\n"
     ]
    }
   ],
   "source": [
    "X=(10,20)\n",
    "W=(9,X,11)\n",
    "print(X is W[1])"
   ]
  },
  {
   "cell_type": "markdown",
   "metadata": {},
   "source": [
    "Type converter."
   ]
  },
  {
   "cell_type": "code",
   "execution_count": 15,
   "metadata": {},
   "outputs": [
    {
     "name": "stdout",
     "output_type": "stream",
     "text": [
      "('b', 'o', 'l', 'o')\n"
     ]
    }
   ],
   "source": [
    "A=tuple(\"bolo\")\n",
    "print(A)\n",
    "#A=tuple(123)\n",
    "# you cant create a tople by an integer.\n",
    "\n"
   ]
  },
  {
   "cell_type": "markdown",
   "metadata": {},
   "source": [
    "### Assignement operator"
   ]
  },
  {
   "cell_type": "code",
   "execution_count": 16,
   "metadata": {},
   "outputs": [
    {
     "name": "stdout",
     "output_type": "stream",
     "text": [
      "(10, 20)\n",
      "10 20\n",
      "20 10\n"
     ]
    }
   ],
   "source": [
    "T=10,20\n",
    "print(T)\n",
    "X,Y=10,20\n",
    "print(X,Y)\n",
    "X,Y=Y,X\n",
    "print(X,Y)"
   ]
  },
  {
   "cell_type": "markdown",
   "metadata": {},
   "source": [
    "### Selection portions of sequences: slicing\n",
    "sequence[<first_index>:<last_index>:<steps>] first index included, last index not included."
   ]
  },
  {
   "cell_type": "code",
   "execution_count": 22,
   "metadata": {},
   "outputs": [
    {
     "name": "stdout",
     "output_type": "stream",
     "text": [
      "B\n",
      "b s\n",
      "Bologna\n",
      "school\n",
      "ologn\n",
      "bologna\n",
      "bologn\n",
      "bologna\n",
      "blga\n",
      "aglb\n",
      "\n",
      "30\n",
      "20\n",
      "10\n",
      "(30,)\n",
      "angolob\n",
      "bologna\n"
     ]
    }
   ],
   "source": [
    "s=\"Bologna b school\"\n",
    "print(s[0])\n",
    "print(s[8:11])\n",
    "print(s[:7])\n",
    "print(s[10:])\n",
    "s=\"bologna\"\n",
    "print(s[1:-1])\n",
    "print(s[:])\n",
    "print(s[:-1])\n",
    "print(s[0:])\n",
    "print(s[::2])# number of steps\n",
    "print(s[::-2])\n",
    "print(s[8:-1:-1])#empty string\n",
    "s=(10,20,30)\n",
    "W=S[:]# creates a copy of S in W. This is the method for produce copy in python.\n",
    "for i in s[::-1]:\n",
    "    print(i)\n",
    "print(s[-1:])\n",
    "s=\"bologna\"\n",
    "print(s[::-1])\n",
    "print(s)\n",
    "\n"
   ]
  },
  {
   "cell_type": "markdown",
   "metadata": {},
   "source": [
    "range(<start>,<end>,<step>)"
   ]
  },
  {
   "cell_type": "code",
   "execution_count": 18,
   "metadata": {},
   "outputs": [
    {
     "name": "stdout",
     "output_type": "stream",
     "text": [
      "0\n",
      "1\n",
      "2\n",
      "3\n",
      "4\n",
      "5\n",
      "6\n",
      "7\n",
      "8\n",
      "9\n",
      "2\n",
      "3\n",
      "4\n",
      "5\n",
      "6\n",
      "7\n",
      "8\n",
      "9\n",
      "2\n",
      "4\n",
      "6\n",
      "8\n"
     ]
    }
   ],
   "source": [
    "for i in range(10):\n",
    "    print(i)\n",
    "    \n",
    "for i in range(2,10):\n",
    "    print(i)\n",
    "for i in range(2,10,2):\n",
    "    print(i)"
   ]
  },
  {
   "cell_type": "markdown",
   "metadata": {},
   "source": [
    "Insert the code done by the prof"
   ]
  },
  {
   "cell_type": "markdown",
   "metadata": {},
   "source": [
    "Aggiungi gli appunti disegnati di nico"
   ]
  },
  {
   "cell_type": "markdown",
   "metadata": {},
   "source": [
    "Iterations without for"
   ]
  },
  {
   "cell_type": "code",
   "execution_count": 19,
   "metadata": {},
   "outputs": [
    {
     "name": "stdout",
     "output_type": "stream",
     "text": [
      "4\n"
     ]
    }
   ],
   "source": [
    "from random import randint\n",
    "A=randint(0,5)# five included\n",
    "\n",
    "\n",
    "print(A)\n"
   ]
  },
  {
   "cell_type": "code",
   "execution_count": 20,
   "metadata": {},
   "outputs": [
    {
     "name": "stdout",
     "output_type": "stream",
     "text": [
      "A\n"
     ]
    }
   ],
   "source": [
    "while A!=1 :\n",
    "    A=1\n",
    "\n",
    "print(\"A\")    \n"
   ]
  },
  {
   "cell_type": "markdown",
   "metadata": {},
   "source": [
    "### List"
   ]
  },
  {
   "cell_type": "markdown",
   "metadata": {},
   "source": [
    "Mutable sequences of values. Objects modifiable."
   ]
  },
  {
   "cell_type": "code",
   "execution_count": 21,
   "metadata": {},
   "outputs": [
    {
     "name": "stdout",
     "output_type": "stream",
     "text": [
      "1415970439552\n",
      "1415970439552\n"
     ]
    }
   ],
   "source": [
    "T=(10,20,30)\n",
    "L=[10,20,30]\n",
    "#T[0]=10\n",
    "L[0]=20\n",
    "print(id(L))\n",
    "L[1]=200\n",
    "print(id(L))\n",
    "#The id doesnt change"
   ]
  }
 ],
 "metadata": {
  "kernelspec": {
   "display_name": "Python 3.9.4 64-bit",
   "language": "python",
   "name": "python3"
  },
  "language_info": {
   "codemirror_mode": {
    "name": "ipython",
    "version": 3
   },
   "file_extension": ".py",
   "mimetype": "text/x-python",
   "name": "python",
   "nbconvert_exporter": "python",
   "pygments_lexer": "ipython3",
   "version": "3.9.4"
  },
  "orig_nbformat": 4,
  "vscode": {
   "interpreter": {
    "hash": "81794d4967e6c3204c66dcd87b604927b115b27c00565d3d43f05ba2f3a2cb0d"
   }
  }
 },
 "nbformat": 4,
 "nbformat_minor": 2
}
