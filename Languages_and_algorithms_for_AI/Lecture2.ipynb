{
 "cells": [
  {
   "cell_type": "markdown",
   "metadata": {},
   "source": [
    "# Python Lecture 21/09/2022\n"
   ]
  },
  {
   "cell_type": "code",
   "execution_count": 9,
   "metadata": {},
   "outputs": [
    {
     "ename": "TypeError",
     "evalue": "argument of type 'int' is not iterable",
     "output_type": "error",
     "traceback": [
      "\u001b[1;31m---------------------------------------------------------------------------\u001b[0m",
      "\u001b[1;31mTypeError\u001b[0m                                 Traceback (most recent call last)",
      "Cell \u001b[1;32mIn [9], line 23\u001b[0m\n\u001b[0;32m     20\u001b[0m                 tupla\u001b[38;5;241m+\u001b[39m\u001b[38;5;241m=\u001b[39m((j,i,i\u001b[38;5;241m*\u001b[39mj),)\n\u001b[0;32m     22\u001b[0m     \u001b[38;5;28;01mreturn\u001b[39;00m tupla            \n\u001b[1;32m---> 23\u001b[0m \u001b[38;5;28mprint\u001b[39m(\u001b[43mmagic\u001b[49m\u001b[43m(\u001b[49m\u001b[38;5;241;43m1990\u001b[39;49m\u001b[43m,\u001b[49m\u001b[38;5;241;43m2000\u001b[39;49m\u001b[43m)\u001b[49m)\n",
      "Cell \u001b[1;32mIn [9], line 19\u001b[0m, in \u001b[0;36mmagic\u001b[1;34m(start, end)\u001b[0m\n\u001b[0;32m     17\u001b[0m \u001b[38;5;28;01mfor\u001b[39;00m i \u001b[38;5;129;01min\u001b[39;00m \u001b[38;5;28mrange\u001b[39m(\u001b[38;5;241m12\u001b[39m):\n\u001b[0;32m     18\u001b[0m     \u001b[38;5;28;01mfor\u001b[39;00m j \u001b[38;5;129;01min\u001b[39;00m \u001b[38;5;28mrange\u001b[39m(\u001b[38;5;241m31\u001b[39m):\n\u001b[1;32m---> 19\u001b[0m         \u001b[38;5;28;01mif\u001b[39;00m \u001b[43mi\u001b[49m\u001b[38;5;241;43m*\u001b[39;49m\u001b[43mj\u001b[49m\u001b[43m \u001b[49m\u001b[38;5;129;43;01min\u001b[39;49;00m\u001b[43m \u001b[49m\u001b[43mbetween\u001b[49m\u001b[43m(\u001b[49m\u001b[43mstart\u001b[49m\u001b[43m,\u001b[49m\u001b[43mend\u001b[49m\u001b[43m)\u001b[49m\u001b[43m[\u001b[49m\u001b[43mi\u001b[49m\u001b[43m]\u001b[49m:\n\u001b[0;32m     20\u001b[0m             tupla\u001b[38;5;241m+\u001b[39m\u001b[38;5;241m=\u001b[39m((j,i,i\u001b[38;5;241m*\u001b[39mj),)\n\u001b[0;32m     22\u001b[0m \u001b[38;5;28;01mreturn\u001b[39;00m tupla\n",
      "\u001b[1;31mTypeError\u001b[0m: argument of type 'int' is not iterable"
     ]
    }
   ],
   "source": [
    "#do not insert print or tests\n",
    "def between(start,end):\n",
    "    vec=()\n",
    "    if end!=00:\n",
    "        for i in range(end-start):\n",
    "            vec+=(start+i,)\n",
    "    if end==00:\n",
    "         for i in range(100-start):\n",
    "            vec+=(start+i,)\n",
    "    return vec\n",
    "def magic(start,end):\n",
    "    start=tuple(str(start))\n",
    "    start=int(start[2])*10+int(start[3])\n",
    "    end=tuple(str(end))\n",
    "    end=int(end[2])*10+int(end[3])\n",
    "    tupla=()\n",
    "    for i in range(12):\n",
    "        for j in range(31):\n",
    "            if i*j in between(start,end):\n",
    "                tupla+=((j,i,i*j),)\n",
    "        \n",
    "    return tupla            \n",
    "print(magic(1990,2000))"
   ]
  },
  {
   "cell_type": "markdown",
   "metadata": {},
   "source": [
    "### The expression that evaluates the if must be bool. "
   ]
  },
  {
   "cell_type": "code",
   "execution_count": 1,
   "metadata": {},
   "outputs": [
    {
     "name": "stdout",
     "output_type": "stream",
     "text": [
      "positive\n",
      "*******\n",
      "after\n"
     ]
    }
   ],
   "source": [
    "A=3\n",
    "if A>0 :\n",
    "    print(\"positive\")\n",
    "    print(\"*******\")\n",
    "else:\n",
    "    print(\"negative\")\n",
    "    print(\"+++++++++\")\n",
    "print(\"after\")\n",
    "\n",
    "\n"
   ]
  },
  {
   "cell_type": "markdown",
   "metadata": {},
   "source": [
    "Congiunction wrote by writing and, or writing or."
   ]
  },
  {
   "cell_type": "markdown",
   "metadata": {},
   "source": [
    "Comparison operator are like  in c++. Logical operator are lazy evaluating. In python expression and commands are completely evaluated from left and right. For example 7*0*int(input()) is performed even if the result is alwas 0.\n",
    "We avaluate expression from left and rigth :\n",
    "(0==0) and (0==1) and (0==int(input())) is not evaluated beacause the first two returns a false. Lazy evaluation of boolean expression\n"
   ]
  },
  {
   "cell_type": "code",
   "execution_count": 2,
   "metadata": {},
   "outputs": [
    {
     "name": "stdout",
     "output_type": "stream",
     "text": [
      "-2.0\n"
     ]
    }
   ],
   "source": [
    "x=1\n",
    "y=2\n",
    "if x==0 :\n",
    "    print(\"0\")\n",
    "else:\n",
    "    if y<0:\n",
    "         print(y/x)\n",
    "    else:\n",
    "        if y>0:\n",
    "            print(-y/x)\n",
    "        else:\n",
    "            print(100)\n",
    "    \n",
    "    \n",
    "    \n",
    "    "
   ]
  },
  {
   "cell_type": "markdown",
   "metadata": {},
   "source": [
    "when you test a program test all the possible cases"
   ]
  },
  {
   "cell_type": "markdown",
   "metadata": {},
   "source": [
    "### Elif statement"
   ]
  },
  {
   "cell_type": "code",
   "execution_count": 4,
   "metadata": {},
   "outputs": [
    {
     "name": "stdout",
     "output_type": "stream",
     "text": [
      "0.5\n"
     ]
    }
   ],
   "source": [
    "x=-2\n",
    "y=1\n",
    "if x==0:\n",
    "    print(0)\n",
    "elif y<0:\n",
    "    print(y/x)\n",
    "elif y>0:\n",
    "    print(-y/x)\n",
    "else:\n",
    "    print(100)\n"
   ]
  },
  {
   "cell_type": "markdown",
   "metadata": {},
   "source": [
    "Python doesn't introduce local scopes unless we are in a function"
   ]
  },
  {
   "cell_type": "markdown",
   "metadata": {},
   "source": [
    "### Importing libraries"
   ]
  },
  {
   "cell_type": "markdown",
   "metadata": {},
   "source": [
    "Python uses libraries that doesn't come with python. The sintact is the following:\n",
    "from math import sqrt.\n",
    "For importing all names from a module : from module import *.\n",
    "In general I want to import only the names that I use because it may create conflict of names."
   ]
  },
  {
   "cell_type": "code",
   "execution_count": 5,
   "metadata": {},
   "outputs": [
    {
     "name": "stdout",
     "output_type": "stream",
     "text": [
      "3.141592653589793\n",
      "1.4142135623730951 2.718281828459045\n"
     ]
    }
   ],
   "source": [
    "from math import pi\n",
    "print(pi)\n",
    "from math import sqrt,e\n",
    "print(sqrt(2),e)\n",
    "from math import * #like that we import all the names from a module.\n",
    "import math #like that i'm not importing the names. Like std:: in c++\n",
    "math.e"
   ]
  },
  {
   "cell_type": "markdown",
   "metadata": {},
   "source": [
    "### Functions"
   ]
  },
  {
   "cell_type": "markdown",
   "metadata": {},
   "source": [
    "Sequence of command that performs a computation. \n",
    "I want to permorm the volume of a cilinder by using a function"
   ]
  },
  {
   "cell_type": "code",
   "execution_count": 6,
   "metadata": {},
   "outputs": [
    {
     "name": "stdout",
     "output_type": "stream",
     "text": [
      "125.66370614359172\n"
     ]
    }
   ],
   "source": [
    "import math\n",
    "def vol_cyl(radious,height):\n",
    "    area=radious**2*math.pi\n",
    "    return area*height\n",
    "\n",
    "print(vol_cyl(2,10))\n"
   ]
  },
  {
   "cell_type": "markdown",
   "metadata": {},
   "source": [
    "Function modularize our code, I split the code in subproblem and i combine the solutions of all the subproblems in the solution of the original problem."
   ]
  },
  {
   "cell_type": "code",
   "execution_count": 7,
   "metadata": {},
   "outputs": [
    {
     "name": "stdout",
     "output_type": "stream",
     "text": [
      "62.83185307179586\n"
     ]
    }
   ],
   "source": [
    "import math\n",
    "def area_circle(r):\n",
    "    return r**2*math.pi\n",
    "def vol_cyl(r,h):\n",
    "    return area_circle(r)*h\n",
    "print(vol_cyl(2,5))"
   ]
  },
  {
   "cell_type": "markdown",
   "metadata": {},
   "source": [
    "Functions can have a definition and the use. The def rapresent the definition. The calling is done by writing the name of the functions with her parameters. The call of a function is an expression and we are interested in her value. In  the the case talked before we are interested in the number that the function return. When you call a function all the argument are evaluated. The scope of the arguments in functions is the function itself, called frame."
   ]
  },
  {
   "cell_type": "markdown",
   "metadata": {},
   "source": [
    "Return is a reserved name. Return it forces the termination of the execution of the body. The value of expression is returned as the value of the function call. "
   ]
  },
  {
   "cell_type": "markdown",
   "metadata": {},
   "source": [
    "What is the type of a function? type( val_cyl)= class \"function\". Any function call creates the internal frame. And after the execution of the function the frame is destroied. Any name on the left side of an assignement inside the body of a function it is local to that function. "
   ]
  },
  {
   "cell_type": "code",
   "execution_count": 8,
   "metadata": {},
   "outputs": [
    {
     "name": "stdout",
     "output_type": "stream",
     "text": [
      "20 200 20\n"
     ]
    }
   ],
   "source": [
    "A=20\n",
    "def local_scope_A():\n",
    "    A=200\n",
    "    return A\n",
    "def global_scope_A():\n",
    "    B=A\n",
    "   # A=2000 this should produce error for python. Because for python we are using a name before giving it a value.\n",
    "    return B\n",
    "print(A,local_scope_A(),global_scope_A())"
   ]
  },
  {
   "cell_type": "markdown",
   "metadata": {},
   "source": [
    "It's not an error define a function without the return. If there is no return an implicit return is done ad the function returns none.\n",
    "Similar to void in c++.Look how we can assign a function to a name."
   ]
  },
  {
   "cell_type": "code",
   "execution_count": 13,
   "metadata": {},
   "outputs": [
    {
     "name": "stdout",
     "output_type": "stream",
     "text": [
      "three times x is:  9\n",
      "three times x is:  12\n",
      "three times x is:  12\n",
      "None\n",
      "three times x is:  24\n"
     ]
    }
   ],
   "source": [
    "def triple(x):\n",
    "    x=abs(x)#pre-defined function\n",
    "    print(\"three times x is: \",3*x)\n",
    "    return None\n",
    "triple(3)\n",
    "triple(-4)\n",
    "print(triple(-4))\n",
    "MYT=triple\n",
    "MYT(-8)\n",
    "    "
   ]
  },
  {
   "cell_type": "code",
   "execution_count": 17,
   "metadata": {},
   "outputs": [
    {
     "name": "stdout",
     "output_type": "stream",
     "text": [
      "2\n",
      "5\n"
     ]
    }
   ],
   "source": [
    "def twice(f,x=0):\n",
    "    return f(f(x))\n",
    "def succ(n):\n",
    "    return n+1\n",
    "print(twice(succ))\n",
    "print(twice(succ,3))"
   ]
  },
  {
   "cell_type": "markdown",
   "metadata": {},
   "source": [
    "### Repetitions, loops"
   ]
  },
  {
   "cell_type": "markdown",
   "metadata": {},
   "source": [
    "I want to do a loop."
   ]
  },
  {
   "cell_type": "code",
   "execution_count": 18,
   "metadata": {},
   "outputs": [
    {
     "name": "stdout",
     "output_type": "stream",
     "text": [
      "C\n",
      "O\n",
      "O\n",
      "P\n"
     ]
    }
   ],
   "source": [
    "s=\"COOP\"\n",
    "for c in s:\n",
    "    print(c)"
   ]
  },
  {
   "cell_type": "code",
   "execution_count": 21,
   "metadata": {},
   "outputs": [
    {
     "name": "stdout",
     "output_type": "stream",
     "text": [
      "s\n",
      "i\n",
      "u\n",
      "m\n",
      "s\n",
      "i\n",
      "u\n",
      "m\n",
      "s\n",
      "i\n",
      "u\n",
      "m\n"
     ]
    }
   ],
   "source": [
    "def non_blank(st):\n",
    "    for el in st:\n",
    "        if el!=\" \":\n",
    "            print(el)\n",
    "non_blank(\"sium sium sium\")"
   ]
  },
  {
   "cell_type": "markdown",
   "metadata": {},
   "source": [
    "For name in sequence:\n",
    "block\n",
    "The sequence is frozen. True bounded iteration. The lenght of s will controllo how mani times the body will be evaluated."
   ]
  },
  {
   "cell_type": "code",
   "execution_count": 24,
   "metadata": {},
   "outputs": [
    {
     "name": "stdout",
     "output_type": "stream",
     "text": [
      "c\n",
      "o\n",
      "o\n",
      "p\n",
      "coopcoop\n"
     ]
    }
   ],
   "source": [
    "s=\"coop\"\n",
    "for c in s:\n",
    "    s=s+c\n",
    "    print(c)\n",
    "    #in the for loop the sequence is unmodifiable. SO this is not an infinite loop\n",
    "print(s)"
   ]
  },
  {
   "cell_type": "markdown",
   "metadata": {},
   "source": [
    "Boolean Operator in. Comparison operator. Checks if something is presence in a sequence. \"s\" in \"coop\" => false. \"si\" in \"simone\"=> true. "
   ]
  }
 ],
 "metadata": {
  "kernelspec": {
   "display_name": "Python 3.9.4 64-bit",
   "language": "python",
   "name": "python3"
  },
  "language_info": {
   "codemirror_mode": {
    "name": "ipython",
    "version": 3
   },
   "file_extension": ".py",
   "mimetype": "text/x-python",
   "name": "python",
   "nbconvert_exporter": "python",
   "pygments_lexer": "ipython3",
   "version": "3.9.4"
  },
  "orig_nbformat": 4,
  "vscode": {
   "interpreter": {
    "hash": "81794d4967e6c3204c66dcd87b604927b115b27c00565d3d43f05ba2f3a2cb0d"
   }
  }
 },
 "nbformat": 4,
 "nbformat_minor": 2
}
