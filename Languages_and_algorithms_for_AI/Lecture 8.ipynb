{
 "cells": [
  {
   "cell_type": "markdown",
   "metadata": {},
   "source": [
    "# Lecture 8"
   ]
  },
  {
   "cell_type": "code",
   "execution_count": 2,
   "metadata": {},
   "outputs": [
    {
     "name": "stdout",
     "output_type": "stream",
     "text": [
      "[0 1 2 3 4 3 4 3]\n",
      "None\n",
      "[0 1 2 3 4 3 4 3]\n"
     ]
    }
   ],
   "source": [
    "import numpy as np\n",
    "N=np.array([0,1,2,3,4,3,4,3])\n",
    "N.reshape((4,2))\n",
    "print(N)\n",
    "print(N.base)\n",
    "print(N)"
   ]
  },
  {
   "cell_type": "code",
   "execution_count": 11,
   "metadata": {},
   "outputs": [
    {
     "name": "stdout",
     "output_type": "stream",
     "text": [
      "[[0. 1. 2.]\n",
      " [1. 2. 3.]\n",
      " [2. 3. 4.]]\n",
      "[[0. 1. 2.]\n",
      " [1. 2. 3.]\n",
      " [2. 3. 4.]]\n"
     ]
    }
   ],
   "source": [
    "def f(i,j):\n",
    "    return i+j\n",
    "ca=np.fromfunction(f,(3,3))\n",
    "print(ca)\n",
    "ca=np.fromfunction(lambda i,j: i+j, (3,3))\n",
    "print(ca)"
   ]
  },
  {
   "cell_type": "code",
   "execution_count": 17,
   "metadata": {},
   "outputs": [
    {
     "name": "stdout",
     "output_type": "stream",
     "text": [
      "[[5. 4. 3.]\n",
      " [0. 0. 0.]\n",
      " [0. 0. 0.]]\n",
      "[[5. 4. 3.]\n",
      " [0. 0. 0.]]\n"
     ]
    }
   ],
   "source": [
    "ca[1][2]#don't use it\n",
    "ca[1,2]#usa questo\n",
    "x=np.zeros((3,3))\n",
    "x[0]=np.array([5,4,3])\n",
    "print(x)\n",
    "print(x[:2])\n"
   ]
  },
  {
   "cell_type": "code",
   "execution_count": 24,
   "metadata": {},
   "outputs": [
    {
     "data": {
      "text/plain": [
       "array([0., 2.])"
      ]
     },
     "execution_count": 24,
     "metadata": {},
     "output_type": "execute_result"
    }
   ],
   "source": [
    "ca[0,0::2]\n"
   ]
  },
  {
   "cell_type": "code",
   "execution_count": 25,
   "metadata": {},
   "outputs": [
    {
     "data": {
      "text/plain": [
       "array([[1, 2, 3, 4]])"
      ]
     },
     "execution_count": 25,
     "metadata": {},
     "output_type": "execute_result"
    }
   ],
   "source": [
    "x=np.array([1,2,3,4])\n",
    "x[np.newaxis,:]\n"
   ]
  },
  {
   "cell_type": "code",
   "execution_count": 42,
   "metadata": {},
   "outputs": [
    {
     "name": "stdout",
     "output_type": "stream",
     "text": [
      "2\n"
     ]
    }
   ],
   "source": [
    "class Porco():\n",
    "    me=0\n",
    "    def __init__(self,pippolacoca=0):\n",
    "        self.me=pippolacoca\n",
    "x=Porco()\n",
    "x=Porco(2)\n",
    "print(x.me)\n"
   ]
  },
  {
   "cell_type": "code",
   "execution_count": 62,
   "metadata": {},
   "outputs": [
    {
     "name": "stdout",
     "output_type": "stream",
     "text": [
      "[ 0 21 15]\n",
      "6\n"
     ]
    }
   ],
   "source": [
    "#np.random.seed(3)\n"
   ]
  },
  {
   "cell_type": "code",
   "execution_count": null,
   "metadata": {},
   "outputs": [],
   "source": [
    "a.sum(axis=0)#along la prima colonna\n",
    "a.sum(axis=1)#riga\n"
   ]
  },
  {
   "cell_type": "code",
   "execution_count": 6,
   "metadata": {},
   "outputs": [],
   "source": [
    "b=np.array((2,3,4,5))\n"
   ]
  },
  {
   "cell_type": "code",
   "execution_count": 15,
   "metadata": {},
   "outputs": [
    {
     "name": "stdout",
     "output_type": "stream",
     "text": [
      "[0 1 2 3 4 5]\n",
      "[ 0 10 20 30 40 50]\n",
      "[[ 0  1  2  3  4  5]\n",
      " [10 11 12 13 14 15]\n",
      " [20 21 22 23 24 25]\n",
      " [30 31 32 33 34 35]\n",
      " [40 41 42 43 44 45]\n",
      " [50 51 52 53 54 55]]\n"
     ]
    }
   ],
   "source": [
    "a=np.array([2,3,4,5,6])+1\n",
    "a\n",
    "a=a%2\n",
    "a\n",
    "a+np.array([1])\n",
    "a=np.array([[1,2,3],[4,5,6]])\n",
    "b=np.array([7,8,9])\n",
    "a+b#somma a tutto il vettore questo altro vettore\n",
    "a=np.arange(6)\n",
    "print(a)\n",
    "b=np.arange(0,60,10)\n",
    "print(b)\n",
    "T=b[:,np.newaxis]+a[np.newaxis,:]#guarda un po' le dimensioni (6,1)+(1,6) lo fa zio pera\n",
    "print(T)"
   ]
  },
  {
   "cell_type": "code",
   "execution_count": 1,
   "metadata": {},
   "outputs": [
    {
     "ename": "SyntaxError",
     "evalue": "name 'A' is assigned to before global declaration (3545741148.py, line 7)",
     "output_type": "error",
     "traceback": [
      "\u001b[1;36m  Cell \u001b[1;32mIn [1], line 7\u001b[1;36m\u001b[0m\n\u001b[1;33m    global A\u001b[0m\n\u001b[1;37m    ^\u001b[0m\n\u001b[1;31mSyntaxError\u001b[0m\u001b[1;31m:\u001b[0m name 'A' is assigned to before global declaration\n"
     ]
    }
   ],
   "source": [
    "#prime due domande su python, non difficoltà di computazione 6+6 punti\n",
    "#sull understanding della lingua 7 points programming on sequences\n",
    "# 7 points between programming and knowledge of the language\n",
    "#use numpy 7, you can't use standard python featurs\n",
    "A=[10,20,30]\n",
    "X=A\n",
    "def f():\n",
    "    A=10\n",
    "    x= A\n",
    "    "
   ]
  }
 ],
 "metadata": {
  "kernelspec": {
   "display_name": "Python 3.9.4 64-bit",
   "language": "python",
   "name": "python3"
  },
  "language_info": {
   "codemirror_mode": {
    "name": "ipython",
    "version": 3
   },
   "file_extension": ".py",
   "mimetype": "text/x-python",
   "name": "python",
   "nbconvert_exporter": "python",
   "pygments_lexer": "ipython3",
   "version": "3.9.4"
  },
  "orig_nbformat": 4,
  "vscode": {
   "interpreter": {
    "hash": "81794d4967e6c3204c66dcd87b604927b115b27c00565d3d43f05ba2f3a2cb0d"
   }
  }
 },
 "nbformat": 4,
 "nbformat_minor": 2
}
