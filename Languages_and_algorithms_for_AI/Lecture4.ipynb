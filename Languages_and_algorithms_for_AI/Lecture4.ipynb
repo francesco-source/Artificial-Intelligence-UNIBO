{
 "cells": [
  {
   "cell_type": "markdown",
   "metadata": {},
   "source": [
    "# Lecture 4: Dictionary"
   ]
  },
  {
   "cell_type": "code",
   "execution_count": 68,
   "metadata": {},
   "outputs": [
    {
     "name": "stdout",
     "output_type": "stream",
     "text": [
      "['w', 'h', 'e', 'n', ' ', 'i', 't', 'c', 'o', 'u', 'r', 's', 'f', 'm', 'a', 'v']\n",
      "[0, 2, 4, 3, 5, 0, 1, 0, 1, 1, 0, 2, 0, 0, 0, 0]\n"
     ]
    }
   ],
   "source": [
    "LC=\"when in the course of humans events\"\n",
    "LL=[]#list of letters\n",
    "FL=[]#frequency count\n",
    "for e in LC:\n",
    "    if e not in (LL):\n",
    "        LL.append(e)\n",
    "        FL.append(0)\n",
    "    else:\n",
    "        FL[LL.index(e)]+=1\n",
    "print(LL)\n",
    "print(FL)\n",
    "\n",
    "\n",
    "\n",
    "    "
   ]
  },
  {
   "cell_type": "markdown",
   "metadata": {},
   "source": [
    "**in** cost linear on the sequence lenght, quite inefficient solution if LL is a very long sequence.\n",
    "Dictionaries are the sokution of both of this problems"
   ]
  },
  {
   "cell_type": "code",
   "execution_count": 69,
   "metadata": {},
   "outputs": [
    {
     "name": "stdout",
     "output_type": "stream",
     "text": [
      "{'w': 1, 'h': 3, 'e': 5, 'n': 4, ' ': 6, 'i': 1, 't': 2, 'c': 1, 'o': 2, 'u': 2, 'r': 1, 's': 3, 'f': 1, 'm': 1, 'a': 1, 'v': 1}\n"
     ]
    }
   ],
   "source": [
    "FCD={}\n",
    "for e in LC:\n",
    "    if e not in FCD:\n",
    "        FCD[e]=1\n",
    "    else:\n",
    "        FCD[e]+=1\n",
    "print(FCD)"
   ]
  },
  {
   "cell_type": "markdown",
   "metadata": {},
   "source": [
    "Dictionaries cost one time,not linear cost computations\n",
    "\n",
    "We have keys and objects. The keys are all distinct and are immutable types. "
   ]
  },
  {
   "cell_type": "code",
   "execution_count": 70,
   "metadata": {},
   "outputs": [
    {
     "name": "stdout",
     "output_type": "stream",
     "text": [
      "{1: 'simone', 2: 'maria', 3: 'teresa'}\n",
      "{1: 'marco', 2: 'maria', 3: 'teresa'}\n",
      "{(1, 2): 100, 9: 'simone', 2: [1, 2, 3, 4, 5]}\n"
     ]
    },
    {
     "ename": "TypeError",
     "evalue": "unhashable type: 'list'",
     "output_type": "error",
     "traceback": [
      "\u001b[1;31m---------------------------------------------------------------------------\u001b[0m",
      "\u001b[1;31mTypeError\u001b[0m                                 Traceback (most recent call last)",
      "Cell \u001b[1;32mIn [70], line 7\u001b[0m\n\u001b[0;32m      5\u001b[0m G\u001b[39m=\u001b[39m{(\u001b[39m1\u001b[39m,\u001b[39m2\u001b[39m):\u001b[39m100\u001b[39m,\u001b[39m9\u001b[39m:\u001b[39m\"\u001b[39m\u001b[39msimone\u001b[39m\u001b[39m\"\u001b[39m,\u001b[39m2\u001b[39m:[\u001b[39m1\u001b[39m,\u001b[39m2\u001b[39m,\u001b[39m3\u001b[39m,\u001b[39m4\u001b[39m,\u001b[39m5\u001b[39m]}\n\u001b[0;32m      6\u001b[0m \u001b[39mprint\u001b[39m(G)\n\u001b[1;32m----> 7\u001b[0m GG\u001b[39m=\u001b[39m{(\u001b[39m1\u001b[39m,[\u001b[39m1\u001b[39m,\u001b[39m2\u001b[39m]):\u001b[39m100\u001b[39m}\n",
      "\u001b[1;31mTypeError\u001b[0m: unhashable type: 'list'"
     ]
    }
   ],
   "source": [
    "D={1:\"simone\",2:\"maria\",3:\"teresa\"}\n",
    "F={1:\"simone\",2:\"maria\",3:\"teresa\",1:\"marco\"}\n",
    "print(D)\n",
    "print(F)\n",
    "G={(1,2):100,9:\"simone\",2:[1,2,3,4,5]}\n",
    "print(G)\n",
    "GG={(1,[1,2]):100}#not values because has a component of not immutable types: list\n",
    "\n"
   ]
  },
  {
   "cell_type": "markdown",
   "metadata": {},
   "source": [
    "Main operations: len(D), number of items(pairs)"
   ]
  },
  {
   "cell_type": "code",
   "execution_count": null,
   "metadata": {},
   "outputs": [
    {
     "name": "stdout",
     "output_type": "stream",
     "text": [
      "3\n",
      "[1, 2, 3, 4, 5]\n",
      "{(1, 2): 100, 9: 'simone', 2: 'franco'}\n"
     ]
    }
   ],
   "source": [
    "print(len(G))\n",
    "print(G[2])\n",
    "G[2]=\"franco\"\n",
    "print(G)\n"
   ]
  },
  {
   "cell_type": "code",
   "execution_count": null,
   "metadata": {},
   "outputs": [
    {
     "ename": "KeyError",
     "evalue": "5",
     "output_type": "error",
     "traceback": [
      "\u001b[1;31m---------------------------------------------------------------------------\u001b[0m",
      "\u001b[1;31mKeyError\u001b[0m                                  Traceback (most recent call last)",
      "Cell \u001b[1;32mIn [22], line 1\u001b[0m\n\u001b[1;32m----> 1\u001b[0m \u001b[39mprint\u001b[39m(G[\u001b[39m5\u001b[39;49m])\n",
      "\u001b[1;31mKeyError\u001b[0m: 5"
     ]
    }
   ],
   "source": [
    "print(G[5])\n"
   ]
  },
  {
   "cell_type": "code",
   "execution_count": null,
   "metadata": {},
   "outputs": [
    {
     "name": "stdout",
     "output_type": "stream",
     "text": [
      "{(1, 2): 100, 9: 'simone', 2: [1, 2, 3, 4, 5], 5: 'roberta'}\n"
     ]
    }
   ],
   "source": [
    "G[5]=\"roberta\"\n",
    "print(G)\n"
   ]
  },
  {
   "cell_type": "code",
   "execution_count": null,
   "metadata": {},
   "outputs": [
    {
     "name": "stdout",
     "output_type": "stream",
     "text": [
      "False\n",
      "True\n",
      "False\n"
     ]
    }
   ],
   "source": [
    "print(10 in G)\n",
    "print(2 in G)\n",
    "print(\"roberta\" in G)"
   ]
  },
  {
   "cell_type": "code",
   "execution_count": null,
   "metadata": {},
   "outputs": [
    {
     "name": "stdout",
     "output_type": "stream",
     "text": [
      "(1, 2) 100\n",
      "9 simone\n",
      "2 [1, 2, 3, 4, 5]\n",
      "5 roberta\n"
     ]
    }
   ],
   "source": [
    "for k in G:\n",
    "    #loop on the keys of the dictionaries\n",
    "    print(k,G[k])"
   ]
  },
  {
   "cell_type": "markdown",
   "metadata": {},
   "source": [
    "The dictionaries are iquals if they have the same element non in order. You should never relay on the order of the items on the dictionary.\n"
   ]
  },
  {
   "cell_type": "markdown",
   "metadata": {},
   "source": [
    "We have said to never use the for if the lenght of the list is modified.\n",
    "Never use for also in dictionaries if the lenght of dictionaries is modified during the exectuion.\n",
    "In dictionaries is forced by the language. "
   ]
  },
  {
   "cell_type": "code",
   "execution_count": null,
   "metadata": {},
   "outputs": [
    {
     "ename": "RuntimeError",
     "evalue": "dictionary changed size during iteration",
     "output_type": "error",
     "traceback": [
      "\u001b[1;31m---------------------------------------------------------------------------\u001b[0m",
      "\u001b[1;31mRuntimeError\u001b[0m                              Traceback (most recent call last)",
      "Cell \u001b[1;32mIn [27], line 1\u001b[0m\n\u001b[1;32m----> 1\u001b[0m \u001b[39mfor\u001b[39;00m k \u001b[39min\u001b[39;00m G:\n\u001b[0;32m      2\u001b[0m     \u001b[39mif\u001b[39;00m k\u001b[39m==\u001b[39m\u001b[39m2\u001b[39m:\n\u001b[0;32m      3\u001b[0m         \u001b[39mdel\u001b[39;00m G[k]\n",
      "\u001b[1;31mRuntimeError\u001b[0m: dictionary changed size during iteration"
     ]
    }
   ],
   "source": [
    "for k in G:\n",
    "    if k==2:\n",
    "        del G[k]\n"
   ]
  },
  {
   "cell_type": "code",
   "execution_count": null,
   "metadata": {},
   "outputs": [
    {
     "name": "stdout",
     "output_type": "stream",
     "text": [
      "{'w': 1, 'h': 3, 'e': 5, 'n': 4, ' ': 6, 'i': 1, 't': 2, 'c': 1, 'o': 2, 'u': 2, 'r': 1, 's': 3, 'f': 1, 'm': 1, 'a': 1, 'v': 1}\n",
      "1\n",
      "dict_keys(['w', 'h', 'e', 'n', ' ', 'i', 't', 'c', 'o', 'u', 'r', 's', 'f', 'm', 'a', 'v'])\n",
      "dict_values([1, 3, 5, 4, 6, 1, 2, 1, 2, 2, 1, 3, 1, 1, 1, 1])\n",
      "dict_items([('w', 1), ('h', 3), ('e', 5), ('n', 4), (' ', 6), ('i', 1), ('t', 2), ('c', 1), ('o', 2), ('u', 2), ('r', 1), ('s', 3), ('f', 1), ('m', 1), ('a', 1), ('v', 1)])\n",
      "dict_keys(['w', 'h', 'e', 'n', ' ', 'i', 't', 'c', 'o', 'u', 'r', 's', 'f', 'm', 'a', 'v'])\n",
      "<class 'dict_keys'>\n",
      "w\n",
      "h\n",
      "e\n",
      "n\n",
      " \n",
      "i\n",
      "t\n",
      "c\n",
      "o\n",
      "u\n",
      "r\n",
      "s\n",
      "f\n",
      "m\n",
      "a\n",
      "v\n",
      "10\n",
      "3\n",
      "5\n",
      "4\n",
      "6\n",
      "1\n",
      "2\n",
      "1\n",
      "2\n",
      "2\n",
      "1\n",
      "3\n",
      "1\n",
      "1\n",
      "1\n",
      "1\n"
     ]
    }
   ],
   "source": [
    "\n",
    "\n",
    "\n",
    "FCD={}\n",
    "for k in LC:\n",
    "    FCD[k]=FCD.get(k,0)+1\n",
    "print(FCD)\n",
    "print(FCD.get(\"w\",0))\n",
    "print(FCD.keys())\n",
    "print(FCD.values())\n",
    "print(FCD.items())\n",
    "DK=FCD.keys()#every modification you do on the FCD is done also on the DK\n",
    "print(DK)\n",
    "FCD[\"w\"]=10\n",
    "print(type(DK))\n",
    "for e in DK:\n",
    "    print(e)\n",
    "for e in FCD.values():\n",
    "    print(e)\n"
   ]
  },
  {
   "cell_type": "code",
   "execution_count": null,
   "metadata": {},
   "outputs": [
    {
     "ename": "TypeError",
     "evalue": "'dict_keys' object does not support item assignment",
     "output_type": "error",
     "traceback": [
      "\u001b[1;31m---------------------------------------------------------------------------\u001b[0m",
      "\u001b[1;31mTypeError\u001b[0m                                 Traceback (most recent call last)",
      "Cell \u001b[1;32mIn [42], line 4\u001b[0m\n\u001b[0;32m      2\u001b[0m DK\u001b[39m=\u001b[39mD\u001b[39m.\u001b[39mkeys()\n\u001b[0;32m      3\u001b[0m LV\u001b[39m=\u001b[39m\u001b[39mlist\u001b[39m(DK)\n\u001b[1;32m----> 4\u001b[0m DK[\u001b[39m1\u001b[39;49m]\u001b[39m=\u001b[39m\u001b[39m1000\u001b[39m\n\u001b[0;32m      5\u001b[0m \u001b[39mprint\u001b[39m(LV)\n",
      "\u001b[1;31mTypeError\u001b[0m: 'dict_keys' object does not support item assignment"
     ]
    }
   ],
   "source": [
    "D={1:1,2:10,3:100}\n",
    "DK=D.keys()\n",
    "LV=list(DK)\n",
    "DK[1]=1000\n",
    "print(LV)"
   ]
  },
  {
   "cell_type": "code",
   "execution_count": null,
   "metadata": {},
   "outputs": [
    {
     "name": "stdout",
     "output_type": "stream",
     "text": [
      "{1: 1, 2: 10, 3: 100, 'cat': 'grigio', 'red': 'rosso'}\n"
     ]
    }
   ],
   "source": [
    "D2={\"cat\":\"grigio\",\"red\":\"rosso\"}\n",
    "D.update(D2)\n",
    "print(D)"
   ]
  },
  {
   "cell_type": "code",
   "execution_count": null,
   "metadata": {},
   "outputs": [
    {
     "name": "stdout",
     "output_type": "stream",
     "text": [
      "True\n"
     ]
    }
   ],
   "source": [
    "print(list(D)==list(D.keys()))"
   ]
  },
  {
   "cell_type": "code",
   "execution_count": null,
   "metadata": {},
   "outputs": [
    {
     "name": "stdout",
     "output_type": "stream",
     "text": [
      "{1: 2, 3: 4, 5: 6}\n"
     ]
    }
   ],
   "source": [
    "print(dict([(1,2),(3,4),(5,6)]))\n"
   ]
  },
  {
   "cell_type": "markdown",
   "metadata": {},
   "source": [
    "How can we axcess the internal state of a python machine? "
   ]
  },
  {
   "cell_type": "code",
   "execution_count": null,
   "metadata": {},
   "outputs": [
    {
     "name": "stdout",
     "output_type": "stream",
     "text": [
      "['ArithmeticError', 'AssertionError', 'AttributeError', 'BaseException', 'BlockingIOError', 'BrokenPipeError', 'BufferError', 'BytesWarning', 'ChildProcessError', 'ConnectionAbortedError', 'ConnectionError', 'ConnectionRefusedError', 'ConnectionResetError', 'DeprecationWarning', 'EOFError', 'Ellipsis', 'EnvironmentError', 'Exception', 'False', 'FileExistsError', 'FileNotFoundError', 'FloatingPointError', 'FutureWarning', 'GeneratorExit', 'IOError', 'ImportError', 'ImportWarning', 'IndentationError', 'IndexError', 'InterruptedError', 'IsADirectoryError', 'KeyError', 'KeyboardInterrupt', 'LookupError', 'MemoryError', 'ModuleNotFoundError', 'NameError', 'None', 'NotADirectoryError', 'NotImplemented', 'NotImplementedError', 'OSError', 'OverflowError', 'PendingDeprecationWarning', 'PermissionError', 'ProcessLookupError', 'RecursionError', 'ReferenceError', 'ResourceWarning', 'RuntimeError', 'RuntimeWarning', 'StopAsyncIteration', 'StopIteration', 'SyntaxError', 'SyntaxWarning', 'SystemError', 'SystemExit', 'TabError', 'TimeoutError', 'True', 'TypeError', 'UnboundLocalError', 'UnicodeDecodeError', 'UnicodeEncodeError', 'UnicodeError', 'UnicodeTranslateError', 'UnicodeWarning', 'UserWarning', 'ValueError', 'Warning', 'WindowsError', 'ZeroDivisionError', '__IPYTHON__', '__build_class__', '__debug__', '__doc__', '__import__', '__loader__', '__name__', '__package__', '__spec__', 'abs', 'all', 'any', 'ascii', 'bin', 'bool', 'breakpoint', 'bytearray', 'bytes', 'callable', 'chr', 'classmethod', 'compile', 'complex', 'copyright', 'credits', 'delattr', 'dict', 'dir', 'display', 'divmod', 'enumerate', 'eval', 'exec', 'execfile', 'filter', 'float', 'format', 'frozenset', 'get_ipython', 'getattr', 'globals', 'hasattr', 'hash', 'help', 'hex', 'id', 'input', 'int', 'isinstance', 'issubclass', 'iter', 'len', 'license', 'list', 'locals', 'map', 'max', 'memoryview', 'min', 'next', 'object', 'oct', 'open', 'ord', 'pow', 'print', 'property', 'range', 'repr', 'reversed', 'round', 'runfile', 'set', 'setattr', 'slice', 'sorted', 'staticmethod', 'str', 'sum', 'super', 'tuple', 'type', 'vars', 'zip']\n"
     ]
    }
   ],
   "source": [
    "#the python machine is not virgin\n",
    "print(dir(__builtins__))"
   ]
  },
  {
   "cell_type": "code",
   "execution_count": null,
   "metadata": {},
   "outputs": [
    {
     "name": "stdout",
     "output_type": "stream",
     "text": [
      "30\n"
     ]
    }
   ],
   "source": [
    "a=10\n",
    "def f(s):\n",
    "    x=20\n",
    "    def g(u):\n",
    "        return u\n",
    "    return s+g(x)\n",
    "w=f(a)\n",
    "print(w)\n",
    "#s and x are non local (!=global) to g"
   ]
  },
  {
   "cell_type": "markdown",
   "metadata": {},
   "source": [
    "We start searching from the local namespace. If doesn't find them then goes on the enclosing scope. If there is no association i gind on the global namespace, if not i'l go on the build in. If not i return an error."
   ]
  },
  {
   "cell_type": "code",
   "execution_count": null,
   "metadata": {},
   "outputs": [],
   "source": [
    "# Inserisci i global e non local examples"
   ]
  },
  {
   "cell_type": "code",
   "execution_count": null,
   "metadata": {},
   "outputs": [
    {
     "name": "stdout",
     "output_type": "stream",
     "text": [
      "{'__name__': '__main__', '__doc__': 'Automatically created module for IPython interactive environment', '__package__': None, '__loader__': None, '__spec__': None, '__builtin__': <module 'builtins' (built-in)>, '__builtins__': <module 'builtins' (built-in)>, '_ih': ['', 'LC=\"when in the course of humans events\"\\nLL=[]\\nFL=[]\\nfor e in LC:', 'LC=\"when in the course of humans events\"\\nLL=[]#list of letters\\nFL=[]#frequency count\\nfor e in LC:\\n    if e is not in LL:\\n        LL.append(e)\\n        \\n    ', 'LC=\"when in the course of humans events\"\\nLL=[]#list of letters\\nFL=[]#frequency count\\nfor e in LC:\\n    if e not in (LL):\\n        LL.append(e)\\n        FL.append(0)\\n    else:\\n        FL[LL.index(e)]+=1\\n    ', 'LC=\"when in the course of humans events\"\\nLL=[]#list of letters\\nFL=[]#frequency count\\nfor e in LC:\\n    if e not in (LL):\\n        LL.append(e)\\n        FL.append(0)\\n    else:\\n        FL[LL.index(e)]+=1\\nprint(LL)\\nprint(FL)\\n\\n    ', 'LC=\"when in the course of humans events\"\\nLL=[]#list of letters\\nFL=[]#frequency count\\nfor e in LC:\\n    if e not in (LL):\\n        LL.append(e)\\n        FL.append(1)\\n    else:\\n        FL[LL.index(e)]+=1\\nprint(LL)\\nprint(FL)\\n\\n    ', 'FCD={}\\nfor i in LC:\\n    if e not in FCD:\\n        FCD[e]=1\\n    else:\\n        FCD[e]+=1\\nprint(FCD)', 'LC=\"when in the course of humans events\"\\nLL=[]#list of letters\\nFL=[]#frequency count\\nfor e in LC:\\n    if e not in (LL):\\n        LL.append(e)\\n        FL.append(0)\\n    else:\\n        FL[LL.index(e)]+=1\\nprint(LL)\\nprint(FL)\\n\\n\\n\\n    ', 'FCD={}\\nfor i in LC:\\n    if e not in FCD:\\n        FCD[e]=1\\n    else:\\n        FCD[e]+=1\\nprint(FCD)', 'FCD={}\\nfor e in LC:\\n    if e not in FCD:\\n        FCD[e]=1\\n    else:\\n        FCD[e]+=1\\nprint(FCD)', 'D={1:\"simone\",2:\"maria\",3:\"teresa\"}\\nF={1:\"simone\",2:\"maria\",3:\"teresa\",1:\"marco\"}', 'D={1:\"simone\",2:\"maria\",3:\"teresa\"}\\nF={1:\"simone\",2:\"maria\",3:\"teresa\",1:\"marco\"}\\nprint(F)', 'D={1:\"simone\",2:\"maria\",3:\"teresa\"}\\nF={1:\"simone\",2:\"maria\",3:\"teresa\",1:\"marco\"}\\nprint(D)\\nprint(F)', 'D={1:\"simone\",2:\"maria\",3:\"teresa\"}\\nF={1:\"simone\",2:\"maria\",3:\"teresa\",1:\"marco\"}\\nprint(D)\\nprint(F)\\nG={(1,2):100,9:\"simone\",2:[1,2,3,4,5]}', 'D={1:\"simone\",2:\"maria\",3:\"teresa\"}\\nF={1:\"simone\",2:\"maria\",3:\"teresa\",1:\"marco\"}\\nprint(D)\\nprint(F)\\nG={(1,2):100,9:\"simone\",2:[1,2,3,4,5]}\\nprint(G)', 'D={1:\"simone\",2:\"maria\",3:\"teresa\"}\\nF={1:\"simone\",2:\"maria\",3:\"teresa\",1:\"marco\"}\\nprint(D)\\nprint(F)\\nG={(1,2):100,9:\"simone\",2:[1,2,3,4,5]}\\nprint(G)\\nGG={(1,[1,2]):100}', 'print(len(G))\\nprint(G[2])\\nG[2]=\"franco\"\\nprint(G)', 'G[5]=0', 'print(G[5])', 'LC=\"when in the course of humans events\"\\nLL=[]#list of letters\\nFL=[]#frequency count\\nfor e in LC:\\n    if e not in (LL):\\n        LL.append(e)\\n        FL.append(0)\\n    else:\\n        FL[LL.index(e)]+=1\\nprint(LL)\\nprint(FL)\\n\\n\\n\\n    ', 'FCD={}\\nfor e in LC:\\n    if e not in FCD:\\n        FCD[e]=1\\n    else:\\n        FCD[e]+=1\\nprint(FCD)', 'D={1:\"simone\",2:\"maria\",3:\"teresa\"}\\nF={1:\"simone\",2:\"maria\",3:\"teresa\",1:\"marco\"}\\nprint(D)\\nprint(F)\\nG={(1,2):100,9:\"simone\",2:[1,2,3,4,5]}\\nprint(G)\\nGG={(1,[1,2]):100}#not values because has a component of not immutable types: list', 'print(G[5])', 'G[5]=\"roberta\"\\nprint(G[5])', 'G[5]=\"roberta\"\\nprint(G)', 'print(10 in G)\\nprint(2 in G)\\nprint(\"roberta\" in G)', 'for k in G:\\n    #loop on the keys of the dictionaries\\n    print(k,G[k])', 'for k in G:\\n    if k==2:\\n        del G[k]', 'FCD={}\\nfor e in LC:\\n    FCD[k]=FCD.get(k,)+1\\nprint(FCD)', 'FCD={}\\nfor e in LC:\\n    FCD[k]=FCD.get(k,0)+1\\nprint(FCD)', 'FCD={}\\nfor k in LC:\\n    FCD[k]=FCD.get(k,0)+1\\nprint(FCD)', 'FCD={}\\nfor k in LC:\\n    FCD[k]=FCD.get(k,0)+1\\nprint(FCD)\\nprint(FCD.keys())\\nprint(FCD.values())\\nprint(FCD.items())', 'FCD={}\\nfor k in LC:\\n    FCD[k]=FCD.get(k,0)+1\\nprint(FCD)\\nprint(FCD.get(1))\\nprint(FCD.keys())\\nprint(FCD.values())\\nprint(FCD.items())', 'FCD={}\\nfor k in LC:\\n    FCD[k]=FCD.get(k,0)+1\\nprint(FCD)\\nprint(FCD.get(\"w\"))\\nprint(FCD.keys())\\nprint(FCD.values())\\nprint(FCD.items())', 'from email.policy import default\\n\\n\\nFCD={}\\nfor k in LC:\\n    FCD[k]=FCD.get(k,0)+1\\nprint(FCD)\\nprint(FCD.get(default))\\nprint(FCD.keys())\\nprint(FCD.values())\\nprint(FCD.items())', 'from email.policy import default\\n\\n\\nFCD={}\\nfor k in LC:\\n    FCD[k]=FCD.get(k,0)+1\\nprint(FCD)\\nprint(FCD.get(\"w\",0))\\nprint(FCD.keys())\\nprint(FCD.values())\\nprint(FCD.items())', 'from email.policy import default\\n\\n\\nFCD={}\\nfor k in LC:\\n    FCD[k]=FCD.get(k,0)+1\\nprint(FCD)\\nprint(FCD.get(\"w\",0))\\nprint(FCD.keys())\\nprint(FCD.values())\\nprint(FCD.items())\\nDK=FCD.keys()\\nprint(DK)', 'from email.policy import default\\n\\n\\nFCD={}\\nfor k in LC:\\n    FCD[k]=FCD.get(k,0)+1\\nprint(FCD)\\nprint(FCD.get(\"w\",0))\\nprint(FCD.keys())\\nprint(FCD.values())\\nprint(FCD.items())\\nDK=FCD.keys()#every modification you do on the FCD is done also on the DK\\nprint(DK)\\nFCD[\"w\"]=10\\nprint(type(DK))', 'from email.policy import default\\n\\n\\nFCD={}\\nfor k in LC:\\n    FCD[k]=FCD.get(k,0)+1\\nprint(FCD)\\nprint(FCD.get(\"w\",0))\\nprint(FCD.keys())\\nprint(FCD.values())\\nprint(FCD.items())\\nDK=FCD.keys()#every modification you do on the FCD is done also on the DK\\nprint(DK)\\nFCD[\"w\"]=10\\nprint(type(DK))\\nfor e in DK:\\n    print(e)', 'from email.policy import default\\n\\n\\nFCD={}\\nfor k in LC:\\n    FCD[k]=FCD.get(k,0)+1\\nprint(FCD)\\nprint(FCD.get(\"w\",0))\\nprint(FCD.keys())\\nprint(FCD.values())\\nprint(FCD.items())\\nDK=FCD.keys()#every modification you do on the FCD is done also on the DK\\nprint(DK)\\nFCD[\"w\"]=10\\nprint(type(DK))\\nfor e in DK:\\n    print(e)\\nfor e in DK.values:\\n    print(e)', 'from email.policy import default\\n\\n\\nFCD={}\\nfor k in LC:\\n    FCD[k]=FCD.get(k,0)+1\\nprint(FCD)\\nprint(FCD.get(\"w\",0))\\nprint(FCD.keys())\\nprint(FCD.values())\\nprint(FCD.items())\\nDK=FCD.keys()#every modification you do on the FCD is done also on the DK\\nprint(DK)\\nFCD[\"w\"]=10\\nprint(type(DK))\\nfor e in DK:\\n    print(e)\\nfor e in FCD.values:\\n    print(e)', 'from email.policy import default\\n\\n\\nFCD={}\\nfor k in LC:\\n    FCD[k]=FCD.get(k,0)+1\\nprint(FCD)\\nprint(FCD.get(\"w\",0))\\nprint(FCD.keys())\\nprint(FCD.values())\\nprint(FCD.items())\\nDK=FCD.keys()#every modification you do on the FCD is done also on the DK\\nprint(DK)\\nFCD[\"w\"]=10\\nprint(type(DK))\\nfor e in DK:\\n    print(e)\\nfor e in FCD.values():\\n    print(e)', 'D={1:1,2:10,3:100}\\nDK=D.keys()\\nLV=list(DK)\\nDK[1]=1000\\nprint(LV)', 'D2={\"cat\":\"grigio\",\"red\":\"rosso\"}\\nD.update(D2)\\nprint(D)', 'print(list(D)==list(D.keys()))', 'print(dict([(1,2),(3,4),(5,6)]))', 'print(dir(__buildins__))', 'print(dir(__builtins__))', '#the python machine is not virgin\\nprint(dir(__builtins__))', 'a=10\\ndef f(s):\\n    x=20\\n    def g(u):\\n        return u\\n    return s+g(x)\\nw=f(a)\\nprint(w)', 'a=10\\ndef f(s):\\n    x=20\\n    def g(u):\\n        return u\\n    return s+g(x)\\nw=f(a)\\nprint(w)\\n#s and x are non local (!=global) to g', 'print(globals())'], '_oh': {}, '_dh': [WindowsPath('c:/Users/utente/OneDrive/Desktop/Artificial Intelligence UNIBO/Languages_and_algorithms_for_AI'), WindowsPath('c:/Users/utente/OneDrive/Desktop/Artificial Intelligence UNIBO/Languages_and_algorithms_for_AI')], 'In': ['', 'LC=\"when in the course of humans events\"\\nLL=[]\\nFL=[]\\nfor e in LC:', 'LC=\"when in the course of humans events\"\\nLL=[]#list of letters\\nFL=[]#frequency count\\nfor e in LC:\\n    if e is not in LL:\\n        LL.append(e)\\n        \\n    ', 'LC=\"when in the course of humans events\"\\nLL=[]#list of letters\\nFL=[]#frequency count\\nfor e in LC:\\n    if e not in (LL):\\n        LL.append(e)\\n        FL.append(0)\\n    else:\\n        FL[LL.index(e)]+=1\\n    ', 'LC=\"when in the course of humans events\"\\nLL=[]#list of letters\\nFL=[]#frequency count\\nfor e in LC:\\n    if e not in (LL):\\n        LL.append(e)\\n        FL.append(0)\\n    else:\\n        FL[LL.index(e)]+=1\\nprint(LL)\\nprint(FL)\\n\\n    ', 'LC=\"when in the course of humans events\"\\nLL=[]#list of letters\\nFL=[]#frequency count\\nfor e in LC:\\n    if e not in (LL):\\n        LL.append(e)\\n        FL.append(1)\\n    else:\\n        FL[LL.index(e)]+=1\\nprint(LL)\\nprint(FL)\\n\\n    ', 'FCD={}\\nfor i in LC:\\n    if e not in FCD:\\n        FCD[e]=1\\n    else:\\n        FCD[e]+=1\\nprint(FCD)', 'LC=\"when in the course of humans events\"\\nLL=[]#list of letters\\nFL=[]#frequency count\\nfor e in LC:\\n    if e not in (LL):\\n        LL.append(e)\\n        FL.append(0)\\n    else:\\n        FL[LL.index(e)]+=1\\nprint(LL)\\nprint(FL)\\n\\n\\n\\n    ', 'FCD={}\\nfor i in LC:\\n    if e not in FCD:\\n        FCD[e]=1\\n    else:\\n        FCD[e]+=1\\nprint(FCD)', 'FCD={}\\nfor e in LC:\\n    if e not in FCD:\\n        FCD[e]=1\\n    else:\\n        FCD[e]+=1\\nprint(FCD)', 'D={1:\"simone\",2:\"maria\",3:\"teresa\"}\\nF={1:\"simone\",2:\"maria\",3:\"teresa\",1:\"marco\"}', 'D={1:\"simone\",2:\"maria\",3:\"teresa\"}\\nF={1:\"simone\",2:\"maria\",3:\"teresa\",1:\"marco\"}\\nprint(F)', 'D={1:\"simone\",2:\"maria\",3:\"teresa\"}\\nF={1:\"simone\",2:\"maria\",3:\"teresa\",1:\"marco\"}\\nprint(D)\\nprint(F)', 'D={1:\"simone\",2:\"maria\",3:\"teresa\"}\\nF={1:\"simone\",2:\"maria\",3:\"teresa\",1:\"marco\"}\\nprint(D)\\nprint(F)\\nG={(1,2):100,9:\"simone\",2:[1,2,3,4,5]}', 'D={1:\"simone\",2:\"maria\",3:\"teresa\"}\\nF={1:\"simone\",2:\"maria\",3:\"teresa\",1:\"marco\"}\\nprint(D)\\nprint(F)\\nG={(1,2):100,9:\"simone\",2:[1,2,3,4,5]}\\nprint(G)', 'D={1:\"simone\",2:\"maria\",3:\"teresa\"}\\nF={1:\"simone\",2:\"maria\",3:\"teresa\",1:\"marco\"}\\nprint(D)\\nprint(F)\\nG={(1,2):100,9:\"simone\",2:[1,2,3,4,5]}\\nprint(G)\\nGG={(1,[1,2]):100}', 'print(len(G))\\nprint(G[2])\\nG[2]=\"franco\"\\nprint(G)', 'G[5]=0', 'print(G[5])', 'LC=\"when in the course of humans events\"\\nLL=[]#list of letters\\nFL=[]#frequency count\\nfor e in LC:\\n    if e not in (LL):\\n        LL.append(e)\\n        FL.append(0)\\n    else:\\n        FL[LL.index(e)]+=1\\nprint(LL)\\nprint(FL)\\n\\n\\n\\n    ', 'FCD={}\\nfor e in LC:\\n    if e not in FCD:\\n        FCD[e]=1\\n    else:\\n        FCD[e]+=1\\nprint(FCD)', 'D={1:\"simone\",2:\"maria\",3:\"teresa\"}\\nF={1:\"simone\",2:\"maria\",3:\"teresa\",1:\"marco\"}\\nprint(D)\\nprint(F)\\nG={(1,2):100,9:\"simone\",2:[1,2,3,4,5]}\\nprint(G)\\nGG={(1,[1,2]):100}#not values because has a component of not immutable types: list', 'print(G[5])', 'G[5]=\"roberta\"\\nprint(G[5])', 'G[5]=\"roberta\"\\nprint(G)', 'print(10 in G)\\nprint(2 in G)\\nprint(\"roberta\" in G)', 'for k in G:\\n    #loop on the keys of the dictionaries\\n    print(k,G[k])', 'for k in G:\\n    if k==2:\\n        del G[k]', 'FCD={}\\nfor e in LC:\\n    FCD[k]=FCD.get(k,)+1\\nprint(FCD)', 'FCD={}\\nfor e in LC:\\n    FCD[k]=FCD.get(k,0)+1\\nprint(FCD)', 'FCD={}\\nfor k in LC:\\n    FCD[k]=FCD.get(k,0)+1\\nprint(FCD)', 'FCD={}\\nfor k in LC:\\n    FCD[k]=FCD.get(k,0)+1\\nprint(FCD)\\nprint(FCD.keys())\\nprint(FCD.values())\\nprint(FCD.items())', 'FCD={}\\nfor k in LC:\\n    FCD[k]=FCD.get(k,0)+1\\nprint(FCD)\\nprint(FCD.get(1))\\nprint(FCD.keys())\\nprint(FCD.values())\\nprint(FCD.items())', 'FCD={}\\nfor k in LC:\\n    FCD[k]=FCD.get(k,0)+1\\nprint(FCD)\\nprint(FCD.get(\"w\"))\\nprint(FCD.keys())\\nprint(FCD.values())\\nprint(FCD.items())', 'from email.policy import default\\n\\n\\nFCD={}\\nfor k in LC:\\n    FCD[k]=FCD.get(k,0)+1\\nprint(FCD)\\nprint(FCD.get(default))\\nprint(FCD.keys())\\nprint(FCD.values())\\nprint(FCD.items())', 'from email.policy import default\\n\\n\\nFCD={}\\nfor k in LC:\\n    FCD[k]=FCD.get(k,0)+1\\nprint(FCD)\\nprint(FCD.get(\"w\",0))\\nprint(FCD.keys())\\nprint(FCD.values())\\nprint(FCD.items())', 'from email.policy import default\\n\\n\\nFCD={}\\nfor k in LC:\\n    FCD[k]=FCD.get(k,0)+1\\nprint(FCD)\\nprint(FCD.get(\"w\",0))\\nprint(FCD.keys())\\nprint(FCD.values())\\nprint(FCD.items())\\nDK=FCD.keys()\\nprint(DK)', 'from email.policy import default\\n\\n\\nFCD={}\\nfor k in LC:\\n    FCD[k]=FCD.get(k,0)+1\\nprint(FCD)\\nprint(FCD.get(\"w\",0))\\nprint(FCD.keys())\\nprint(FCD.values())\\nprint(FCD.items())\\nDK=FCD.keys()#every modification you do on the FCD is done also on the DK\\nprint(DK)\\nFCD[\"w\"]=10\\nprint(type(DK))', 'from email.policy import default\\n\\n\\nFCD={}\\nfor k in LC:\\n    FCD[k]=FCD.get(k,0)+1\\nprint(FCD)\\nprint(FCD.get(\"w\",0))\\nprint(FCD.keys())\\nprint(FCD.values())\\nprint(FCD.items())\\nDK=FCD.keys()#every modification you do on the FCD is done also on the DK\\nprint(DK)\\nFCD[\"w\"]=10\\nprint(type(DK))\\nfor e in DK:\\n    print(e)', 'from email.policy import default\\n\\n\\nFCD={}\\nfor k in LC:\\n    FCD[k]=FCD.get(k,0)+1\\nprint(FCD)\\nprint(FCD.get(\"w\",0))\\nprint(FCD.keys())\\nprint(FCD.values())\\nprint(FCD.items())\\nDK=FCD.keys()#every modification you do on the FCD is done also on the DK\\nprint(DK)\\nFCD[\"w\"]=10\\nprint(type(DK))\\nfor e in DK:\\n    print(e)\\nfor e in DK.values:\\n    print(e)', 'from email.policy import default\\n\\n\\nFCD={}\\nfor k in LC:\\n    FCD[k]=FCD.get(k,0)+1\\nprint(FCD)\\nprint(FCD.get(\"w\",0))\\nprint(FCD.keys())\\nprint(FCD.values())\\nprint(FCD.items())\\nDK=FCD.keys()#every modification you do on the FCD is done also on the DK\\nprint(DK)\\nFCD[\"w\"]=10\\nprint(type(DK))\\nfor e in DK:\\n    print(e)\\nfor e in FCD.values:\\n    print(e)', 'from email.policy import default\\n\\n\\nFCD={}\\nfor k in LC:\\n    FCD[k]=FCD.get(k,0)+1\\nprint(FCD)\\nprint(FCD.get(\"w\",0))\\nprint(FCD.keys())\\nprint(FCD.values())\\nprint(FCD.items())\\nDK=FCD.keys()#every modification you do on the FCD is done also on the DK\\nprint(DK)\\nFCD[\"w\"]=10\\nprint(type(DK))\\nfor e in DK:\\n    print(e)\\nfor e in FCD.values():\\n    print(e)', 'D={1:1,2:10,3:100}\\nDK=D.keys()\\nLV=list(DK)\\nDK[1]=1000\\nprint(LV)', 'D2={\"cat\":\"grigio\",\"red\":\"rosso\"}\\nD.update(D2)\\nprint(D)', 'print(list(D)==list(D.keys()))', 'print(dict([(1,2),(3,4),(5,6)]))', 'print(dir(__buildins__))', 'print(dir(__builtins__))', '#the python machine is not virgin\\nprint(dir(__builtins__))', 'a=10\\ndef f(s):\\n    x=20\\n    def g(u):\\n        return u\\n    return s+g(x)\\nw=f(a)\\nprint(w)', 'a=10\\ndef f(s):\\n    x=20\\n    def g(u):\\n        return u\\n    return s+g(x)\\nw=f(a)\\nprint(w)\\n#s and x are non local (!=global) to g', 'print(globals())'], 'Out': {}, 'get_ipython': <bound method InteractiveShell.get_ipython of <ipykernel.zmqshell.ZMQInteractiveShell object at 0x000001DC05386F40>>, 'exit': <IPython.core.autocall.ZMQExitAutocall object at 0x000001DC05300F10>, 'quit': <IPython.core.autocall.ZMQExitAutocall object at 0x000001DC05300F10>, '_': '', '__': '', '___': '', 'os': <module 'os' from 'c:\\\\Python39\\\\lib\\\\os.py'>, 'sys': <module 'sys' (built-in)>, '__vsc_ipynb_file__': 'c:\\\\Users\\\\utente\\\\OneDrive\\\\Desktop\\\\Artificial Intelligence UNIBO\\\\Languages_and_algorithms_for_AI\\\\Lecture4.ipynb', '_i': 'a=10\\ndef f(s):\\n    x=20\\n    def g(u):\\n        return u\\n    return s+g(x)\\nw=f(a)\\nprint(w)\\n#s and x are non local (!=global) to g', '_ii': 'a=10\\ndef f(s):\\n    x=20\\n    def g(u):\\n        return u\\n    return s+g(x)\\nw=f(a)\\nprint(w)', '_iii': '#the python machine is not virgin\\nprint(dir(__builtins__))', '_i1': 'LC=\"when in the course of humans events\"\\nLL=[]\\nFL=[]\\nfor e in LC:', '_i2': 'LC=\"when in the course of humans events\"\\nLL=[]#list of letters\\nFL=[]#frequency count\\nfor e in LC:\\n    if e is not in LL:\\n        LL.append(e)\\n        \\n    ', '_i3': 'LC=\"when in the course of humans events\"\\nLL=[]#list of letters\\nFL=[]#frequency count\\nfor e in LC:\\n    if e not in (LL):\\n        LL.append(e)\\n        FL.append(0)\\n    else:\\n        FL[LL.index(e)]+=1\\n    ', 'LC': 'when in the course of humans events', 'LL': ['w', 'h', 'e', 'n', ' ', 'i', 't', 'c', 'o', 'u', 'r', 's', 'f', 'm', 'a', 'v'], 'FL': [0, 2, 4, 3, 5, 0, 1, 0, 1, 1, 0, 2, 0, 0, 0, 0], 'e': 1, '_i4': 'LC=\"when in the course of humans events\"\\nLL=[]#list of letters\\nFL=[]#frequency count\\nfor e in LC:\\n    if e not in (LL):\\n        LL.append(e)\\n        FL.append(0)\\n    else:\\n        FL[LL.index(e)]+=1\\nprint(LL)\\nprint(FL)\\n\\n    ', '_i5': 'LC=\"when in the course of humans events\"\\nLL=[]#list of letters\\nFL=[]#frequency count\\nfor e in LC:\\n    if e not in (LL):\\n        LL.append(e)\\n        FL.append(1)\\n    else:\\n        FL[LL.index(e)]+=1\\nprint(LL)\\nprint(FL)\\n\\n    ', '_i6': 'FCD={}\\nfor i in LC:\\n    if e not in FCD:\\n        FCD[e]=1\\n    else:\\n        FCD[e]+=1\\nprint(FCD)', 'FCD': {'w': 10, 'h': 3, 'e': 5, 'n': 4, ' ': 6, 'i': 1, 't': 2, 'c': 1, 'o': 2, 'u': 2, 'r': 1, 's': 3, 'f': 1, 'm': 1, 'a': 1, 'v': 1}, 'i': 's', '_i7': 'LC=\"when in the course of humans events\"\\nLL=[]#list of letters\\nFL=[]#frequency count\\nfor e in LC:\\n    if e not in (LL):\\n        LL.append(e)\\n        FL.append(0)\\n    else:\\n        FL[LL.index(e)]+=1\\nprint(LL)\\nprint(FL)\\n\\n\\n\\n    ', '_i8': 'FCD={}\\nfor i in LC:\\n    if e not in FCD:\\n        FCD[e]=1\\n    else:\\n        FCD[e]+=1\\nprint(FCD)', '_i9': 'FCD={}\\nfor e in LC:\\n    if e not in FCD:\\n        FCD[e]=1\\n    else:\\n        FCD[e]+=1\\nprint(FCD)', '_i10': 'D={1:\"simone\",2:\"maria\",3:\"teresa\"}\\nF={1:\"simone\",2:\"maria\",3:\"teresa\",1:\"marco\"}', 'D': {1: 1, 2: 10, 3: 100, 'cat': 'grigio', 'red': 'rosso'}, 'F': {1: 'marco', 2: 'maria', 3: 'teresa'}, '_i11': 'D={1:\"simone\",2:\"maria\",3:\"teresa\"}\\nF={1:\"simone\",2:\"maria\",3:\"teresa\",1:\"marco\"}\\nprint(F)', '_i12': 'D={1:\"simone\",2:\"maria\",3:\"teresa\"}\\nF={1:\"simone\",2:\"maria\",3:\"teresa\",1:\"marco\"}\\nprint(D)\\nprint(F)', '_i13': 'D={1:\"simone\",2:\"maria\",3:\"teresa\"}\\nF={1:\"simone\",2:\"maria\",3:\"teresa\",1:\"marco\"}\\nprint(D)\\nprint(F)\\nG={(1,2):100,9:\"simone\",2:[1,2,3,4,5]}', 'G': {(1, 2): 100, 9: 'simone', 5: 'roberta'}, '_i14': 'D={1:\"simone\",2:\"maria\",3:\"teresa\"}\\nF={1:\"simone\",2:\"maria\",3:\"teresa\",1:\"marco\"}\\nprint(D)\\nprint(F)\\nG={(1,2):100,9:\"simone\",2:[1,2,3,4,5]}\\nprint(G)', '_i15': 'D={1:\"simone\",2:\"maria\",3:\"teresa\"}\\nF={1:\"simone\",2:\"maria\",3:\"teresa\",1:\"marco\"}\\nprint(D)\\nprint(F)\\nG={(1,2):100,9:\"simone\",2:[1,2,3,4,5]}\\nprint(G)\\nGG={(1,[1,2]):100}', '_i16': 'print(len(G))\\nprint(G[2])\\nG[2]=\"franco\"\\nprint(G)', '_i17': 'G[5]=0', '_i18': 'print(G[5])', '_i19': 'LC=\"when in the course of humans events\"\\nLL=[]#list of letters\\nFL=[]#frequency count\\nfor e in LC:\\n    if e not in (LL):\\n        LL.append(e)\\n        FL.append(0)\\n    else:\\n        FL[LL.index(e)]+=1\\nprint(LL)\\nprint(FL)\\n\\n\\n\\n    ', '_i20': 'FCD={}\\nfor e in LC:\\n    if e not in FCD:\\n        FCD[e]=1\\n    else:\\n        FCD[e]+=1\\nprint(FCD)', '_i21': 'D={1:\"simone\",2:\"maria\",3:\"teresa\"}\\nF={1:\"simone\",2:\"maria\",3:\"teresa\",1:\"marco\"}\\nprint(D)\\nprint(F)\\nG={(1,2):100,9:\"simone\",2:[1,2,3,4,5]}\\nprint(G)\\nGG={(1,[1,2]):100}#not values because has a component of not immutable types: list', '_i22': 'print(G[5])', '_i23': 'G[5]=\"roberta\"\\nprint(G[5])', '_i24': 'G[5]=\"roberta\"\\nprint(G)', '_i25': 'print(10 in G)\\nprint(2 in G)\\nprint(\"roberta\" in G)', '_i26': 'for k in G:\\n    #loop on the keys of the dictionaries\\n    print(k,G[k])', 'k': 's', '_i27': 'for k in G:\\n    if k==2:\\n        del G[k]', '_i28': 'FCD={}\\nfor e in LC:\\n    FCD[k]=FCD.get(k,)+1\\nprint(FCD)', '_i29': 'FCD={}\\nfor e in LC:\\n    FCD[k]=FCD.get(k,0)+1\\nprint(FCD)', '_i30': 'FCD={}\\nfor k in LC:\\n    FCD[k]=FCD.get(k,0)+1\\nprint(FCD)', '_i31': 'FCD={}\\nfor k in LC:\\n    FCD[k]=FCD.get(k,0)+1\\nprint(FCD)\\nprint(FCD.keys())\\nprint(FCD.values())\\nprint(FCD.items())', '_i32': 'FCD={}\\nfor k in LC:\\n    FCD[k]=FCD.get(k,0)+1\\nprint(FCD)\\nprint(FCD.get(1))\\nprint(FCD.keys())\\nprint(FCD.values())\\nprint(FCD.items())', '_i33': 'FCD={}\\nfor k in LC:\\n    FCD[k]=FCD.get(k,0)+1\\nprint(FCD)\\nprint(FCD.get(\"w\"))\\nprint(FCD.keys())\\nprint(FCD.values())\\nprint(FCD.items())', '_i34': 'from email.policy import default\\n\\n\\nFCD={}\\nfor k in LC:\\n    FCD[k]=FCD.get(k,0)+1\\nprint(FCD)\\nprint(FCD.get(default))\\nprint(FCD.keys())\\nprint(FCD.values())\\nprint(FCD.items())', 'default': EmailPolicy(), '_i35': 'from email.policy import default\\n\\n\\nFCD={}\\nfor k in LC:\\n    FCD[k]=FCD.get(k,0)+1\\nprint(FCD)\\nprint(FCD.get(\"w\",0))\\nprint(FCD.keys())\\nprint(FCD.values())\\nprint(FCD.items())', '_i36': 'from email.policy import default\\n\\n\\nFCD={}\\nfor k in LC:\\n    FCD[k]=FCD.get(k,0)+1\\nprint(FCD)\\nprint(FCD.get(\"w\",0))\\nprint(FCD.keys())\\nprint(FCD.values())\\nprint(FCD.items())\\nDK=FCD.keys()\\nprint(DK)', 'DK': dict_keys([1, 2, 3, 'cat', 'red']), '_i37': 'from email.policy import default\\n\\n\\nFCD={}\\nfor k in LC:\\n    FCD[k]=FCD.get(k,0)+1\\nprint(FCD)\\nprint(FCD.get(\"w\",0))\\nprint(FCD.keys())\\nprint(FCD.values())\\nprint(FCD.items())\\nDK=FCD.keys()#every modification you do on the FCD is done also on the DK\\nprint(DK)\\nFCD[\"w\"]=10\\nprint(type(DK))', '_i38': 'from email.policy import default\\n\\n\\nFCD={}\\nfor k in LC:\\n    FCD[k]=FCD.get(k,0)+1\\nprint(FCD)\\nprint(FCD.get(\"w\",0))\\nprint(FCD.keys())\\nprint(FCD.values())\\nprint(FCD.items())\\nDK=FCD.keys()#every modification you do on the FCD is done also on the DK\\nprint(DK)\\nFCD[\"w\"]=10\\nprint(type(DK))\\nfor e in DK:\\n    print(e)', '_i39': 'from email.policy import default\\n\\n\\nFCD={}\\nfor k in LC:\\n    FCD[k]=FCD.get(k,0)+1\\nprint(FCD)\\nprint(FCD.get(\"w\",0))\\nprint(FCD.keys())\\nprint(FCD.values())\\nprint(FCD.items())\\nDK=FCD.keys()#every modification you do on the FCD is done also on the DK\\nprint(DK)\\nFCD[\"w\"]=10\\nprint(type(DK))\\nfor e in DK:\\n    print(e)\\nfor e in DK.values:\\n    print(e)', '_i40': 'from email.policy import default\\n\\n\\nFCD={}\\nfor k in LC:\\n    FCD[k]=FCD.get(k,0)+1\\nprint(FCD)\\nprint(FCD.get(\"w\",0))\\nprint(FCD.keys())\\nprint(FCD.values())\\nprint(FCD.items())\\nDK=FCD.keys()#every modification you do on the FCD is done also on the DK\\nprint(DK)\\nFCD[\"w\"]=10\\nprint(type(DK))\\nfor e in DK:\\n    print(e)\\nfor e in FCD.values:\\n    print(e)', '_i41': 'from email.policy import default\\n\\n\\nFCD={}\\nfor k in LC:\\n    FCD[k]=FCD.get(k,0)+1\\nprint(FCD)\\nprint(FCD.get(\"w\",0))\\nprint(FCD.keys())\\nprint(FCD.values())\\nprint(FCD.items())\\nDK=FCD.keys()#every modification you do on the FCD is done also on the DK\\nprint(DK)\\nFCD[\"w\"]=10\\nprint(type(DK))\\nfor e in DK:\\n    print(e)\\nfor e in FCD.values():\\n    print(e)', '_i42': 'D={1:1,2:10,3:100}\\nDK=D.keys()\\nLV=list(DK)\\nDK[1]=1000\\nprint(LV)', 'LV': [1, 2, 3], '_i43': 'D2={\"cat\":\"grigio\",\"red\":\"rosso\"}\\nD.update(D2)\\nprint(D)', 'D2': {'cat': 'grigio', 'red': 'rosso'}, '_i44': 'print(list(D)==list(D.keys()))', '_i45': 'print(dict([(1,2),(3,4),(5,6)]))', '_i46': 'print(dir(__buildins__))', '_i47': 'print(dir(__builtins__))', '_i48': '#the python machine is not virgin\\nprint(dir(__builtins__))', '_i49': 'a=10\\ndef f(s):\\n    x=20\\n    def g(u):\\n        return u\\n    return s+g(x)\\nw=f(a)\\nprint(w)', 'a': 10, 'f': <function f at 0x000001DC076D58B0>, 'w': 30, '_i50': 'a=10\\ndef f(s):\\n    x=20\\n    def g(u):\\n        return u\\n    return s+g(x)\\nw=f(a)\\nprint(w)\\n#s and x are non local (!=global) to g', '_i51': 'print(globals())'}\n"
     ]
    }
   ],
   "source": [
    "print(globals())"
   ]
  },
  {
   "cell_type": "code",
   "execution_count": null,
   "metadata": {},
   "outputs": [
    {
     "name": "stdout",
     "output_type": "stream",
     "text": [
      "400\n"
     ]
    }
   ],
   "source": [
    "G=globals()\n",
    "G[\"w\"]=400\n",
    "print(w)\n"
   ]
  },
  {
   "cell_type": "code",
   "execution_count": null,
   "metadata": {},
   "outputs": [
    {
     "data": {
      "text/plain": [
       "{'__name__': '__main__',\n",
       " '__doc__': 'Automatically created module for IPython interactive environment',\n",
       " '__package__': None,\n",
       " '__loader__': None,\n",
       " '__spec__': None,\n",
       " '__builtin__': <module 'builtins' (built-in)>,\n",
       " '__builtins__': <module 'builtins' (built-in)>,\n",
       " '_ih': ['',\n",
       "  'LC=\"when in the course of humans events\"\\nLL=[]\\nFL=[]\\nfor e in LC:',\n",
       "  'LC=\"when in the course of humans events\"\\nLL=[]#list of letters\\nFL=[]#frequency count\\nfor e in LC:\\n    if e is not in LL:\\n        LL.append(e)\\n        \\n    ',\n",
       "  'LC=\"when in the course of humans events\"\\nLL=[]#list of letters\\nFL=[]#frequency count\\nfor e in LC:\\n    if e not in (LL):\\n        LL.append(e)\\n        FL.append(0)\\n    else:\\n        FL[LL.index(e)]+=1\\n    ',\n",
       "  'LC=\"when in the course of humans events\"\\nLL=[]#list of letters\\nFL=[]#frequency count\\nfor e in LC:\\n    if e not in (LL):\\n        LL.append(e)\\n        FL.append(0)\\n    else:\\n        FL[LL.index(e)]+=1\\nprint(LL)\\nprint(FL)\\n\\n    ',\n",
       "  'LC=\"when in the course of humans events\"\\nLL=[]#list of letters\\nFL=[]#frequency count\\nfor e in LC:\\n    if e not in (LL):\\n        LL.append(e)\\n        FL.append(1)\\n    else:\\n        FL[LL.index(e)]+=1\\nprint(LL)\\nprint(FL)\\n\\n    ',\n",
       "  'FCD={}\\nfor i in LC:\\n    if e not in FCD:\\n        FCD[e]=1\\n    else:\\n        FCD[e]+=1\\nprint(FCD)',\n",
       "  'LC=\"when in the course of humans events\"\\nLL=[]#list of letters\\nFL=[]#frequency count\\nfor e in LC:\\n    if e not in (LL):\\n        LL.append(e)\\n        FL.append(0)\\n    else:\\n        FL[LL.index(e)]+=1\\nprint(LL)\\nprint(FL)\\n\\n\\n\\n    ',\n",
       "  'FCD={}\\nfor i in LC:\\n    if e not in FCD:\\n        FCD[e]=1\\n    else:\\n        FCD[e]+=1\\nprint(FCD)',\n",
       "  'FCD={}\\nfor e in LC:\\n    if e not in FCD:\\n        FCD[e]=1\\n    else:\\n        FCD[e]+=1\\nprint(FCD)',\n",
       "  'D={1:\"simone\",2:\"maria\",3:\"teresa\"}\\nF={1:\"simone\",2:\"maria\",3:\"teresa\",1:\"marco\"}',\n",
       "  'D={1:\"simone\",2:\"maria\",3:\"teresa\"}\\nF={1:\"simone\",2:\"maria\",3:\"teresa\",1:\"marco\"}\\nprint(F)',\n",
       "  'D={1:\"simone\",2:\"maria\",3:\"teresa\"}\\nF={1:\"simone\",2:\"maria\",3:\"teresa\",1:\"marco\"}\\nprint(D)\\nprint(F)',\n",
       "  'D={1:\"simone\",2:\"maria\",3:\"teresa\"}\\nF={1:\"simone\",2:\"maria\",3:\"teresa\",1:\"marco\"}\\nprint(D)\\nprint(F)\\nG={(1,2):100,9:\"simone\",2:[1,2,3,4,5]}',\n",
       "  'D={1:\"simone\",2:\"maria\",3:\"teresa\"}\\nF={1:\"simone\",2:\"maria\",3:\"teresa\",1:\"marco\"}\\nprint(D)\\nprint(F)\\nG={(1,2):100,9:\"simone\",2:[1,2,3,4,5]}\\nprint(G)',\n",
       "  'D={1:\"simone\",2:\"maria\",3:\"teresa\"}\\nF={1:\"simone\",2:\"maria\",3:\"teresa\",1:\"marco\"}\\nprint(D)\\nprint(F)\\nG={(1,2):100,9:\"simone\",2:[1,2,3,4,5]}\\nprint(G)\\nGG={(1,[1,2]):100}',\n",
       "  'print(len(G))\\nprint(G[2])\\nG[2]=\"franco\"\\nprint(G)',\n",
       "  'G[5]=0',\n",
       "  'print(G[5])',\n",
       "  'LC=\"when in the course of humans events\"\\nLL=[]#list of letters\\nFL=[]#frequency count\\nfor e in LC:\\n    if e not in (LL):\\n        LL.append(e)\\n        FL.append(0)\\n    else:\\n        FL[LL.index(e)]+=1\\nprint(LL)\\nprint(FL)\\n\\n\\n\\n    ',\n",
       "  'FCD={}\\nfor e in LC:\\n    if e not in FCD:\\n        FCD[e]=1\\n    else:\\n        FCD[e]+=1\\nprint(FCD)',\n",
       "  'D={1:\"simone\",2:\"maria\",3:\"teresa\"}\\nF={1:\"simone\",2:\"maria\",3:\"teresa\",1:\"marco\"}\\nprint(D)\\nprint(F)\\nG={(1,2):100,9:\"simone\",2:[1,2,3,4,5]}\\nprint(G)\\nGG={(1,[1,2]):100}#not values because has a component of not immutable types: list',\n",
       "  'print(G[5])',\n",
       "  'G[5]=\"roberta\"\\nprint(G[5])',\n",
       "  'G[5]=\"roberta\"\\nprint(G)',\n",
       "  'print(10 in G)\\nprint(2 in G)\\nprint(\"roberta\" in G)',\n",
       "  'for k in G:\\n    #loop on the keys of the dictionaries\\n    print(k,G[k])',\n",
       "  'for k in G:\\n    if k==2:\\n        del G[k]',\n",
       "  'FCD={}\\nfor e in LC:\\n    FCD[k]=FCD.get(k,)+1\\nprint(FCD)',\n",
       "  'FCD={}\\nfor e in LC:\\n    FCD[k]=FCD.get(k,0)+1\\nprint(FCD)',\n",
       "  'FCD={}\\nfor k in LC:\\n    FCD[k]=FCD.get(k,0)+1\\nprint(FCD)',\n",
       "  'FCD={}\\nfor k in LC:\\n    FCD[k]=FCD.get(k,0)+1\\nprint(FCD)\\nprint(FCD.keys())\\nprint(FCD.values())\\nprint(FCD.items())',\n",
       "  'FCD={}\\nfor k in LC:\\n    FCD[k]=FCD.get(k,0)+1\\nprint(FCD)\\nprint(FCD.get(1))\\nprint(FCD.keys())\\nprint(FCD.values())\\nprint(FCD.items())',\n",
       "  'FCD={}\\nfor k in LC:\\n    FCD[k]=FCD.get(k,0)+1\\nprint(FCD)\\nprint(FCD.get(\"w\"))\\nprint(FCD.keys())\\nprint(FCD.values())\\nprint(FCD.items())',\n",
       "  'from email.policy import default\\n\\n\\nFCD={}\\nfor k in LC:\\n    FCD[k]=FCD.get(k,0)+1\\nprint(FCD)\\nprint(FCD.get(default))\\nprint(FCD.keys())\\nprint(FCD.values())\\nprint(FCD.items())',\n",
       "  'from email.policy import default\\n\\n\\nFCD={}\\nfor k in LC:\\n    FCD[k]=FCD.get(k,0)+1\\nprint(FCD)\\nprint(FCD.get(\"w\",0))\\nprint(FCD.keys())\\nprint(FCD.values())\\nprint(FCD.items())',\n",
       "  'from email.policy import default\\n\\n\\nFCD={}\\nfor k in LC:\\n    FCD[k]=FCD.get(k,0)+1\\nprint(FCD)\\nprint(FCD.get(\"w\",0))\\nprint(FCD.keys())\\nprint(FCD.values())\\nprint(FCD.items())\\nDK=FCD.keys()\\nprint(DK)',\n",
       "  'from email.policy import default\\n\\n\\nFCD={}\\nfor k in LC:\\n    FCD[k]=FCD.get(k,0)+1\\nprint(FCD)\\nprint(FCD.get(\"w\",0))\\nprint(FCD.keys())\\nprint(FCD.values())\\nprint(FCD.items())\\nDK=FCD.keys()#every modification you do on the FCD is done also on the DK\\nprint(DK)\\nFCD[\"w\"]=10\\nprint(type(DK))',\n",
       "  'from email.policy import default\\n\\n\\nFCD={}\\nfor k in LC:\\n    FCD[k]=FCD.get(k,0)+1\\nprint(FCD)\\nprint(FCD.get(\"w\",0))\\nprint(FCD.keys())\\nprint(FCD.values())\\nprint(FCD.items())\\nDK=FCD.keys()#every modification you do on the FCD is done also on the DK\\nprint(DK)\\nFCD[\"w\"]=10\\nprint(type(DK))\\nfor e in DK:\\n    print(e)',\n",
       "  'from email.policy import default\\n\\n\\nFCD={}\\nfor k in LC:\\n    FCD[k]=FCD.get(k,0)+1\\nprint(FCD)\\nprint(FCD.get(\"w\",0))\\nprint(FCD.keys())\\nprint(FCD.values())\\nprint(FCD.items())\\nDK=FCD.keys()#every modification you do on the FCD is done also on the DK\\nprint(DK)\\nFCD[\"w\"]=10\\nprint(type(DK))\\nfor e in DK:\\n    print(e)\\nfor e in DK.values:\\n    print(e)',\n",
       "  'from email.policy import default\\n\\n\\nFCD={}\\nfor k in LC:\\n    FCD[k]=FCD.get(k,0)+1\\nprint(FCD)\\nprint(FCD.get(\"w\",0))\\nprint(FCD.keys())\\nprint(FCD.values())\\nprint(FCD.items())\\nDK=FCD.keys()#every modification you do on the FCD is done also on the DK\\nprint(DK)\\nFCD[\"w\"]=10\\nprint(type(DK))\\nfor e in DK:\\n    print(e)\\nfor e in FCD.values:\\n    print(e)',\n",
       "  'from email.policy import default\\n\\n\\nFCD={}\\nfor k in LC:\\n    FCD[k]=FCD.get(k,0)+1\\nprint(FCD)\\nprint(FCD.get(\"w\",0))\\nprint(FCD.keys())\\nprint(FCD.values())\\nprint(FCD.items())\\nDK=FCD.keys()#every modification you do on the FCD is done also on the DK\\nprint(DK)\\nFCD[\"w\"]=10\\nprint(type(DK))\\nfor e in DK:\\n    print(e)\\nfor e in FCD.values():\\n    print(e)',\n",
       "  'D={1:1,2:10,3:100}\\nDK=D.keys()\\nLV=list(DK)\\nDK[1]=1000\\nprint(LV)',\n",
       "  'D2={\"cat\":\"grigio\",\"red\":\"rosso\"}\\nD.update(D2)\\nprint(D)',\n",
       "  'print(list(D)==list(D.keys()))',\n",
       "  'print(dict([(1,2),(3,4),(5,6)]))',\n",
       "  'print(dir(__buildins__))',\n",
       "  'print(dir(__builtins__))',\n",
       "  '#the python machine is not virgin\\nprint(dir(__builtins__))',\n",
       "  'a=10\\ndef f(s):\\n    x=20\\n    def g(u):\\n        return u\\n    return s+g(x)\\nw=f(a)\\nprint(w)',\n",
       "  'a=10\\ndef f(s):\\n    x=20\\n    def g(u):\\n        return u\\n    return s+g(x)\\nw=f(a)\\nprint(w)\\n#s and x are non local (!=global) to g',\n",
       "  'print(globals())',\n",
       "  'G=globals()\\nG[\"w\"]=400\\nprint(w)',\n",
       "  'locals()'],\n",
       " '_oh': {},\n",
       " '_dh': [WindowsPath('c:/Users/utente/OneDrive/Desktop/Artificial Intelligence UNIBO/Languages_and_algorithms_for_AI'),\n",
       "  WindowsPath('c:/Users/utente/OneDrive/Desktop/Artificial Intelligence UNIBO/Languages_and_algorithms_for_AI')],\n",
       " 'In': ['',\n",
       "  'LC=\"when in the course of humans events\"\\nLL=[]\\nFL=[]\\nfor e in LC:',\n",
       "  'LC=\"when in the course of humans events\"\\nLL=[]#list of letters\\nFL=[]#frequency count\\nfor e in LC:\\n    if e is not in LL:\\n        LL.append(e)\\n        \\n    ',\n",
       "  'LC=\"when in the course of humans events\"\\nLL=[]#list of letters\\nFL=[]#frequency count\\nfor e in LC:\\n    if e not in (LL):\\n        LL.append(e)\\n        FL.append(0)\\n    else:\\n        FL[LL.index(e)]+=1\\n    ',\n",
       "  'LC=\"when in the course of humans events\"\\nLL=[]#list of letters\\nFL=[]#frequency count\\nfor e in LC:\\n    if e not in (LL):\\n        LL.append(e)\\n        FL.append(0)\\n    else:\\n        FL[LL.index(e)]+=1\\nprint(LL)\\nprint(FL)\\n\\n    ',\n",
       "  'LC=\"when in the course of humans events\"\\nLL=[]#list of letters\\nFL=[]#frequency count\\nfor e in LC:\\n    if e not in (LL):\\n        LL.append(e)\\n        FL.append(1)\\n    else:\\n        FL[LL.index(e)]+=1\\nprint(LL)\\nprint(FL)\\n\\n    ',\n",
       "  'FCD={}\\nfor i in LC:\\n    if e not in FCD:\\n        FCD[e]=1\\n    else:\\n        FCD[e]+=1\\nprint(FCD)',\n",
       "  'LC=\"when in the course of humans events\"\\nLL=[]#list of letters\\nFL=[]#frequency count\\nfor e in LC:\\n    if e not in (LL):\\n        LL.append(e)\\n        FL.append(0)\\n    else:\\n        FL[LL.index(e)]+=1\\nprint(LL)\\nprint(FL)\\n\\n\\n\\n    ',\n",
       "  'FCD={}\\nfor i in LC:\\n    if e not in FCD:\\n        FCD[e]=1\\n    else:\\n        FCD[e]+=1\\nprint(FCD)',\n",
       "  'FCD={}\\nfor e in LC:\\n    if e not in FCD:\\n        FCD[e]=1\\n    else:\\n        FCD[e]+=1\\nprint(FCD)',\n",
       "  'D={1:\"simone\",2:\"maria\",3:\"teresa\"}\\nF={1:\"simone\",2:\"maria\",3:\"teresa\",1:\"marco\"}',\n",
       "  'D={1:\"simone\",2:\"maria\",3:\"teresa\"}\\nF={1:\"simone\",2:\"maria\",3:\"teresa\",1:\"marco\"}\\nprint(F)',\n",
       "  'D={1:\"simone\",2:\"maria\",3:\"teresa\"}\\nF={1:\"simone\",2:\"maria\",3:\"teresa\",1:\"marco\"}\\nprint(D)\\nprint(F)',\n",
       "  'D={1:\"simone\",2:\"maria\",3:\"teresa\"}\\nF={1:\"simone\",2:\"maria\",3:\"teresa\",1:\"marco\"}\\nprint(D)\\nprint(F)\\nG={(1,2):100,9:\"simone\",2:[1,2,3,4,5]}',\n",
       "  'D={1:\"simone\",2:\"maria\",3:\"teresa\"}\\nF={1:\"simone\",2:\"maria\",3:\"teresa\",1:\"marco\"}\\nprint(D)\\nprint(F)\\nG={(1,2):100,9:\"simone\",2:[1,2,3,4,5]}\\nprint(G)',\n",
       "  'D={1:\"simone\",2:\"maria\",3:\"teresa\"}\\nF={1:\"simone\",2:\"maria\",3:\"teresa\",1:\"marco\"}\\nprint(D)\\nprint(F)\\nG={(1,2):100,9:\"simone\",2:[1,2,3,4,5]}\\nprint(G)\\nGG={(1,[1,2]):100}',\n",
       "  'print(len(G))\\nprint(G[2])\\nG[2]=\"franco\"\\nprint(G)',\n",
       "  'G[5]=0',\n",
       "  'print(G[5])',\n",
       "  'LC=\"when in the course of humans events\"\\nLL=[]#list of letters\\nFL=[]#frequency count\\nfor e in LC:\\n    if e not in (LL):\\n        LL.append(e)\\n        FL.append(0)\\n    else:\\n        FL[LL.index(e)]+=1\\nprint(LL)\\nprint(FL)\\n\\n\\n\\n    ',\n",
       "  'FCD={}\\nfor e in LC:\\n    if e not in FCD:\\n        FCD[e]=1\\n    else:\\n        FCD[e]+=1\\nprint(FCD)',\n",
       "  'D={1:\"simone\",2:\"maria\",3:\"teresa\"}\\nF={1:\"simone\",2:\"maria\",3:\"teresa\",1:\"marco\"}\\nprint(D)\\nprint(F)\\nG={(1,2):100,9:\"simone\",2:[1,2,3,4,5]}\\nprint(G)\\nGG={(1,[1,2]):100}#not values because has a component of not immutable types: list',\n",
       "  'print(G[5])',\n",
       "  'G[5]=\"roberta\"\\nprint(G[5])',\n",
       "  'G[5]=\"roberta\"\\nprint(G)',\n",
       "  'print(10 in G)\\nprint(2 in G)\\nprint(\"roberta\" in G)',\n",
       "  'for k in G:\\n    #loop on the keys of the dictionaries\\n    print(k,G[k])',\n",
       "  'for k in G:\\n    if k==2:\\n        del G[k]',\n",
       "  'FCD={}\\nfor e in LC:\\n    FCD[k]=FCD.get(k,)+1\\nprint(FCD)',\n",
       "  'FCD={}\\nfor e in LC:\\n    FCD[k]=FCD.get(k,0)+1\\nprint(FCD)',\n",
       "  'FCD={}\\nfor k in LC:\\n    FCD[k]=FCD.get(k,0)+1\\nprint(FCD)',\n",
       "  'FCD={}\\nfor k in LC:\\n    FCD[k]=FCD.get(k,0)+1\\nprint(FCD)\\nprint(FCD.keys())\\nprint(FCD.values())\\nprint(FCD.items())',\n",
       "  'FCD={}\\nfor k in LC:\\n    FCD[k]=FCD.get(k,0)+1\\nprint(FCD)\\nprint(FCD.get(1))\\nprint(FCD.keys())\\nprint(FCD.values())\\nprint(FCD.items())',\n",
       "  'FCD={}\\nfor k in LC:\\n    FCD[k]=FCD.get(k,0)+1\\nprint(FCD)\\nprint(FCD.get(\"w\"))\\nprint(FCD.keys())\\nprint(FCD.values())\\nprint(FCD.items())',\n",
       "  'from email.policy import default\\n\\n\\nFCD={}\\nfor k in LC:\\n    FCD[k]=FCD.get(k,0)+1\\nprint(FCD)\\nprint(FCD.get(default))\\nprint(FCD.keys())\\nprint(FCD.values())\\nprint(FCD.items())',\n",
       "  'from email.policy import default\\n\\n\\nFCD={}\\nfor k in LC:\\n    FCD[k]=FCD.get(k,0)+1\\nprint(FCD)\\nprint(FCD.get(\"w\",0))\\nprint(FCD.keys())\\nprint(FCD.values())\\nprint(FCD.items())',\n",
       "  'from email.policy import default\\n\\n\\nFCD={}\\nfor k in LC:\\n    FCD[k]=FCD.get(k,0)+1\\nprint(FCD)\\nprint(FCD.get(\"w\",0))\\nprint(FCD.keys())\\nprint(FCD.values())\\nprint(FCD.items())\\nDK=FCD.keys()\\nprint(DK)',\n",
       "  'from email.policy import default\\n\\n\\nFCD={}\\nfor k in LC:\\n    FCD[k]=FCD.get(k,0)+1\\nprint(FCD)\\nprint(FCD.get(\"w\",0))\\nprint(FCD.keys())\\nprint(FCD.values())\\nprint(FCD.items())\\nDK=FCD.keys()#every modification you do on the FCD is done also on the DK\\nprint(DK)\\nFCD[\"w\"]=10\\nprint(type(DK))',\n",
       "  'from email.policy import default\\n\\n\\nFCD={}\\nfor k in LC:\\n    FCD[k]=FCD.get(k,0)+1\\nprint(FCD)\\nprint(FCD.get(\"w\",0))\\nprint(FCD.keys())\\nprint(FCD.values())\\nprint(FCD.items())\\nDK=FCD.keys()#every modification you do on the FCD is done also on the DK\\nprint(DK)\\nFCD[\"w\"]=10\\nprint(type(DK))\\nfor e in DK:\\n    print(e)',\n",
       "  'from email.policy import default\\n\\n\\nFCD={}\\nfor k in LC:\\n    FCD[k]=FCD.get(k,0)+1\\nprint(FCD)\\nprint(FCD.get(\"w\",0))\\nprint(FCD.keys())\\nprint(FCD.values())\\nprint(FCD.items())\\nDK=FCD.keys()#every modification you do on the FCD is done also on the DK\\nprint(DK)\\nFCD[\"w\"]=10\\nprint(type(DK))\\nfor e in DK:\\n    print(e)\\nfor e in DK.values:\\n    print(e)',\n",
       "  'from email.policy import default\\n\\n\\nFCD={}\\nfor k in LC:\\n    FCD[k]=FCD.get(k,0)+1\\nprint(FCD)\\nprint(FCD.get(\"w\",0))\\nprint(FCD.keys())\\nprint(FCD.values())\\nprint(FCD.items())\\nDK=FCD.keys()#every modification you do on the FCD is done also on the DK\\nprint(DK)\\nFCD[\"w\"]=10\\nprint(type(DK))\\nfor e in DK:\\n    print(e)\\nfor e in FCD.values:\\n    print(e)',\n",
       "  'from email.policy import default\\n\\n\\nFCD={}\\nfor k in LC:\\n    FCD[k]=FCD.get(k,0)+1\\nprint(FCD)\\nprint(FCD.get(\"w\",0))\\nprint(FCD.keys())\\nprint(FCD.values())\\nprint(FCD.items())\\nDK=FCD.keys()#every modification you do on the FCD is done also on the DK\\nprint(DK)\\nFCD[\"w\"]=10\\nprint(type(DK))\\nfor e in DK:\\n    print(e)\\nfor e in FCD.values():\\n    print(e)',\n",
       "  'D={1:1,2:10,3:100}\\nDK=D.keys()\\nLV=list(DK)\\nDK[1]=1000\\nprint(LV)',\n",
       "  'D2={\"cat\":\"grigio\",\"red\":\"rosso\"}\\nD.update(D2)\\nprint(D)',\n",
       "  'print(list(D)==list(D.keys()))',\n",
       "  'print(dict([(1,2),(3,4),(5,6)]))',\n",
       "  'print(dir(__buildins__))',\n",
       "  'print(dir(__builtins__))',\n",
       "  '#the python machine is not virgin\\nprint(dir(__builtins__))',\n",
       "  'a=10\\ndef f(s):\\n    x=20\\n    def g(u):\\n        return u\\n    return s+g(x)\\nw=f(a)\\nprint(w)',\n",
       "  'a=10\\ndef f(s):\\n    x=20\\n    def g(u):\\n        return u\\n    return s+g(x)\\nw=f(a)\\nprint(w)\\n#s and x are non local (!=global) to g',\n",
       "  'print(globals())',\n",
       "  'G=globals()\\nG[\"w\"]=400\\nprint(w)',\n",
       "  'locals()'],\n",
       " 'Out': {},\n",
       " 'get_ipython': <bound method InteractiveShell.get_ipython of <ipykernel.zmqshell.ZMQInteractiveShell object at 0x000001DC05386F40>>,\n",
       " 'exit': <IPython.core.autocall.ZMQExitAutocall at 0x1dc05300f10>,\n",
       " 'quit': <IPython.core.autocall.ZMQExitAutocall at 0x1dc05300f10>,\n",
       " '_': '',\n",
       " '__': '',\n",
       " '___': '',\n",
       " 'os': <module 'os' from 'c:\\\\Python39\\\\lib\\\\os.py'>,\n",
       " 'sys': <module 'sys' (built-in)>,\n",
       " '__vsc_ipynb_file__': 'c:\\\\Users\\\\utente\\\\OneDrive\\\\Desktop\\\\Artificial Intelligence UNIBO\\\\Languages_and_algorithms_for_AI\\\\Lecture4.ipynb',\n",
       " '_i': 'G=globals()\\nG[\"w\"]=400\\nprint(w)',\n",
       " '_ii': 'print(globals())',\n",
       " '_iii': 'a=10\\ndef f(s):\\n    x=20\\n    def g(u):\\n        return u\\n    return s+g(x)\\nw=f(a)\\nprint(w)\\n#s and x are non local (!=global) to g',\n",
       " '_i1': 'LC=\"when in the course of humans events\"\\nLL=[]\\nFL=[]\\nfor e in LC:',\n",
       " '_i2': 'LC=\"when in the course of humans events\"\\nLL=[]#list of letters\\nFL=[]#frequency count\\nfor e in LC:\\n    if e is not in LL:\\n        LL.append(e)\\n        \\n    ',\n",
       " '_i3': 'LC=\"when in the course of humans events\"\\nLL=[]#list of letters\\nFL=[]#frequency count\\nfor e in LC:\\n    if e not in (LL):\\n        LL.append(e)\\n        FL.append(0)\\n    else:\\n        FL[LL.index(e)]+=1\\n    ',\n",
       " 'LC': 'when in the course of humans events',\n",
       " 'LL': ['w',\n",
       "  'h',\n",
       "  'e',\n",
       "  'n',\n",
       "  ' ',\n",
       "  'i',\n",
       "  't',\n",
       "  'c',\n",
       "  'o',\n",
       "  'u',\n",
       "  'r',\n",
       "  's',\n",
       "  'f',\n",
       "  'm',\n",
       "  'a',\n",
       "  'v'],\n",
       " 'FL': [0, 2, 4, 3, 5, 0, 1, 0, 1, 1, 0, 2, 0, 0, 0, 0],\n",
       " 'e': 1,\n",
       " '_i4': 'LC=\"when in the course of humans events\"\\nLL=[]#list of letters\\nFL=[]#frequency count\\nfor e in LC:\\n    if e not in (LL):\\n        LL.append(e)\\n        FL.append(0)\\n    else:\\n        FL[LL.index(e)]+=1\\nprint(LL)\\nprint(FL)\\n\\n    ',\n",
       " '_i5': 'LC=\"when in the course of humans events\"\\nLL=[]#list of letters\\nFL=[]#frequency count\\nfor e in LC:\\n    if e not in (LL):\\n        LL.append(e)\\n        FL.append(1)\\n    else:\\n        FL[LL.index(e)]+=1\\nprint(LL)\\nprint(FL)\\n\\n    ',\n",
       " '_i6': 'FCD={}\\nfor i in LC:\\n    if e not in FCD:\\n        FCD[e]=1\\n    else:\\n        FCD[e]+=1\\nprint(FCD)',\n",
       " 'FCD': {'w': 10,\n",
       "  'h': 3,\n",
       "  'e': 5,\n",
       "  'n': 4,\n",
       "  ' ': 6,\n",
       "  'i': 1,\n",
       "  't': 2,\n",
       "  'c': 1,\n",
       "  'o': 2,\n",
       "  'u': 2,\n",
       "  'r': 1,\n",
       "  's': 3,\n",
       "  'f': 1,\n",
       "  'm': 1,\n",
       "  'a': 1,\n",
       "  'v': 1},\n",
       " 'i': 's',\n",
       " '_i7': 'LC=\"when in the course of humans events\"\\nLL=[]#list of letters\\nFL=[]#frequency count\\nfor e in LC:\\n    if e not in (LL):\\n        LL.append(e)\\n        FL.append(0)\\n    else:\\n        FL[LL.index(e)]+=1\\nprint(LL)\\nprint(FL)\\n\\n\\n\\n    ',\n",
       " '_i8': 'FCD={}\\nfor i in LC:\\n    if e not in FCD:\\n        FCD[e]=1\\n    else:\\n        FCD[e]+=1\\nprint(FCD)',\n",
       " '_i9': 'FCD={}\\nfor e in LC:\\n    if e not in FCD:\\n        FCD[e]=1\\n    else:\\n        FCD[e]+=1\\nprint(FCD)',\n",
       " '_i10': 'D={1:\"simone\",2:\"maria\",3:\"teresa\"}\\nF={1:\"simone\",2:\"maria\",3:\"teresa\",1:\"marco\"}',\n",
       " 'D': {1: 1, 2: 10, 3: 100, 'cat': 'grigio', 'red': 'rosso'},\n",
       " 'F': {1: 'marco', 2: 'maria', 3: 'teresa'},\n",
       " '_i11': 'D={1:\"simone\",2:\"maria\",3:\"teresa\"}\\nF={1:\"simone\",2:\"maria\",3:\"teresa\",1:\"marco\"}\\nprint(F)',\n",
       " '_i12': 'D={1:\"simone\",2:\"maria\",3:\"teresa\"}\\nF={1:\"simone\",2:\"maria\",3:\"teresa\",1:\"marco\"}\\nprint(D)\\nprint(F)',\n",
       " '_i13': 'D={1:\"simone\",2:\"maria\",3:\"teresa\"}\\nF={1:\"simone\",2:\"maria\",3:\"teresa\",1:\"marco\"}\\nprint(D)\\nprint(F)\\nG={(1,2):100,9:\"simone\",2:[1,2,3,4,5]}',\n",
       " 'G': {...},\n",
       " '_i14': 'D={1:\"simone\",2:\"maria\",3:\"teresa\"}\\nF={1:\"simone\",2:\"maria\",3:\"teresa\",1:\"marco\"}\\nprint(D)\\nprint(F)\\nG={(1,2):100,9:\"simone\",2:[1,2,3,4,5]}\\nprint(G)',\n",
       " '_i15': 'D={1:\"simone\",2:\"maria\",3:\"teresa\"}\\nF={1:\"simone\",2:\"maria\",3:\"teresa\",1:\"marco\"}\\nprint(D)\\nprint(F)\\nG={(1,2):100,9:\"simone\",2:[1,2,3,4,5]}\\nprint(G)\\nGG={(1,[1,2]):100}',\n",
       " '_i16': 'print(len(G))\\nprint(G[2])\\nG[2]=\"franco\"\\nprint(G)',\n",
       " '_i17': 'G[5]=0',\n",
       " '_i18': 'print(G[5])',\n",
       " '_i19': 'LC=\"when in the course of humans events\"\\nLL=[]#list of letters\\nFL=[]#frequency count\\nfor e in LC:\\n    if e not in (LL):\\n        LL.append(e)\\n        FL.append(0)\\n    else:\\n        FL[LL.index(e)]+=1\\nprint(LL)\\nprint(FL)\\n\\n\\n\\n    ',\n",
       " '_i20': 'FCD={}\\nfor e in LC:\\n    if e not in FCD:\\n        FCD[e]=1\\n    else:\\n        FCD[e]+=1\\nprint(FCD)',\n",
       " '_i21': 'D={1:\"simone\",2:\"maria\",3:\"teresa\"}\\nF={1:\"simone\",2:\"maria\",3:\"teresa\",1:\"marco\"}\\nprint(D)\\nprint(F)\\nG={(1,2):100,9:\"simone\",2:[1,2,3,4,5]}\\nprint(G)\\nGG={(1,[1,2]):100}#not values because has a component of not immutable types: list',\n",
       " '_i22': 'print(G[5])',\n",
       " '_i23': 'G[5]=\"roberta\"\\nprint(G[5])',\n",
       " '_i24': 'G[5]=\"roberta\"\\nprint(G)',\n",
       " '_i25': 'print(10 in G)\\nprint(2 in G)\\nprint(\"roberta\" in G)',\n",
       " '_i26': 'for k in G:\\n    #loop on the keys of the dictionaries\\n    print(k,G[k])',\n",
       " 'k': 's',\n",
       " '_i27': 'for k in G:\\n    if k==2:\\n        del G[k]',\n",
       " '_i28': 'FCD={}\\nfor e in LC:\\n    FCD[k]=FCD.get(k,)+1\\nprint(FCD)',\n",
       " '_i29': 'FCD={}\\nfor e in LC:\\n    FCD[k]=FCD.get(k,0)+1\\nprint(FCD)',\n",
       " '_i30': 'FCD={}\\nfor k in LC:\\n    FCD[k]=FCD.get(k,0)+1\\nprint(FCD)',\n",
       " '_i31': 'FCD={}\\nfor k in LC:\\n    FCD[k]=FCD.get(k,0)+1\\nprint(FCD)\\nprint(FCD.keys())\\nprint(FCD.values())\\nprint(FCD.items())',\n",
       " '_i32': 'FCD={}\\nfor k in LC:\\n    FCD[k]=FCD.get(k,0)+1\\nprint(FCD)\\nprint(FCD.get(1))\\nprint(FCD.keys())\\nprint(FCD.values())\\nprint(FCD.items())',\n",
       " '_i33': 'FCD={}\\nfor k in LC:\\n    FCD[k]=FCD.get(k,0)+1\\nprint(FCD)\\nprint(FCD.get(\"w\"))\\nprint(FCD.keys())\\nprint(FCD.values())\\nprint(FCD.items())',\n",
       " '_i34': 'from email.policy import default\\n\\n\\nFCD={}\\nfor k in LC:\\n    FCD[k]=FCD.get(k,0)+1\\nprint(FCD)\\nprint(FCD.get(default))\\nprint(FCD.keys())\\nprint(FCD.values())\\nprint(FCD.items())',\n",
       " 'default': EmailPolicy(),\n",
       " '_i35': 'from email.policy import default\\n\\n\\nFCD={}\\nfor k in LC:\\n    FCD[k]=FCD.get(k,0)+1\\nprint(FCD)\\nprint(FCD.get(\"w\",0))\\nprint(FCD.keys())\\nprint(FCD.values())\\nprint(FCD.items())',\n",
       " '_i36': 'from email.policy import default\\n\\n\\nFCD={}\\nfor k in LC:\\n    FCD[k]=FCD.get(k,0)+1\\nprint(FCD)\\nprint(FCD.get(\"w\",0))\\nprint(FCD.keys())\\nprint(FCD.values())\\nprint(FCD.items())\\nDK=FCD.keys()\\nprint(DK)',\n",
       " 'DK': dict_keys([1, 2, 3, 'cat', 'red']),\n",
       " '_i37': 'from email.policy import default\\n\\n\\nFCD={}\\nfor k in LC:\\n    FCD[k]=FCD.get(k,0)+1\\nprint(FCD)\\nprint(FCD.get(\"w\",0))\\nprint(FCD.keys())\\nprint(FCD.values())\\nprint(FCD.items())\\nDK=FCD.keys()#every modification you do on the FCD is done also on the DK\\nprint(DK)\\nFCD[\"w\"]=10\\nprint(type(DK))',\n",
       " '_i38': 'from email.policy import default\\n\\n\\nFCD={}\\nfor k in LC:\\n    FCD[k]=FCD.get(k,0)+1\\nprint(FCD)\\nprint(FCD.get(\"w\",0))\\nprint(FCD.keys())\\nprint(FCD.values())\\nprint(FCD.items())\\nDK=FCD.keys()#every modification you do on the FCD is done also on the DK\\nprint(DK)\\nFCD[\"w\"]=10\\nprint(type(DK))\\nfor e in DK:\\n    print(e)',\n",
       " '_i39': 'from email.policy import default\\n\\n\\nFCD={}\\nfor k in LC:\\n    FCD[k]=FCD.get(k,0)+1\\nprint(FCD)\\nprint(FCD.get(\"w\",0))\\nprint(FCD.keys())\\nprint(FCD.values())\\nprint(FCD.items())\\nDK=FCD.keys()#every modification you do on the FCD is done also on the DK\\nprint(DK)\\nFCD[\"w\"]=10\\nprint(type(DK))\\nfor e in DK:\\n    print(e)\\nfor e in DK.values:\\n    print(e)',\n",
       " '_i40': 'from email.policy import default\\n\\n\\nFCD={}\\nfor k in LC:\\n    FCD[k]=FCD.get(k,0)+1\\nprint(FCD)\\nprint(FCD.get(\"w\",0))\\nprint(FCD.keys())\\nprint(FCD.values())\\nprint(FCD.items())\\nDK=FCD.keys()#every modification you do on the FCD is done also on the DK\\nprint(DK)\\nFCD[\"w\"]=10\\nprint(type(DK))\\nfor e in DK:\\n    print(e)\\nfor e in FCD.values:\\n    print(e)',\n",
       " '_i41': 'from email.policy import default\\n\\n\\nFCD={}\\nfor k in LC:\\n    FCD[k]=FCD.get(k,0)+1\\nprint(FCD)\\nprint(FCD.get(\"w\",0))\\nprint(FCD.keys())\\nprint(FCD.values())\\nprint(FCD.items())\\nDK=FCD.keys()#every modification you do on the FCD is done also on the DK\\nprint(DK)\\nFCD[\"w\"]=10\\nprint(type(DK))\\nfor e in DK:\\n    print(e)\\nfor e in FCD.values():\\n    print(e)',\n",
       " '_i42': 'D={1:1,2:10,3:100}\\nDK=D.keys()\\nLV=list(DK)\\nDK[1]=1000\\nprint(LV)',\n",
       " 'LV': [1, 2, 3],\n",
       " '_i43': 'D2={\"cat\":\"grigio\",\"red\":\"rosso\"}\\nD.update(D2)\\nprint(D)',\n",
       " 'D2': {'cat': 'grigio', 'red': 'rosso'},\n",
       " '_i44': 'print(list(D)==list(D.keys()))',\n",
       " '_i45': 'print(dict([(1,2),(3,4),(5,6)]))',\n",
       " '_i46': 'print(dir(__buildins__))',\n",
       " '_i47': 'print(dir(__builtins__))',\n",
       " '_i48': '#the python machine is not virgin\\nprint(dir(__builtins__))',\n",
       " '_i49': 'a=10\\ndef f(s):\\n    x=20\\n    def g(u):\\n        return u\\n    return s+g(x)\\nw=f(a)\\nprint(w)',\n",
       " 'a': 10,\n",
       " 'f': <function __main__.f(s)>,\n",
       " 'w': 400,\n",
       " '_i50': 'a=10\\ndef f(s):\\n    x=20\\n    def g(u):\\n        return u\\n    return s+g(x)\\nw=f(a)\\nprint(w)\\n#s and x are non local (!=global) to g',\n",
       " '_i51': 'print(globals())',\n",
       " '_i52': 'G=globals()\\nG[\"w\"]=400\\nprint(w)',\n",
       " '_i53': 'locals()'}"
      ]
     },
     "execution_count": 53,
     "metadata": {},
     "output_type": "execute_result"
    }
   ],
   "source": [
    "locals()# returns a copy of the actual dictionary local"
   ]
  },
  {
   "cell_type": "code",
   "execution_count": null,
   "metadata": {},
   "outputs": [
    {
     "name": "stdout",
     "output_type": "stream",
     "text": [
      "10\n"
     ]
    }
   ],
   "source": [
    "def succ(x):\n",
    "    return x+1\n",
    "def twice(h,x):\n",
    "    return h(h(x))\n",
    "#h is someting that should be collable\n",
    "def plus2(x):\n",
    "    return twice(succ,x)\n",
    "print(plus2(8))\n"
   ]
  },
  {
   "cell_type": "code",
   "execution_count": null,
   "metadata": {},
   "outputs": [
    {
     "name": "stdout",
     "output_type": "stream",
     "text": [
      "10\n"
     ]
    }
   ],
   "source": [
    "def foo(x):\n",
    "    def g(y):\n",
    "        return x+y\n",
    "    return g\n",
    "add2=(foo(2))\n",
    "print(add2(8))\n"
   ]
  },
  {
   "cell_type": "code",
   "execution_count": null,
   "metadata": {},
   "outputs": [
    {
     "name": "stdout",
     "output_type": "stream",
     "text": [
      "0\n",
      "<function f at 0x000001DC076D58B0>\n",
      "<class 'list'>\n",
      "['s', 'i', 'm', 'o', 'n', 'e']\n"
     ]
    }
   ],
   "source": [
    "def f():\n",
    "    return 0\n",
    "def g():\n",
    "    return f\n",
    "L=[1,g]\n",
    "print(L[1]()())\n",
    "print(L[1]())\n",
    "L=[1,2,3]\n",
    "print(type(L))\n",
    "print(type(L)(\"simone\"))"
   ]
  },
  {
   "cell_type": "markdown",
   "metadata": {},
   "source": [
    "# Lambda expression"
   ]
  },
  {
   "cell_type": "code",
   "execution_count": null,
   "metadata": {},
   "outputs": [],
   "source": [
    "succ=lambda z:z+1\n",
    "def succ(z):\n",
    "    return z+1\n",
    "succ=(lambda z:z*3)(\"simone\")\n",
    "plus=lambda x: twice(lambda z: z+1,x)\n",
    "def f():\n",
    "    A=10\n",
    "    return lambda x:A+x\n",
    "V=f()\n",
    "V(9)\n"
   ]
  },
  {
   "cell_type": "code",
   "execution_count": 71,
   "metadata": {},
   "outputs": [
    {
     "name": "stdout",
     "output_type": "stream",
     "text": [
      "[1, 16, 49, 100, 169, 256, 361]\n"
     ]
    }
   ],
   "source": [
    "L=[i**2 for i in range(20) if i%3==1]\n",
    "print(L)"
   ]
  },
  {
   "cell_type": "code",
   "execution_count": 72,
   "metadata": {},
   "outputs": [
    {
     "name": "stdout",
     "output_type": "stream",
     "text": [
      "{0: 0, 1: 1, 2: 4, 3: 9, 4: 16}\n"
     ]
    }
   ],
   "source": [
    "D={i:i**2 for i in range(5)}\n",
    "print(D)"
   ]
  },
  {
   "cell_type": "code",
   "execution_count": 83,
   "metadata": {},
   "outputs": [
    {
     "name": "stdout",
     "output_type": "stream",
     "text": [
      "<generator object <genexpr> at 0x000001DC0770D350>\n",
      "0\n",
      "1\n",
      "4\n",
      "9\n",
      "16\n"
     ]
    }
   ],
   "source": [
    "T=(i**2 for i in range(5))\n",
    "print(T)\n",
    "#The generator generates the element of the tuple one after the other by using the function next.\n",
    "print(next(T))\n",
    "print(next(T))\n",
    "print(next(T))\n",
    "print(next(T))\n",
    "print(next(T))\n",
    "#print(next(T))\n"
   ]
  },
  {
   "cell_type": "code",
   "execution_count": 87,
   "metadata": {},
   "outputs": [
    {
     "name": "stdout",
     "output_type": "stream",
     "text": [
      "0\n",
      "1\n",
      "4\n",
      "9\n",
      "16\n",
      "16\n"
     ]
    }
   ],
   "source": [
    "T=(i**2 for i in range(5))\n",
    "for i in T:\n",
    "    print(i)\n",
    "#del i\n",
    "print(i)\n"
   ]
  },
  {
   "cell_type": "markdown",
   "metadata": {},
   "source": [
    "# Generators"
   ]
  },
  {
   "cell_type": "code",
   "execution_count": null,
   "metadata": {},
   "outputs": [],
   "source": [
    "L=[i**2 for i in range(5)]\n",
    "L=[]\n",
    "for i in range(5):\n",
    "    L.append(i**2)\n"
   ]
  },
  {
   "cell_type": "markdown",
   "metadata": {},
   "source": [
    "DO i have an explicit version of creating a generator?"
   ]
  },
  {
   "cell_type": "code",
   "execution_count": 89,
   "metadata": {},
   "outputs": [],
   "source": [
    "def TT():\n",
    "    for i in range(5):\n",
    "        yield i**2\n"
   ]
  },
  {
   "cell_type": "markdown",
   "metadata": {},
   "source": [
    "***yield*** return but stays in the scope and store it in a generator."
   ]
  },
  {
   "cell_type": "code",
   "execution_count": 94,
   "metadata": {},
   "outputs": [
    {
     "name": "stdout",
     "output_type": "stream",
     "text": [
      "<generator object TT at 0x000001DC077C9510>\n",
      "<generator object TT at 0x000001DC077C9510>\n",
      "0\n",
      "1\n",
      "4\n"
     ]
    },
    {
     "ename": "TypeError",
     "evalue": "'function' object is not iterable",
     "output_type": "error",
     "traceback": [
      "\u001b[1;31m---------------------------------------------------------------------------\u001b[0m",
      "\u001b[1;31mTypeError\u001b[0m                                 Traceback (most recent call last)",
      "Cell \u001b[1;32mIn [94], line 7\u001b[0m\n\u001b[0;32m      5\u001b[0m \u001b[39mprint\u001b[39m(\u001b[39mnext\u001b[39m(T))\n\u001b[0;32m      6\u001b[0m \u001b[39mprint\u001b[39m(\u001b[39mnext\u001b[39m(T))\n\u001b[1;32m----> 7\u001b[0m T\u001b[39m=\u001b[39m\u001b[39mtuple\u001b[39;49m(TT)\n",
      "\u001b[1;31mTypeError\u001b[0m: 'function' object is not iterable"
     ]
    }
   ],
   "source": [
    "print(TT())\n",
    "T=TT()\n",
    "print(T)\n",
    "print(next(T))\n",
    "print(next(T))\n",
    "print(next(T))"
   ]
  },
  {
   "cell_type": "code",
   "execution_count": 95,
   "metadata": {},
   "outputs": [],
   "source": [
    "def Try():\n",
    "    i=0\n",
    "    while True:\n",
    "         yield i**2# suspende the execution of a function\n",
    "         i=i+1\n",
    "   "
   ]
  },
  {
   "cell_type": "markdown",
   "metadata": {},
   "source": [
    "A call to the generatore will giust return the generatore object. "
   ]
  }
 ],
 "metadata": {
  "kernelspec": {
   "display_name": "Python 3.9.4 64-bit",
   "language": "python",
   "name": "python3"
  },
  "language_info": {
   "codemirror_mode": {
    "name": "ipython",
    "version": 3
   },
   "file_extension": ".py",
   "mimetype": "text/x-python",
   "name": "python",
   "nbconvert_exporter": "python",
   "pygments_lexer": "ipython3",
   "version": "3.9.4"
  },
  "orig_nbformat": 4,
  "vscode": {
   "interpreter": {
    "hash": "81794d4967e6c3204c66dcd87b604927b115b27c00565d3d43f05ba2f3a2cb0d"
   }
  }
 },
 "nbformat": 4,
 "nbformat_minor": 2
}
