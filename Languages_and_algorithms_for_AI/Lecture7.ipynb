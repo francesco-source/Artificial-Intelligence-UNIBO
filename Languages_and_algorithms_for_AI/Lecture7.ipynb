{
 "cells": [
  {
   "cell_type": "markdown",
   "metadata": {},
   "source": [
    "# Lecture 7"
   ]
  },
  {
   "cell_type": "code",
   "execution_count": 1,
   "metadata": {},
   "outputs": [
    {
     "name": "stdout",
     "output_type": "stream",
     "text": [
      "BadBadBadBadBadBadBadBad\n",
      "BadBadBadBadBadBadBadBad\n",
      "BadBadBadBadBadBadBadBad\n",
      "bye\n"
     ]
    }
   ],
   "source": [
    "reply=\"ciao\"\n",
    "k=0\n",
    "while reply!=\"Stop\" and k<3:\n",
    "    try:\n",
    "        print(int(reply)**2)\n",
    "    except:\n",
    "        print(\"Bad\"*8)\n",
    "    reply=\"new impute\"\n",
    "    k+=1\n",
    "print(\"bye\")\n"
   ]
  },
  {
   "cell_type": "code",
   "execution_count": 2,
   "metadata": {},
   "outputs": [
    {
     "name": "stdout",
     "output_type": "stream",
     "text": [
      "ciao\n"
     ]
    }
   ],
   "source": [
    "try:\n",
    "    raise ZeroDivisionError\n",
    "except:\n",
    "    print(\"ciao\")"
   ]
  },
  {
   "cell_type": "code",
   "execution_count": 7,
   "metadata": {},
   "outputs": [
    {
     "name": "stdout",
     "output_type": "stream",
     "text": [
      "caught 100\n"
     ]
    }
   ],
   "source": [
    "class MyExcp(Exception):\n",
    "    pass\n",
    "try:\n",
    "    raise MyExcp(100)\n",
    "except MyExcp as x:\n",
    "    #is local\n",
    "    print(\"caught\",x)\n",
    "#print(x,\"again\")#will raise an error    "
   ]
  },
  {
   "cell_type": "code",
   "execution_count": 9,
   "metadata": {},
   "outputs": [
    {
     "name": "stdout",
     "output_type": "stream",
     "text": [
      "caught\n"
     ]
    }
   ],
   "source": [
    "class MyExcp(Exception):\n",
    "    pass\n",
    "P=(MyExcp,IndexError)\n",
    "try:\n",
    "    raise P[0]\n",
    "except MyExcp:\n",
    "    print(\"caught\") "
   ]
  },
  {
   "cell_type": "code",
   "execution_count": 10,
   "metadata": {},
   "outputs": [
    {
     "name": "stdout",
     "output_type": "stream",
     "text": [
      "caught\n",
      "caught\n",
      "caught\n"
     ]
    }
   ],
   "source": [
    "class MyExcp(Exception):pass\n",
    "class MySpec1(MyExcp):pass\n",
    "class MySpec2(MyExcp):pass\n",
    "for e in (MyExcp(0),MySpec1(1),MySpec2(2)):\n",
    "    try:\n",
    "        raise e\n",
    "    except MyExcp as x:\n",
    "        print(\"caught\")"
   ]
  },
  {
   "cell_type": "code",
   "execution_count": 14,
   "metadata": {},
   "outputs": [
    {
     "name": "stdout",
     "output_type": "stream",
     "text": [
      "D\n",
      "D\n",
      "D\n"
     ]
    }
   ],
   "source": [
    "class B(Exception): pass\n",
    "class C(B): pass\n",
    "class D(B):pass\n",
    "for i in [B,C,D]:\n",
    "    try:\n",
    "        raise i()\n",
    "    except B:\n",
    "        print(\"D\")\n",
    "    except C:\n",
    "        print(\"C\")\n",
    "    except B:\n",
    "        print(\"B\")"
   ]
  },
  {
   "cell_type": "markdown",
   "metadata": {},
   "source": [
    "# How much an operation cost in python"
   ]
  },
  {
   "cell_type": "markdown",
   "metadata": {},
   "source": [
    "The time need to perform an operation is indipendet from the value of the operation "
   ]
  },
  {
   "cell_type": "markdown",
   "metadata": {},
   "source": [
    "There is no max value of maximum integer"
   ]
  },
  {
   "cell_type": "code",
   "execution_count": 21,
   "metadata": {},
   "outputs": [
    {
     "name": "stdout",
     "output_type": "stream",
     "text": [
      "11100.0\n",
      "1000.0\n",
      "1000.0\n",
      "1000.0\n",
      "10000.0\n",
      "1061.5988478182758\n",
      "11161.598847818275\n",
      "12761.598847818275\n",
      "1000.0\n",
      "900.0\n",
      "-100.0\n",
      "-100.0\n",
      "Insufficient funds\n",
      "-1000.0\n",
      "Insufficient funds\n",
      "-1000.0\n",
      "Withdrawn 0 from account 3\n",
      "-1000.0\n",
      "Insufficient funds\n",
      "Withdrawn 0.0 from account 3\n",
      "-1000.0\n",
      "100.0\n",
      "0.0\n",
      "Insufficient funds\n"
     ]
    },
    {
     "data": {
      "text/plain": [
       "0.0"
      ]
     },
     "execution_count": 21,
     "metadata": {},
     "output_type": "execute_result"
    }
   ],
   "source": [
    "#do not insert prints or tests\n",
    "#implement the methods instead of \"pass\"\n",
    "\n",
    "from datetime import datetime\n",
    "\n",
    "class Account:\n",
    "    def __init__(self, bank, number, holder, opening_balance=0.0):\n",
    "        self.bank = bank\n",
    "        self.number = number\n",
    "        self.holder = holder\n",
    "        self.__balance = float(opening_balance)\n",
    "    def set_balance(self,balance):\n",
    "        self.__balance=float(balance)\n",
    "        return None\n",
    "    \n",
    "    def get_balance(self):\n",
    "        return self.__balance\n",
    "    \n",
    "    def set_balance(self, balance):\n",
    "        self.__balance=float(balance)\n",
    "\n",
    "    def deposit(self, amount):\n",
    "        if amount <= 0:\n",
    "            return 0\n",
    "        self.__balance += float(amount)\n",
    "        return amount\n",
    "\n",
    "    def withdraw(self, amount):\n",
    "        if amount <= 0:\n",
    "            return 0\n",
    "        if amount <= self.__balance:\n",
    "            self.__balance -= amount\n",
    "            return amount\n",
    "        else:\n",
    "            everything = self.__balance\n",
    "            self.__balance = 0\n",
    "            print(\"Insufficient funds\")\n",
    "            return everything\n",
    "    \n",
    "    def __lt__(self, other):\n",
    "        #for sorting purposes\n",
    "        return self.number < other.number\n",
    "\n",
    "\n",
    "\n",
    "class Holder:\n",
    "    def __init__(self, ident, name, surname):\n",
    "        self.ident = ident\n",
    "        self.name = name\n",
    "        self.surname = surname\n",
    "        self.__accounts = {}\n",
    "\n",
    "    def add_account(self, account):\n",
    "        if (account.bank, account.number) not in self.__accounts:\n",
    "            self.__accounts[account.bank, account.number] = account\n",
    "\n",
    "    def total_balance(self):\n",
    "        return sum(c.get_balance() for c in self.__accounts.values())\n",
    "        \n",
    "    def __lt__(self, other):\n",
    "        #for sorting purposes\n",
    "        return self.surname < other.surname\n",
    "        \n",
    "\n",
    "class Bank:\n",
    "    def __init__(self, name):\n",
    "        self.name = name\n",
    "        self.__last_created_account = 0\n",
    "        self.__holders = {}\n",
    "        self.__accounts = {}\n",
    "\n",
    "    def print_holders(self):\n",
    "        print(\"Holders of bank\", self.name)\n",
    "        for c in sorted(self.__holders.values()):\n",
    "            print(c.ident, c.name, c.surname)\n",
    "\n",
    "    def print_accounts(self):\n",
    "        print(\"Accounts of bank\", self.name)\n",
    "        for c in sorted(self.__accounts.values()):\n",
    "            print(c.number, c.holder.ident, c.get_balance())\n",
    "\n",
    "    def new_account(self, holder, initial_balance=0, tipology=\"standard\"):\n",
    "        if isinstance(holder, Holder) and initial_balance >= 0:\n",
    "            self.__last_created_account += 1\n",
    "            if tipology == 'interests':\n",
    "                nc = Account_with_interests(self, self.__last_created_account, holder, initial_balance)\n",
    "            elif tipology == 'overdraft':\n",
    "                nc = Account_with_overdraft(self, self.__last_created_account, holder, initial_balance)\n",
    "            else:\n",
    "                nc = Account(self, self.__last_created_account, holder, initial_balance)\n",
    "            self.__accounts[nc.number] = nc\n",
    "            if holder.ident not in self.__holders:\n",
    "                self.__holders[holder.ident] = holder   \n",
    "            holder.add_account(nc)\n",
    "            return nc\n",
    "    \n",
    "    def __get_account(self, account_number):\n",
    "        return self.__accounts.get(account_number, None)\n",
    "\n",
    "    def deposit(self, account_number, amount):\n",
    "        c = self.__get_account(account_number)\n",
    "        if c is None:\n",
    "            print(\"Account not available\")\n",
    "        else:\n",
    "            c.deposit(amount)\n",
    "            print(\"Deposited\", c, \"on account\", account_number)\n",
    "\n",
    "    def withdraw(self, account_number, amount):\n",
    "        c = self.__get_account(account_number)\n",
    "        if c is None:\n",
    "            print(\"Account not available\")\n",
    "            return\n",
    "        p = c.withdraw(amount)\n",
    "        print(\"Withdrawn\", p, \"from account\", account_number)\n",
    "    \n",
    "    def same_bank_transfer(self, debit_account, credit_account, amount):\n",
    "        da = self.__get_account(debit_account)\n",
    "        ca = self.__get_account(credit_account)\n",
    "        if da is None:\n",
    "            print(\"Debit account not available\")\n",
    "            return\n",
    "        if ca is None:\n",
    "            print(\"Credit account not available\")\n",
    "            return\n",
    "        if da.get_balance() < amount:\n",
    "            print(\"Insufficient funds\")\n",
    "            return\n",
    "        da.withdraw(amount)\n",
    "        ca.deposit(amount)\n",
    "    \n",
    "    def another_bank_transfer(self, debit_account, credit_bank, credit_account, amount):\n",
    "        da = self.__get_account(debit_account)\n",
    "        if da is None:\n",
    "            print(\"Debit account not available\")\n",
    "            return\n",
    "        if da.get_balance() < amount:\n",
    "            print(\"Insufficient funds\")\n",
    "            return\n",
    "        if not isinstance(credit_bank, Bank):\n",
    "            print(\"Credit bank not available\")\n",
    "            return\n",
    "        da.withdraw(amount)\n",
    "        credit_bank.deposit(credit_account, amount)\n",
    "\n",
    "\n",
    "\n",
    "\n",
    "class Account_with_interests(Account):\n",
    "    import datetime\n",
    "    def __init__(self, bank, number, holder, opening_balance=0, rate=0.03, n=4):\n",
    "        super().__init__(bank, number, holder, opening_balance)\n",
    "        self.rate=rate\n",
    "        self.n=n\n",
    "        self.__last_year=datetime.now().year\n",
    "        \n",
    "    def add_interests(self, year):\n",
    "        if year>self.__last_year:\n",
    "            d=year-self.__last_year\n",
    "            balance=self.get_balance()*(1+(self.rate/self.n))**(self.n*d)\n",
    "            self.set_balance(balance)\n",
    "        \n",
    "\n",
    "class Account_with_overdraft(Account):\n",
    "    def __init__(self, bank, number, holder, opening_balance=0, overdraft=1000):\n",
    "        super().__init__(bank, number, holder, opening_balance)\n",
    "        self.__overdraft=overdraft\n",
    "        \n",
    "    def withdraw(self, amount):\n",
    "        if amount <= 0:\n",
    "                return 0\n",
    "        everything = self.get_balance() + self.__overdraft\n",
    "        if amount <= everything:\n",
    "            self.set_balance(self.get_balance() - amount)\n",
    "            return amount\n",
    "        else:\n",
    "            self.set_balance(-self.__overdraft)\n",
    "            print(\"Insufficient funds\")\n",
    "            return everything\n",
    "\n",
    "\n",
    "\n",
    "#DO NOT EDIT FROM THIS LINE BELOW\n",
    "\n",
    "ms = Holder('mrcsbr', 'Marco', 'Sbaraglia')\n",
    "ban_bo = Bank(\"Bank Bologna\")\n",
    "ban_rav = Bank(\"Bank Ravenna\")\n",
    "cnt1 = ban_bo.new_account(ms, 1000, 'interests')\n",
    "cnt2 = ban_rav.new_account(ms, 10000, 'interests')\n",
    "cnt3 = ban_bo.new_account(ms, 100)\n",
    "print(ms.total_balance())\n",
    "cnt1.add_interests(2020)\n",
    "print(cnt1.get_balance())\n",
    "cnt1.add_interests(2021)\n",
    "print(cnt1.get_balance())\n",
    "cnt1.add_interests(2022)\n",
    "print(cnt1.get_balance())\n",
    "cnt2.add_interests(2022)\n",
    "print(cnt2.get_balance())\n",
    "cnt1.add_interests(2024)\n",
    "print(cnt1.get_balance())\n",
    "print(ms.total_balance())\n",
    "\n",
    "\n",
    "cnt11 = ban_bo.new_account(ms, 1000, 'overdraft')\n",
    "cnt12 = ban_rav.new_account(ms, 500, 'overdraft')\n",
    "cnt13 = ban_bo.new_account(ms, 100)\n",
    "print(ms.total_balance())\n",
    "print(cnt11.get_balance())\n",
    "cnt11.withdraw(100)\n",
    "print(cnt11.get_balance())\n",
    "cnt11.withdraw(1000)\n",
    "print(cnt11.get_balance())\n",
    "cnt11.withdraw(-200) #non ha effetto\n",
    "print(cnt11.get_balance())\n",
    "cnt11.withdraw(1100)\n",
    "print(cnt11.get_balance())\n",
    "cnt11.withdraw(1100)\n",
    "print(cnt11.get_balance())\n",
    "ban_bo.withdraw(cnt11.number,-100) #non ha effetto\n",
    "print(cnt11.get_balance())\n",
    "ban_bo.withdraw(cnt11.number,2000)\n",
    "print(cnt11.get_balance())\n",
    "print(cnt13.get_balance())\n",
    "cnt13.withdraw(100)\n",
    "print(cnt13.get_balance())\n",
    "cnt13.withdraw(50)"
   ]
  },
  {
   "cell_type": "code",
   "execution_count": 27,
   "metadata": {},
   "outputs": [
    {
     "name": "stdout",
     "output_type": "stream",
     "text": [
      "-3 c Fraction NOT created: TypeError - non integer numerator or denominator\n",
      "-3 0 Fraction NOT created: ZeroDivisionError - denominator is 0\n",
      "-3 -2 Fraction NOT created: ValueError - negative denominator, sign should be in numerator\n",
      "Created fractions are: \n",
      "1/4\n",
      "-3/2\n",
      "5/1\n",
      "8/9\n"
     ]
    }
   ],
   "source": [
    "class New_Fraction:\n",
    "    #INSERT INIT HERE\n",
    "    def __init__(self,N,D=1):\n",
    "        if type(N)!= int or type(D)!= int:\n",
    "                raise TypeError(\"non integer numerator or denominator\")\n",
    "        elif D==0:\n",
    "                raise ZeroDivisionError(\"denominator is 0\")\n",
    "        elif D<0:\n",
    "                raise ValueError(\"negative denominator, sign should be in numerator\")\n",
    "        else:\n",
    "            self.__num=N\n",
    "            self.__den=D\n",
    "\n",
    "    #DO NOT MODIFY OR DELETE __str__ METHOD\n",
    "    def __str__(self):\n",
    "        return str(self.__num) + \"/\" + str(self.__den)\n",
    "\n",
    "#TEST: DO NOT MODIFY CODE BELOW\n",
    "L = [(1,4),(-3,'c'),(-3,0),(-3,-2),(-3,2),(5,1),(8,9)]\n",
    "F = []\n",
    "for (num, den) in L:\n",
    "    try:\n",
    "        f = New_Fraction(num,den)\n",
    "        F.append(f)\n",
    "    except Exception as e:\n",
    "        print(str(num), str(den), \"Fraction NOT created:\", type(e).__name__, \"-\", e)\n",
    "\n",
    "print(\"Created fractions are: \")\n",
    "for f in F:\n",
    "    print(f)"
   ]
  },
  {
   "cell_type": "code",
   "execution_count": null,
   "metadata": {},
   "outputs": [],
   "source": [
    "class NegativeIntegerError(Exception): pass\n",
    "class Terminate(Exception): pass\n",
    "\n",
    "tot = 0\n",
    "n = 0\n",
    "try:\n",
    "    while True:  \n",
    "        try:\n",
    "            r = int(input(\"R:\\n\"))\n",
    "            if r == 99999:\n",
    "                raise Terminate\n",
    "            if r < 0:\n",
    "                raise NegativeIntegerError\n",
    "            tot += r\n",
    "            n += 1   \n",
    "        except ValueError:\n",
    "            print(\"II\") #invalid integer\n",
    "        except NegativeIntegerError:\n",
    "            print(\"NI\") #negative integer\n",
    "except Terminate:\n",
    "    try:\n",
    "        print(round(tot/n, 2))\n",
    "    except ZeroDivisionError:\n",
    "        print(\"ZERO\")\n"
   ]
  },
  {
   "cell_type": "code",
   "execution_count": 16,
   "metadata": {},
   "outputs": [
    {
     "name": "stdout",
     "output_type": "stream",
     "text": [
      "[[ 0 20  4]\n",
      " [ 7  4  5]]\n"
     ]
    }
   ],
   "source": [
    "import numpy as np\n",
    "def merge(a,b):\n",
    "    b=b.reshape(a.shape)\n",
    "    b[b<a]=0\n",
    "    a[a<b]=0\n",
    "    return a+b\n",
    "print(merge(np.array([[0,20,4],[7,1,3]]),np.array([0,1,2,3,4,5])))"
   ]
  },
  {
   "cell_type": "code",
   "execution_count": 19,
   "metadata": {},
   "outputs": [
    {
     "name": "stdout",
     "output_type": "stream",
     "text": [
      "[[ 1.   0.5 -2. ]\n",
      " [-1.  -0.5  2. ]]\n"
     ]
    }
   ],
   "source": [
    "import numpy as np\n",
    "\n",
    "def demean(a):\n",
    "    b=np.mean(a,axis=0)\n",
    "    c=a-b\n",
    "    return c\n",
    "    \n",
    "print(demean(np.array([[7,2,4],[5,1,8]])))"
   ]
  },
  {
   "cell_type": "code",
   "execution_count": 25,
   "metadata": {},
   "outputs": [
    {
     "name": "stdout",
     "output_type": "stream",
     "text": [
      "[21 23]\n"
     ]
    }
   ],
   "source": [
    "import numpy as np\n",
    "def colsum(a):\n",
    "    \n",
    "    b=np.sum(np.sum(a[:,::2],axis=0))\n",
    "    c=np.sum(np.sum(a[:,1::2],axis=0))\n",
    "    return np.array((b,c))\n",
    "\n",
    "print(colsum(np.array([[2, 7, 8, 0],\n",
    "                       [3, 9, 3, 4],\n",
    "                       [4, 0, 1, 3]])))"
   ]
  },
  {
   "cell_type": "code",
   "execution_count": 27,
   "metadata": {},
   "outputs": [
    {
     "name": "stdout",
     "output_type": "stream",
     "text": [
      "3\n"
     ]
    }
   ],
   "source": [
    "import numpy as np\n",
    "\n",
    "def count_common(a,b):\n",
    "    #begin student code\n",
    "    return len(a[a==b])\n",
    "\n",
    "\n",
    "print(count_common(np.array([[1,3,8],\n",
    "              [4,5,2],\n",
    "              [3,2,9]]),np.array([[2,3,7],\n",
    "              [4,5,9],\n",
    "              [6,6,6]])))"
   ]
  },
  {
   "cell_type": "code",
   "execution_count": 30,
   "metadata": {},
   "outputs": [
    {
     "name": "stdout",
     "output_type": "stream",
     "text": [
      "[[0 1 0 1 0 1 0 1 0 1]\n",
      " [1 0 1 0 1 0 1 0 1 0]\n",
      " [0 1 0 1 0 1 0 1 0 1]\n",
      " [1 0 1 0 1 0 1 0 1 0]\n",
      " [0 1 0 1 0 1 0 1 0 1]\n",
      " [1 0 1 0 1 0 1 0 1 0]\n",
      " [0 1 0 1 0 1 0 1 0 1]\n",
      " [1 0 1 0 1 0 1 0 1 0]\n",
      " [0 1 0 1 0 1 0 1 0 1]\n",
      " [1 0 1 0 1 0 1 0 1 0]]\n"
     ]
    }
   ],
   "source": [
    "import numpy as np\n",
    "def checkerboard(m):\n",
    "    def f(i,j):\n",
    "        if i%2==0:\n",
    "            if (i+j)%2==0:\n",
    "                return 0\n",
    "            else:\n",
    "                return 1\n",
    "        else:\n",
    "            if (i+j)%2==1:\n",
    "                return 1\n",
    "            else:\n",
    "                return 0\n",
    "    f=np.vectorize(f)        \n",
    "    a=np.fromfunction(f,(m,m))\n",
    "    return a\n",
    "print(checkerboard(10))"
   ]
  },
  {
   "cell_type": "code",
   "execution_count": 55,
   "metadata": {},
   "outputs": [
    {
     "name": "stdout",
     "output_type": "stream",
     "text": [
      "[[1 2]\n",
      " [3 1]\n",
      " [3 3]]\n"
     ]
    }
   ],
   "source": [
    "import numpy as np\n",
    "def zerocolumns(a):\n",
    "    b=np.prod(a,axis=0)!=0\n",
    "    return a[:,b]\n",
    "    \n",
    "    \n",
    "print(zerocolumns(np.array([[1,2,0],[3,1,1],[3,3,0]])))       "
   ]
  },
  {
   "cell_type": "code",
   "execution_count": 56,
   "metadata": {},
   "outputs": [
    {
     "name": "stdout",
     "output_type": "stream",
     "text": [
      "[[0.         1.         2.        ]\n",
      " [1.         1.41421356 2.23606798]\n",
      " [2.         2.23606798 2.82842712]]\n"
     ]
    }
   ],
   "source": [
    "import numpy as np\n",
    "def arraydistance(p,q):\n",
    "    def f(i,j):\n",
    "        return np.sqrt(i**2+j**2)\n",
    "    return np.fromfunction(f,(p,q))\n",
    "print(arraydistance(3,3))\n"
   ]
  },
  {
   "cell_type": "code",
   "execution_count": 100,
   "metadata": {},
   "outputs": [
    {
     "name": "stdout",
     "output_type": "stream",
     "text": [
      "[[ 1  0  3  2]\n",
      " [ 5  4  7  6]\n",
      " [ 9  8 11 10]\n",
      " [13 12 15 14]\n",
      " [17 16 19 18]]\n"
     ]
    }
   ],
   "source": [
    "#do not insert print or tests\n",
    "import numpy as np\n",
    "def exchangecolumns(a):\n",
    "    if len(a[0,:])%2!=0:\n",
    "        return a\n",
    "    b=np.copy(a)\n",
    "    a[:,0::2],a[:,1::2]= b[:,1::2],b[:,0::2]\n",
    "    return a\n",
    "   \n",
    "\n",
    "\n",
    "\n",
    "print(exchangecolumns(np.arange(0,20).reshape(5,4)))"
   ]
  },
  {
   "cell_type": "code",
   "execution_count": 5,
   "metadata": {},
   "outputs": [
    {
     "name": "stdout",
     "output_type": "stream",
     "text": [
      "[[1 2]\n",
      " [3 4]]\n"
     ]
    }
   ],
   "source": [
    "import numpy as np\n",
    "def nonzero(m):\n",
    "    return m[:,np.prod(m,axis=0)!=0]\n",
    "print(nonzero(np.array([[1,2,3],[3,4,0]])))"
   ]
  },
  {
   "cell_type": "code",
   "execution_count": 11,
   "metadata": {},
   "outputs": [
    {
     "name": "stdout",
     "output_type": "stream",
     "text": [
      "[[ 4  5  6]\n",
      " [ 7  8 31]\n",
      " [32 33 34]\n",
      " [39 40 41]]\n"
     ]
    }
   ],
   "source": [
    "import numpy as np\n",
    "def modify(a, n):\n",
    "    #insert only one line here\n",
    "    a[a>n]=a[a>n]+np.sum(a[a<n])\n",
    "    #end student code\n",
    "    return a\n",
    "\n",
    "\n",
    "a = np.array([[4, 5, 6], [7,8,9], [10, 11, 12], [17, 18, 19]])\n",
    "print(modify(a, 8))"
   ]
  },
  {
   "cell_type": "code",
   "execution_count": 39,
   "metadata": {},
   "outputs": [
    {
     "name": "stdout",
     "output_type": "stream",
     "text": [
      "[1, 0, 2, 3, -4] ****** 1\n",
      "[1, 0, 2, 3, -4] ****** 2\n",
      "[1, 0, 2, 0, 0, 3, -4] ****** 3\n",
      "[1, 0, 2, 0, 0, 3, -4] ****** 4\n",
      "[1, 0, 2, 0, 0, 3, -4] ****** 5\n",
      "[1, 0, 2, 0, 0, 3, 0, 0, 0, -4] ****** 6\n",
      "[1, 0, 2, 0, 0, 3, 0, 0, 0, -4] ****** 7\n",
      "[1, 0, 2, 0, 0, 3, 0, 0, 0, -4] ****** 8\n",
      "[1, 0, 2, 0, 0, 3, 0, 0, 0, -4] ****** 9\n",
      "[1, 0, 2, 0, 0, 3, 0, 0, 0] ****** 9\n",
      "[1, 0, 2, 0, 0, 3, 0, 0, 0]\n"
     ]
    }
   ],
   "source": [
    "L=[1,2,3,-4]\n",
    "i=0\n",
    "while i<len(L):\n",
    "        if L[i] <0 :\n",
    "            del L[i]\n",
    "        elif L[i]>=0:\n",
    "            L[i+1:i+1]=[0]*L[i]\n",
    "            i+=1\n",
    "        print(L,\"******\",i)   \n",
    "print(L)"
   ]
  },
  {
   "cell_type": "code",
   "execution_count": 41,
   "metadata": {},
   "outputs": [
    {
     "name": "stdout",
     "output_type": "stream",
     "text": [
      "False\n",
      "True\n"
     ]
    }
   ],
   "source": [
    "class Top:\n",
    "    def __init__(self,c): #DO NOT modify __init__\n",
    "        if type(c)!=int:\n",
    "            raise TypeError\n",
    "        self.__n=c\n",
    "    def get(self):\n",
    "            return self.__n\n",
    "    #complete here the def of Top, as needed\n",
    "class A(Top):\n",
    "    def __eq__(self,other):\n",
    "        return self.get()==other.get()\n",
    "    #complete here the def of A, as needed\n",
    "class B(A):\n",
    "    def __eq__(self,other):\n",
    "        return abs(self.get())==abs(self.get())\n",
    "    #complete here the def of B, as needed\n",
    "\n",
    "# DO NOT MODIFY THE FOLLOWING\n",
    "a1=A(1)\n",
    "a2=A(-1)\n",
    "\n",
    "print(a1==a2)\n",
    "\n",
    "b1=B(1)\n",
    "b2=B(-1)\n",
    "\n",
    "print(b1==b2)"
   ]
  },
  {
   "cell_type": "code",
   "execution_count": 43,
   "metadata": {},
   "outputs": [
    {
     "name": "stdout",
     "output_type": "stream",
     "text": [
      "[0 4 7 3 6 6 2]\n",
      "[7 1]\n",
      "[7 6 1 3 5 2 4 2 0]\n"
     ]
    }
   ],
   "source": [
    "#do not insert print or tests\n",
    "import numpy as np\n",
    "\n",
    "def select(a, b, n):\n",
    "    #BEGIN STUDENT CODE HERE\n",
    "    if a.size != b.size:\n",
    "        return a\n",
    "    b=b.reshape(a.shape)\n",
    "    c= a[b<n]\n",
    "    return np.ravel(c)\n",
    "    #END STUDEND CODE HERE\n",
    "    \n",
    "#DO NOT EDIT BELOW\n",
    "\n",
    "#test 1\n",
    "a = np.array([[0, 4, 3, 7],\n",
    "              [3, 2, 4, 4],\n",
    "              [6, 6, 6, 2]])\n",
    "b = np.array([1, 2, 9, 5, 2, 9, 6, 7, 7, 2, 3, 2])\n",
    "\n",
    "print(select(a, b, 6))\n",
    "\n",
    "#test 2\n",
    "\n",
    "a = np.array([[3, 7],\n",
    "              [1, 3]])\n",
    "\n",
    "b = np.array([[5, 2],\n",
    "              [0, 9]])\n",
    "\n",
    "print(select(a, b, 5))\n",
    "\n",
    "#test 3\n",
    "a = np.array([7, 6, 1, 3, 5, 2, 4, 2, 0])\n",
    "\n",
    "b = np.array([[6, 2],\n",
    "              [3, 0],\n",
    "              [3, 5],\n",
    "              [9, 9],\n",
    "              [8, 1]])\n",
    "\n",
    "print(select(a, b, 5))"
   ]
  },
  {
   "cell_type": "code",
   "execution_count": 45,
   "metadata": {},
   "outputs": [
    {
     "name": "stdout",
     "output_type": "stream",
     "text": [
      "30\n",
      "77\n"
     ]
    }
   ],
   "source": [
    "class A:\n",
    "    def __init__(self, xx): \n",
    "        self.__x = xx\n",
    "    def get(self): \n",
    "        return self.__x\n",
    "class B(A):\n",
    "    pass\n",
    "\n",
    "class C(B):\n",
    "    def __init__(self,x):\n",
    "        super().__init__(x)\n",
    "    def get(self):\n",
    "        return super().get()\n",
    "        \n",
    "    def __add__(self,other):\n",
    "        return C(self.get()+other.get())\n",
    "    def __str__(self):\n",
    "        return str(self.get())\n",
    "    #INSERT YOUR OTHER METHOD DEFINITIONS, if needed\n",
    "\n",
    "\n",
    "#DO NOT MODIFY FROM HERE!\n",
    "b=C(10)\n",
    "c=C(20)\n",
    "print(b+c)\n",
    "b=C(70)\n",
    "c=C(7)\n",
    "print(b+c)"
   ]
  },
  {
   "cell_type": "code",
   "execution_count": 52,
   "metadata": {},
   "outputs": [
    {
     "name": "stdout",
     "output_type": "stream",
     "text": [
      "False\n",
      "[1, 1, 2]\n",
      "True\n",
      "[1, 1, 2, 4, 8, 16]\n"
     ]
    }
   ],
   "source": [
    "def fexp(L):\n",
    "    if len(L)<=2:\n",
    "        return True\n",
    "    sum=L[0]\n",
    "    var=True\n",
    "    for i in range(1,len(L)):\n",
    "        if L[i]==sum:\n",
    "            sum+=L[i]\n",
    "        else:\n",
    "            var=False\n",
    "    if var:\n",
    "        return True\n",
    "    else:\n",
    "        sum=L[0]\n",
    "        for i in range(len(L)):\n",
    "            if L[i]==sum:\n",
    "                sum+=L[i]-sum\n",
    "            else:\n",
    "                L[i]=sum\n",
    "                sum+=sum\n",
    "        return False\n",
    "exec('LL=[1,2,3] \\nprint(fexp(LL)) \\nprint(LL)')\n",
    "exec('LL=[1,1,2,4,8,16] \\nprint(fexp(LL)) \\nprint(LL)')\n",
    "                "
   ]
  },
  {
   "cell_type": "code",
   "execution_count": 60,
   "metadata": {},
   "outputs": [
    {
     "name": "stdout",
     "output_type": "stream",
     "text": [
      "[3, 3, 6, 12, 24, 48]\n"
     ]
    }
   ],
   "source": [
    "class SeqMod:\n",
    "    def __init__(self,L):\n",
    "        self.__LL=L\n",
    "    def __str__(self):\n",
    "        return str(self.__LL)\n",
    "    def get(self):\n",
    "        return self.__LL\n",
    "\n",
    "    \n",
    "class SubCl(SeqMod):\n",
    "    def __init__(self,first,n):\n",
    "        sum=first\n",
    "        LL=[first]\n",
    "        for i in range(1,n):\n",
    "            LL.append(sum)\n",
    "            sum+=sum\n",
    "        super().__init__(LL)\n",
    "        \n",
    "        \n",
    "print(SubCl(3,6))"
   ]
  },
  {
   "cell_type": "code",
   "execution_count": 2,
   "metadata": {},
   "outputs": [
    {
     "name": "stdout",
     "output_type": "stream",
     "text": [
      "True\n"
     ]
    }
   ],
   "source": [
    "#do not insert print, or tests\n",
    "def fine(S):\n",
    "    sum_=0\n",
    "    for i,e in enumerate(S):\n",
    "        if e>0:\n",
    "            if e<=sum_:\n",
    "                return False\n",
    "        sum_+=i\n",
    "    return True\n",
    "\n",
    "print(fine([-1,2,2,4,7]))"
   ]
  },
  {
   "cell_type": "code",
   "execution_count": 7,
   "metadata": {},
   "outputs": [
    {
     "name": "stdout",
     "output_type": "stream",
     "text": [
      "[34]\n"
     ]
    }
   ],
   "source": [
    "import numpy as np\n",
    "'''\n",
    "A parity matrix is a 2D NumPy array where the sum of each row is even and the sum of each column is even\n",
    "Write a function erroneous(x) that,\n",
    "given a parity matrix where a single number has been changed,\n",
    "so that the matrix does not satisfy anymore the property of parity (in particular,\n",
    "there is one row and one column whose sums are odd),\n",
    "spots the erroneous item and returns a NumPy array of shape (1,) containing that erroneous number'''\n",
    "def erroneus(x):\n",
    "    b=np.sum(x,axis=0)%2!=0\n",
    "    a=np.sum(x,axis=1)%2!=0\n",
    "    return x[a,b]\n",
    "   \n",
    "a = np.array([\n",
    "             [ 2,  4,  7,  9],\n",
    "             [ 1,  5, 34, 17],\n",
    "             [32, 34, 44, 54],\n",
    "             [14, 15, 16, 19],\n",
    "             [23, 24, 26, 25]])\n",
    "print(erroneus(a))"
   ]
  },
  {
   "cell_type": "code",
   "execution_count": 9,
   "metadata": {},
   "outputs": [
    {
     "name": "stdout",
     "output_type": "stream",
     "text": [
      "C: 30\n"
     ]
    }
   ],
   "source": [
    "class A:\n",
    "    def __init__(self, xx): \n",
    "        self.__x = xx\n",
    "    def get(self): \n",
    "        return self.__x\n",
    "class B(A):\n",
    "    pass\n",
    "\n",
    "class C(B):\n",
    "    def get(self):\n",
    "        #INSERT HERE THE BODY OF get\n",
    "        return super().get()\n",
    "    def __add__(self,other):\n",
    "        return C(self.get()+other.get())\n",
    "    def __str__(self):\n",
    "        return \"C: \"+ str(self.get())\n",
    "print(C(10)+C(20))"
   ]
  },
  {
   "cell_type": "code",
   "execution_count": 14,
   "metadata": {},
   "outputs": [
    {
     "name": "stdout",
     "output_type": "stream",
     "text": [
      "[[1 2 0]\n",
      " [4 5 6]\n",
      " [7 8 9]]\n"
     ]
    }
   ],
   "source": [
    "import numpy as np\n",
    "def nonzero(m):\n",
    "    return m[np.sum(m,axis=1)!=0,:]\n",
    "a= np . array ([[1 , 2, 0] ,\n",
    "[ -1 ,0 , 1] ,\n",
    "[4 , 5, 6] ,\n",
    "[7 , 8, 9]])\n",
    "print(nonzero(a))"
   ]
  },
  {
   "cell_type": "code",
   "execution_count": 15,
   "metadata": {},
   "outputs": [
    {
     "data": {
      "text/plain": [
       "[[1, 2, 3], [2, 1, 3], [2, 3, 1], [1, 3, 2], [3, 1, 2], [3, 2, 1]]"
      ]
     },
     "execution_count": 15,
     "metadata": {},
     "output_type": "execute_result"
    }
   ],
   "source": [
    "def permu(elements):\n",
    "    if len(elements) <= 1:\n",
    "        yield elements\n",
    "        return \n",
    "    for perm in permu(elements[1:]):\n",
    "        for i in range(len(elements)):\n",
    "            # nb elements[0:1] works in both string and list contexts\n",
    "            yield perm[:i] + elements[0:1] + perm[i:]\n",
    "list(permu([1,2,3]))\n",
    "\n"
   ]
  },
  {
   "cell_type": "code",
   "execution_count": 38,
   "metadata": {},
   "outputs": [
    {
     "name": "stdout",
     "output_type": "stream",
     "text": [
      "[0, 1, 2, 3, 4, 5, 6, 7, 8, 9]\n"
     ]
    }
   ],
   "source": [
    "class S:\n",
    "    def __init__(self,x):\n",
    "        self.x=x\n",
    "l=[]\n",
    "for i in range(1,10,1):\n",
    "    \n",
    "    l.append(S(i))\n",
    "l.append(S(0))\n",
    "newlist=[]\n",
    "for i in range(len((l))):\n",
    "    for j in range(len(l)):\n",
    "        if l[i].x<l[j].x:\n",
    "            l[i],l[j]=l[j],l[i]        \n",
    "print([i.x for i in l])"
   ]
  },
  {
   "cell_type": "code",
   "execution_count": 3,
   "metadata": {},
   "outputs": [
    {
     "name": "stdout",
     "output_type": "stream",
     "text": [
      "3\n"
     ]
    }
   ],
   "source": [
    "def sum_pairs(L):\n",
    "    L_1=[i[1] for i in L]\n",
    "    repetition={}\n",
    "    for e in L_1:\n",
    "        if e not in repetition:\n",
    "            repetition[e]=1\n",
    "        else:\n",
    "            repetition[e]=repetition.get(e,None)+1\n",
    "    sum=0\n",
    "    for k,v in repetition.items():\n",
    "        if v!=1:\n",
    "            for i in L:\n",
    "                if i[1]==k:\n",
    "                    sum+=i[0]            \n",
    "    return sum\n",
    "print(sum_pairs([ (1,2), (2,3), (3,2), (10,1), (-2, 2), (-1,3), (1,9) ]))       \n",
    "    "
   ]
  },
  {
   "cell_type": "code",
   "execution_count": 17,
   "metadata": {},
   "outputs": [
    {
     "name": "stdout",
     "output_type": "stream",
     "text": [
      "[(1, 2), (3, 2), (-2, 2), (2, 3), (-1, 3)]\n"
     ]
    }
   ],
   "source": [
    "class A:\n",
    "    def __init__ ( self , x ):\n",
    "        self.__myx =x\n",
    "    def setx ( self ,x ):\n",
    "        self . __myx =x\n",
    "    def getx ( self ):\n",
    "        return self . __myx\n",
    "class B( A ):\n",
    "    def __init__( self ,x ,y ):\n",
    "        super().__init__ (x)\n",
    "        self.__myy =y\n",
    "    def f(self):\n",
    "        return self.__myy\n",
    "     \n",
    "# MAY BE COMPLETED ; pass IF NOT COMPLETED\n",
    "def morethanonce_y(LB):\n",
    "    Ly=[i.f() for i in LB]\n",
    "    L=[(i.getx(),i.f()) for i in LB]\n",
    "    repetition={}\n",
    "    for e in Ly:\n",
    "        if e not in repetition:\n",
    "            repetition[e]=1\n",
    "        else:\n",
    "            repetition[e]=repetition.get(e,None)+1\n",
    "    L0=[]\n",
    "    for k,v in repetition.items():\n",
    "        if v!=1:\n",
    "            for i in L:\n",
    "                if i[1]==k:\n",
    "                     L0.append((i[0],i[1]))         \n",
    "    return L0\n",
    "        \n",
    "     \n",
    "print(morethanonce_y([B(1,2), B(2,3), B(3,2), B(10,1), B(-2, 2), B(-1,3), B(1,9)]))"
   ]
  },
  {
   "cell_type": "code",
   "execution_count": 8,
   "metadata": {},
   "outputs": [
    {
     "name": "stdout",
     "output_type": "stream",
     "text": [
      "[[1. 2. 4.]\n",
      " [5. 6. 0.]\n",
      " [0. 0. 0.]]\n"
     ]
    }
   ],
   "source": [
    "import numpy as np\n",
    "def nonzero(n,b):\n",
    "    b=b[b!=0]  \n",
    "    try:\n",
    "        return b[:n**2].reshape(n,n)\n",
    "    except:\n",
    "         b=np.concatenate((b,np.zeros((n**2-len(b),))),axis=0)\n",
    "         return b.reshape((n,n))\n",
    "    \n",
    "print(nonzero(3,np.array([[1 , 2 , 0],[4 , 5, 6]])))"
   ]
  },
  {
   "cell_type": "code",
   "execution_count": 19,
   "metadata": {},
   "outputs": [
    {
     "name": "stdout",
     "output_type": "stream",
     "text": [
      "[1.5, 6.0, 11.0, 8.0, 6.0, 7.0, 4.0, 6.0]\n"
     ]
    }
   ],
   "source": [
    "def smooth(S,lun):\n",
    "    lista=[]\n",
    "    for i in range(0,len(S)-lun+1):\n",
    "        v=[S[j] for j in range(i,i+lun)]\n",
    "        var=sum(v)/len(v)\n",
    "        lista.append(round(var,2))\n",
    "    return lista\n",
    "print(smooth([1,2,10,12,4,8,6,2,10], 2))"
   ]
  },
  {
   "cell_type": "code",
   "execution_count": 21,
   "metadata": {},
   "outputs": [
    {
     "name": "stdout",
     "output_type": "stream",
     "text": [
      "3.0\n"
     ]
    }
   ],
   "source": [
    "class MyList :\n",
    "    def __init__ ( self , L ):\n",
    "        self . __myL =L\n",
    "        def myapp ( self ,x ):\n",
    "            self . __myL . append (x)\n",
    "    def getL ( self ):\n",
    "        return self . __myL\n",
    "class SC(MyList):\n",
    "    def __init__(self,L):\n",
    "        super().__init__(L)\n",
    "    def average(self):\n",
    "        if len(self.getL())==0:\n",
    "            return None\n",
    "        else:\n",
    "            lenz=len(self.getL())\n",
    "            return sum(self.getL())/lenz\n",
    "print(SC([1,2,3,4,5]).average())"
   ]
  },
  {
   "cell_type": "code",
   "execution_count": 22,
   "metadata": {},
   "outputs": [
    {
     "name": "stdout",
     "output_type": "stream",
     "text": [
      "[[4 5 6]\n",
      " [7 8 9]]\n"
     ]
    }
   ],
   "source": [
    "def nonzero(b):\n",
    "  return b[np.prod(b,axis=1)!=0,:]\n",
    "\n",
    "\n",
    "\n",
    "print(nonzero(np.array([[1 , 2 , 0] ,[4 , 5, 6] ,[7 , 8, 9]])))"
   ]
  },
  {
   "cell_type": "code",
   "execution_count": 29,
   "metadata": {},
   "outputs": [
    {
     "name": "stdout",
     "output_type": "stream",
     "text": [
      "[2, 5]\n"
     ]
    }
   ],
   "source": [
    "def mode(L):\n",
    "    dic={}\n",
    "    for i in L:\n",
    "        if i not in dic:\n",
    "            dic[i]=1\n",
    "        else:\n",
    "            dic[i]=dic.get(i)+1\n",
    "    L=[]\n",
    "    max=0\n",
    "    for k,v in dic.items():\n",
    "        if v>max:\n",
    "            L=[]\n",
    "            L.append(k)\n",
    "            max=v\n",
    "        elif v==max:\n",
    "            L.append(k)\n",
    "    return L\n",
    "    \n",
    "print(mode([1,1,2,3,2,2,2,3,4,5,5,5,5]))"
   ]
  },
  {
   "cell_type": "code",
   "execution_count": 31,
   "metadata": {},
   "outputs": [
    {
     "name": "stdout",
     "output_type": "stream",
     "text": [
      "[[4 5 6]\n",
      " [7 8 9]]\n"
     ]
    }
   ],
   "source": [
    "def nonzero(b):\n",
    "    return b[np.prod(b,axis=1)>10,:]\n",
    "\n",
    "print(nonzero(np.array([[1 , 2 , 0] ,[4 , 5, 6] ,[7 , 8, 9]])))\n"
   ]
  },
  {
   "cell_type": "code",
   "execution_count": 34,
   "metadata": {},
   "outputs": [
    {
     "name": "stdout",
     "output_type": "stream",
     "text": [
      "[<__main__.A object at 0x0000023160292340>]\n"
     ]
    }
   ],
   "source": [
    "class A:\n",
    "    def __init__ ( self , x ):\n",
    "        self . xx =x\n",
    "def __str__ ( self ):\n",
    "    return ( str ( self . xx ))\n",
    "def mode(L):\n",
    "    L=[i.xx for i in L]\n",
    "    dic={}\n",
    "    for i in L:\n",
    "        if i not in dic:\n",
    "            dic[i]=1\n",
    "        else:\n",
    "            dic[i]=dic.get(i)+1\n",
    "    L=[]\n",
    "    max=0\n",
    "    for k,v in dic.items():\n",
    "        if v>max:\n",
    "            L=[]\n",
    "            L.append(A(k))\n",
    "            max=v\n",
    "        elif v==max:\n",
    "            L.append(A(k))\n",
    "    return L\n",
    "def imode(L1,L2):\n",
    "    L1=mode(L1)\n",
    "    L2=mode(L2)\n",
    "    L1=[i.xx for i in L1]\n",
    "    L2=[i.xx for i in L2]\n",
    "    Lcommon=[]\n",
    "    for i in L1:\n",
    "        for j in L2:\n",
    "            if i==j:\n",
    "                Lcommon.append(A(i))\n",
    "    return Lcommon\n",
    "print(imode([A(1),A(4),A(5),A(4),A(6),A(5),A(4),A(1),A(4)],[A(1),A(4),A(5),A(6),A(5),A(4),A(1)]))"
   ]
  },
  {
   "cell_type": "code",
   "execution_count": 11,
   "metadata": {},
   "outputs": [
    {
     "name": "stdout",
     "output_type": "stream",
     "text": [
      "True\n"
     ]
    }
   ],
   "source": [
    "def palindrome(s):\n",
    "    s=s.lower()\n",
    "    sremove=[\" \",\".\",\",\",\"!\"]\n",
    "    for i in sremove:\n",
    "        s=s.replace(i,\"\")\n",
    "    return s==s[::-1]\n",
    "        \n",
    "\n",
    "print(palindrome(',AM,......A'))"
   ]
  },
  {
   "cell_type": "code",
   "execution_count": 23,
   "metadata": {},
   "outputs": [
    {
     "name": "stdout",
     "output_type": "stream",
     "text": [
      "[1, 2, 3, 4]\n"
     ]
    }
   ],
   "source": [
    "def compare(s1,s2):\n",
    "    index=[]\n",
    "    for i,e in enumerate(s1):\n",
    "        if i==0 and (e==s2[i] or e==s2[i+1]):\n",
    "            index.append(i)\n",
    "        elif i==len(s2)-1 and (e==s2[i] or e==s2[i-1]):\n",
    "            index.append(i)\n",
    "        elif  i <len(s2)-1 and (e==s2[i] or e==s2[i-1] or e==s2[i+1]):\n",
    "            index.append(i)\n",
    "        elif i==len(s2)  and ( e==s2[i-1]):\n",
    "            index.append(i)\n",
    "    return index\n",
    "        \n",
    "        \n",
    "    return index\n",
    "print(compare('lasca', 'asca'))"
   ]
  },
  {
   "cell_type": "code",
   "execution_count": 31,
   "metadata": {},
   "outputs": [
    {
     "name": "stdout",
     "output_type": "stream",
     "text": [
      "(1,)\n",
      "(2, 3)\n",
      "(4, 5, 6)\n",
      "(7, 8, 9, 10)\n",
      "(11, 12, 13, 14, 15)\n"
     ]
    }
   ],
   "source": [
    "def floyd(k):\n",
    "    number=1\n",
    "    lista=[]\n",
    "    for i in range(1,k+1):\n",
    "        for j in range(1,i+1):\n",
    "            lista.append(number)\n",
    "            number+=1\n",
    "        print(tuple(lista))\n",
    "        lista=[]\n",
    "floyd(5)"
   ]
  },
  {
   "cell_type": "code",
   "execution_count": 54,
   "metadata": {},
   "outputs": [
    {
     "name": "stdout",
     "output_type": "stream",
     "text": [
      "90 100\n",
      "((30, 3, 1990), (18, 5, 1990), (15, 6, 1990), (10, 9, 1990), (9, 10, 1990), (13, 7, 1991), (23, 4, 1992), (31, 3, 1993), (19, 5, 1995), (24, 4, 1996), (16, 6, 1996), (12, 8, 1996), (8, 12, 1996), (14, 7, 1998), (11, 9, 1999), (9, 11, 1999))\n",
      "90 100\n",
      "True\n"
     ]
    }
   ],
   "source": [
    "#do not insert print or tests\n",
    "def leap(year):\n",
    "    if year%400==0:\n",
    "        return 29\n",
    "    return 28\n",
    "def numberofdays(month,year):\n",
    "    l30=[11,4,6,9]\n",
    "    l28=leap(year)\n",
    "    if month in l30:\n",
    "        return 30\n",
    "    elif month==2:\n",
    "        return l28\n",
    "    else:\n",
    "        return 31\n",
    "    \n",
    "def magic(star,end):\n",
    "    star=list(str(star))\n",
    "    end=list(str(end))\n",
    "    lista=[]\n",
    "    star1=int(star[2]+star[3])\n",
    "    end1=int(end[2]+end[3])\n",
    "    if end1==0:\n",
    "        end1=100\n",
    "    print(star1,end1)\n",
    "    for y in range(star1,end1+1):\n",
    "         for m in range(1,13):\n",
    "             for d in range(1,numberofdays(m,y)+1):\n",
    "                 if d*m==y and y!=100:\n",
    "                      lista.append((d,m,int(str(star[0]+star[1])+str(y))))\n",
    "                 elif d*m==00 and y==100:\n",
    "                     lista.append((d,m,int(str(star[0]+star[1])+str(\"00\"))))\n",
    "    return tuple(lista)\n",
    "print(magic(1990,2000))\n",
    "print(magic(1990,2000)==((30, 3, 1990), (18, 5, 1990), (15, 6, 1990), (10, 9, 1990), (9, 10, 1990), (13, 7, 1991), (23, 4, 1992), \n",
    "                         (31, 3, 1993), (19, 5, 1995), (24, 4, 1996), (16, 6, 1996), (12, 8, 1996),\n",
    "                         (8, 12, 1996), (14, 7, 1998), (11, 9, 1999), (9, 11, 1999)))"
   ]
  },
  {
   "cell_type": "code",
   "execution_count": 55,
   "metadata": {},
   "outputs": [
    {
     "name": "stdout",
     "output_type": "stream",
     "text": [
      "[19, 58, 29, 88, 44, 22, 11, 34, 17, 52, 26, 13, 40, 20, 10, 5, 16, 8, 4, 2, 1]\n"
     ]
    }
   ],
   "source": [
    "def collatz(n):\n",
    "    if n==0:\n",
    "        return []\n",
    "    lista=[n]\n",
    "    while n!=1:\n",
    "        if n%2==0:\n",
    "            n=n//2\n",
    "        else:\n",
    "            n=n*3+1\n",
    "        lista.append(n)\n",
    "    return lista \n",
    "\t\n",
    "print(collatz(19))"
   ]
  },
  {
   "cell_type": "code",
   "execution_count": 69,
   "metadata": {},
   "outputs": [
    {
     "name": "stdout",
     "output_type": "stream",
     "text": [
      "['a', 'b', 2, 'z', 'o', 2, 'b', 4, 'k']\n"
     ]
    }
   ],
   "source": [
    "def contiguous(L):\n",
    "    newlist=[]\n",
    "    count=1\n",
    "    i=0\n",
    "    while i<len(L):\n",
    "       for j in range(i,len(L)):\n",
    "           if i!=j:\n",
    "               if L[i]==L[j]:\n",
    "                   count+=1\n",
    "               else:\n",
    "                   break\n",
    "       if count!=1:\n",
    "           newlist.append(L[i])\n",
    "           newlist.append(count)\n",
    "       else:\n",
    "           newlist.append(L[i])\n",
    "       i+=count\n",
    "       count=1\n",
    "    return newlist\n",
    "        \n",
    "            \n",
    "    \n",
    "print(contiguous(['a','b','b','z','o','o','b','b','b','b','k']))"
   ]
  },
  {
   "cell_type": "code",
   "execution_count": 74,
   "metadata": {},
   "outputs": [
    {
     "name": "stdout",
     "output_type": "stream",
     "text": [
      "['a', 'b', 2, 'z', 'o', 2, 'b', 4, 'k']\n"
     ]
    }
   ],
   "source": [
    "def contiguous_inplace(L):\n",
    "    if len(L)==0:\n",
    "        return L\n",
    "    newlist=[]\n",
    "    count=1\n",
    "    i=0\n",
    "    while i<len(L):\n",
    "       for j in range(i,len(L)):\n",
    "           if i!=j:\n",
    "               if L[i]==L[j]:\n",
    "                   count+=1\n",
    "               else:\n",
    "                   break\n",
    "       if count!=1:\n",
    "           L[i:i+count]=[L[i],count]\n",
    "       i+=count\n",
    "       count=1\n",
    "    return L\n",
    "\n",
    "print(contiguous_inplace(['a','b','b','z','o','o','b','b','b','b','k'])) "
   ]
  },
  {
   "cell_type": "code",
   "execution_count": null,
   "metadata": {},
   "outputs": [],
   "source": [
    "sum=0\n",
    "n=0\n",
    "x=0\n",
    "while x!=9999:\n",
    "    x=int(input(\"R:\"))\n",
    "    if x!=9999 and x>0:\n",
    "        sum+=x\n",
    "        n+=1\n",
    "    \n",
    "print(round(sum/n,2))"
   ]
  },
  {
   "cell_type": "code",
   "execution_count": 144,
   "metadata": {},
   "outputs": [
    {
     "name": "stdout",
     "output_type": "stream",
     "text": [
      "[3, 3, 3, 2, 2, 4, 4, 4, 4]\n"
     ]
    }
   ],
   "source": [
    "def repeat_inplace(L):\n",
    "    i=0\n",
    "    while i<len(L):\n",
    "        a=L[i]\n",
    "        L[i:i+1]=L[i]*[L[i]]\n",
    "        i+=a\n",
    "    return L\n",
    "A=[3,2,0,4]\n",
    "print(repeat_inplace(A))\n"
   ]
  },
  {
   "cell_type": "code",
   "execution_count": 154,
   "metadata": {},
   "outputs": [
    {
     "name": "stdout",
     "output_type": "stream",
     "text": [
      "mom!\n"
     ]
    }
   ],
   "source": [
    "#do not use print or test\n",
    "def dict_to_str(D):\n",
    "    newd={}\n",
    "    for k,v in D.items():\n",
    "        for j in v:\n",
    "            newd[j]=k\n",
    "    stringa=\"\"\n",
    "    l=list(newd.values())\n",
    "    for k,v in newd.items():\n",
    "        l[k]=v\n",
    "    for i in l:\n",
    "        stringa+=i\n",
    "    return stringa\n",
    "\t\n",
    "print(dict_to_str({'m': [0,2], 'o': [1], '!':[3]}))"
   ]
  },
  {
   "cell_type": "code",
   "execution_count": 160,
   "metadata": {},
   "outputs": [
    {
     "name": "stdout",
     "output_type": "stream",
     "text": [
      "{(1, 2): [6, -1], (4, 5): 8, (1, 3): 0}\n"
     ]
    }
   ],
   "source": [
    "def merge(LD): #LD list of dictionaries\n",
    "    for i in LD:\n",
    "         if type(i)!= dict:\n",
    "             return None\n",
    "    newd={}\n",
    "    for d in LD:\n",
    "        for k,v in d.items():\n",
    "            if k not in newd:\n",
    "                newd[k]=[v]\n",
    "            else:\n",
    "                if v not in newd.get(k):\n",
    "                    newd[k]=newd.get(k)+[v]\n",
    "    n={}\n",
    "    for k,v in newd.items():\n",
    "        if len(v)==1:\n",
    "            for i in v:\n",
    "                newd[k]=i\n",
    "    return newd\n",
    "print(merge([{(1,2):5,(4,5):8,(1,2):6}, {(1,3):0,(4,5):8,(1,2):-1}]) )"
   ]
  },
  {
   "cell_type": "code",
   "execution_count": 162,
   "metadata": {},
   "outputs": [
    {
     "name": "stdout",
     "output_type": "stream",
     "text": [
      "{2: ['a', 'b', 'h'], 3: ['c', 'e', 'g'], 4: ['d'], 0: ['f']}\n"
     ]
    }
   ],
   "source": [
    "def invert(D):\n",
    "    return {v:[k2 for k2 in D.keys() if D.get(k2)==v] for k,v in D.items()}\n",
    "print(invert({'a':2, 'b':2, 'c':3, 'd':4, 'e':3,'f':0, 'g':3, 'h':2}))"
   ]
  },
  {
   "cell_type": "code",
   "execution_count": 174,
   "metadata": {},
   "outputs": [
    {
     "name": "stdout",
     "output_type": "stream",
     "text": [
      "[[ 0 20  4]\n",
      " [ 7  4  5]]\n"
     ]
    }
   ],
   "source": [
    "import numpy as np\n",
    "def merge(a,b):\n",
    "    b=b.reshape(a.shape)\n",
    "    return np.concatenate((a[a>=b],b[b>a]),axis=0).reshape(a.shape)\n",
    "print(merge(np.array([[0,20,4],[7,1,3]]),np.array([0,1,2,3,4,5])))"
   ]
  },
  {
   "cell_type": "code",
   "execution_count": 177,
   "metadata": {},
   "outputs": [
    {
     "name": "stdout",
     "output_type": "stream",
     "text": [
      "[[-4.5 -4.5 -4.5]\n",
      " [-1.5 -1.5 -1.5]\n",
      " [ 1.5  1.5  1.5]\n",
      " [ 4.5  4.5  4.5]]\n"
     ]
    }
   ],
   "source": [
    "import numpy as np\n",
    "\n",
    "def demean(a):\n",
    "    media=np.mean(a,axis=0)\n",
    "    b=a-media\n",
    "    return b\n",
    "print(demean(np.array([[1,2,3],\n",
    "                [4,5,6],\n",
    "                [7,8,9],\n",
    "                [10,11,12]])))"
   ]
  },
  {
   "cell_type": "code",
   "execution_count": 184,
   "metadata": {},
   "outputs": [
    {
     "name": "stdout",
     "output_type": "stream",
     "text": [
      "[3 4 5]\n"
     ]
    }
   ],
   "source": [
    "import numpy as np\n",
    "\n",
    "def count_common(a,b):\n",
    "    return len(a[a==b])\n",
    "\n",
    "print(count_common(np.array([[1,3,8],[4,5,2],[3,2,9]]),\n",
    "                   np.array([[2,3,7],[4,5,9],[6,6,6]])))\n"
   ]
  },
  {
   "cell_type": "code",
   "execution_count": 195,
   "metadata": {},
   "outputs": [
    {
     "name": "stdout",
     "output_type": "stream",
     "text": [
      "[[ 0.  0.  0.  0.  0.  0.  0.  0.]\n",
      " [ 0.  1.  2.  3.  4.  5.  6.  0.]\n",
      " [ 0.  7.  8.  9. 10. 11. 12.  0.]\n",
      " [ 0.  0.  0.  0.  0.  0.  0.  0.]]\n"
     ]
    }
   ],
   "source": [
    "import numpy as np\n",
    "def zeroones(p,q):\n",
    "     a=np.arange(1,(p-2)*(q-2)+1,).reshape((p-2,q-2))\n",
    "     c=np.zeros((p,q))\n",
    "     c[1:p-1,1:q-1]=a\n",
    "     return c\n",
    "print(zeroones(4,8))"
   ]
  },
  {
   "cell_type": "code",
   "execution_count": 200,
   "metadata": {},
   "outputs": [
    {
     "name": "stdout",
     "output_type": "stream",
     "text": [
      "[1, 2, 3, 4, 5, 6, 7, 8, 9]\n"
     ]
    }
   ],
   "source": [
    "L=[1,2,3,4,5,6,7,8]\n",
    "L[8:10]=[9]\n",
    "print(L)"
   ]
  },
  {
   "cell_type": "code",
   "execution_count": 207,
   "metadata": {},
   "outputs": [
    {
     "name": "stdout",
     "output_type": "stream",
     "text": [
      "bella\n"
     ]
    }
   ],
   "source": [
    "class Try(Exception):pass\n",
    "class Drip(Try):pass\n",
    "try:\n",
    "    raise Try(\"hola\")\n",
    "except Drip as x:\n",
    "    print(x)\n",
    "except Try as x:\n",
    "    print(\"bella\")\n",
    "except Drip as x:\n",
    "    print(x)"
   ]
  },
  {
   "cell_type": "code",
   "execution_count": 211,
   "metadata": {},
   "outputs": [
    {
     "name": "stdout",
     "output_type": "stream",
     "text": [
      "<__main__.C object at 0x000001983C29BF40>\n"
     ]
    }
   ],
   "source": [
    "from abc import ABC\n",
    "class C(ABC):\n",
    "    def __init__(self,other):\n",
    "        pass\n",
    "    def s(self):\n",
    "        return 1\n",
    "print(C(1))"
   ]
  },
  {
   "cell_type": "code",
   "execution_count": 215,
   "metadata": {},
   "outputs": [
    {
     "name": "stdout",
     "output_type": "stream",
     "text": [
      "5\n",
      "120\n",
      "[1 2 3 4 5]\n"
     ]
    }
   ],
   "source": [
    "import numpy as np\n",
    "x=np.array([1,2,3,4,5])\n",
    "print(x.max())\n",
    "print(x.prod())\n",
    "print(x[x<20])"
   ]
  }
 ],
 "metadata": {
  "kernelspec": {
   "display_name": "Python 3.9.4 64-bit",
   "language": "python",
   "name": "python3"
  },
  "language_info": {
   "codemirror_mode": {
    "name": "ipython",
    "version": 3
   },
   "file_extension": ".py",
   "mimetype": "text/x-python",
   "name": "python",
   "nbconvert_exporter": "python",
   "pygments_lexer": "ipython3",
   "version": "3.9.4"
  },
  "orig_nbformat": 4,
  "vscode": {
   "interpreter": {
    "hash": "81794d4967e6c3204c66dcd87b604927b115b27c00565d3d43f05ba2f3a2cb0d"
   }
  }
 },
 "nbformat": 4,
 "nbformat_minor": 2
}
