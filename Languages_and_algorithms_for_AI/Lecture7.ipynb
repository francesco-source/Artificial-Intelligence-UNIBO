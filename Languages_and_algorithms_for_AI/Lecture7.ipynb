{
 "cells": [
  {
   "cell_type": "markdown",
   "metadata": {},
   "source": [
    "# Lecture 7"
   ]
  },
  {
   "cell_type": "code",
   "execution_count": 1,
   "metadata": {},
   "outputs": [
    {
     "name": "stdout",
     "output_type": "stream",
     "text": [
      "BadBadBadBadBadBadBadBad\n",
      "BadBadBadBadBadBadBadBad\n",
      "BadBadBadBadBadBadBadBad\n",
      "bye\n"
     ]
    }
   ],
   "source": [
    "reply=\"ciao\"\n",
    "k=0\n",
    "while reply!=\"Stop\" and k<3:\n",
    "    try:\n",
    "        print(int(reply)**2)\n",
    "    except:\n",
    "        print(\"Bad\"*8)\n",
    "    reply=\"new impute\"\n",
    "    k+=1\n",
    "print(\"bye\")\n"
   ]
  },
  {
   "cell_type": "code",
   "execution_count": 2,
   "metadata": {},
   "outputs": [
    {
     "name": "stdout",
     "output_type": "stream",
     "text": [
      "ciao\n"
     ]
    }
   ],
   "source": [
    "try:\n",
    "    raise ZeroDivisionError\n",
    "except:\n",
    "    print(\"ciao\")"
   ]
  },
  {
   "cell_type": "code",
   "execution_count": 7,
   "metadata": {},
   "outputs": [
    {
     "name": "stdout",
     "output_type": "stream",
     "text": [
      "caught 100\n"
     ]
    }
   ],
   "source": [
    "class MyExcp(Exception):\n",
    "    pass\n",
    "try:\n",
    "    raise MyExcp(100)\n",
    "except MyExcp as x:\n",
    "    #is local\n",
    "    print(\"caught\",x)\n",
    "#print(x,\"again\")#will raise an error    "
   ]
  },
  {
   "cell_type": "code",
   "execution_count": 9,
   "metadata": {},
   "outputs": [
    {
     "name": "stdout",
     "output_type": "stream",
     "text": [
      "caught\n"
     ]
    }
   ],
   "source": [
    "class MyExcp(Exception):\n",
    "    pass\n",
    "P=(MyExcp,IndexError)\n",
    "try:\n",
    "    raise P[0]\n",
    "except MyExcp:\n",
    "    print(\"caught\") "
   ]
  },
  {
   "cell_type": "code",
   "execution_count": 10,
   "metadata": {},
   "outputs": [
    {
     "name": "stdout",
     "output_type": "stream",
     "text": [
      "caught\n",
      "caught\n",
      "caught\n"
     ]
    }
   ],
   "source": [
    "class MyExcp(Exception):pass\n",
    "class MySpec1(MyExcp):pass\n",
    "class MySpec2(MyExcp):pass\n",
    "for e in (MyExcp(0),MySpec1(1),MySpec2(2)):\n",
    "    try:\n",
    "        raise e\n",
    "    except MyExcp as x:\n",
    "        print(\"caught\")"
   ]
  },
  {
   "cell_type": "code",
   "execution_count": 14,
   "metadata": {},
   "outputs": [
    {
     "name": "stdout",
     "output_type": "stream",
     "text": [
      "D\n",
      "D\n",
      "D\n"
     ]
    }
   ],
   "source": [
    "class B(Exception): pass\n",
    "class C(B): pass\n",
    "class D(B):pass\n",
    "for i in [B,C,D]:\n",
    "    try:\n",
    "        raise i()\n",
    "    except B:\n",
    "        print(\"D\")\n",
    "    except C:\n",
    "        print(\"C\")\n",
    "    except B:\n",
    "        print(\"B\")"
   ]
  },
  {
   "cell_type": "markdown",
   "metadata": {},
   "source": [
    "# How much an operation cost in python"
   ]
  },
  {
   "cell_type": "markdown",
   "metadata": {},
   "source": [
    "The time need to perform an operation is indipendet from the value of the operation "
   ]
  },
  {
   "cell_type": "markdown",
   "metadata": {},
   "source": [
    "There is no max value of maximum integer"
   ]
  }
 ],
 "metadata": {
  "kernelspec": {
   "display_name": "Python 3.9.4 64-bit",
   "language": "python",
   "name": "python3"
  },
  "language_info": {
   "codemirror_mode": {
    "name": "ipython",
    "version": 3
   },
   "file_extension": ".py",
   "mimetype": "text/x-python",
   "name": "python",
   "nbconvert_exporter": "python",
   "pygments_lexer": "ipython3",
   "version": "3.9.4"
  },
  "orig_nbformat": 4,
  "vscode": {
   "interpreter": {
    "hash": "81794d4967e6c3204c66dcd87b604927b115b27c00565d3d43f05ba2f3a2cb0d"
   }
  }
 },
 "nbformat": 4,
 "nbformat_minor": 2
}
