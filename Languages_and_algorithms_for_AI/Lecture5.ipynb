{
 "cells": [
  {
   "cell_type": "markdown",
   "metadata": {},
   "source": [
    "# Classes"
   ]
  },
  {
   "cell_type": "code",
   "execution_count": 83,
   "metadata": {},
   "outputs": [
    {
     "data": {
      "text/plain": [
       "(12, 11)"
      ]
     },
     "execution_count": 83,
     "metadata": {},
     "output_type": "execute_result"
    }
   ],
   "source": [
    "class Point:\n",
    "    origin=0,0\n",
    "    def __init__(self,xx,yy):\n",
    "        self.x=xx\n",
    "        self.y=yy\n",
    "    def whoareyou(self):#you must use the keeword self\n",
    "        return self.x,self.y\n",
    "    def move(self,delta):\n",
    "        self.x+=delta\n",
    "        self.y+=delta\n",
    "    def Psum(self,other):\n",
    "        return Point(self.x+other.x,self.y+other.y)\n",
    "    def __add__(self,other):\n",
    "        return Point(self.x+other.x,self.y+other.y)\n",
    "    def __str__(self):\n",
    "        return \"point: \"+str(self.whoareyou())\n",
    "    def __eq__(self, __o: object):\n",
    "        return (self.x==__o.x \\\n",
    "            and self.y==__o.y)\n",
    "    def __abs__(self):\n",
    "        return self.x+self.y\n",
    "    def __getitem__(self,other):\n",
    "        return self.x*other.x\n",
    "    def reset(self):\n",
    "        self.x,self.y=Point.origin\n",
    "    \n",
    "p=Point(2,3)\n",
    "p.x+=2\n",
    "p.y=3\n",
    "p.whoareyou()\n",
    "p.move(8)\n",
    "p.whoareyou()\n",
    "Point.origin\n",
    "Point.whoareyou(p)\n",
    "p.whoareyou()\n",
    "\n"
   ]
  },
  {
   "cell_type": "markdown",
   "metadata": {},
   "source": [
    "_ _method_ _ are special methods"
   ]
  },
  {
   "cell_type": "code",
   "execution_count": 9,
   "metadata": {},
   "outputs": [
    {
     "data": {
      "text/plain": [
       "__main__.A"
      ]
     },
     "execution_count": 9,
     "metadata": {},
     "output_type": "execute_result"
    }
   ],
   "source": [
    "class A:\n",
    "    pass\n",
    "#simplest possibile class definition\n",
    "AA=A()\n",
    "type(AA)"
   ]
  },
  {
   "cell_type": "code",
   "execution_count": 12,
   "metadata": {},
   "outputs": [
    {
     "data": {
      "text/plain": [
       "100"
      ]
     },
     "execution_count": 12,
     "metadata": {},
     "output_type": "execute_result"
    }
   ],
   "source": [
    "AA.test=100\n",
    "AA.test"
   ]
  },
  {
   "cell_type": "code",
   "execution_count": 17,
   "metadata": {},
   "outputs": [],
   "source": [
    "bb=A()\n",
    "#there is no attibute test inside bb bb.test would rease an error\n",
    "p=Point(8,10)\n",
    "p.whoareyou()\n",
    "p.zz=\"simone\""
   ]
  },
  {
   "cell_type": "code",
   "execution_count": 44,
   "metadata": {},
   "outputs": [
    {
     "name": "stdout",
     "output_type": "stream",
     "text": [
      "point: (4, 4)\n",
      "True\n"
     ]
    }
   ],
   "source": [
    "p=Point(2,2)\n",
    "q=Point(2,2)\n",
    "z=p.Psum(q)\n",
    "z=p+q\n",
    "print(z)# it doesn't happen what i wanted\n",
    "print(q==p)"
   ]
  },
  {
   "cell_type": "code",
   "execution_count": 46,
   "metadata": {},
   "outputs": [
    {
     "name": "stdout",
     "output_type": "stream",
     "text": [
      "4\n"
     ]
    }
   ],
   "source": [
    "m=Point(q,p)\n",
    "print(p[q])"
   ]
  },
  {
   "cell_type": "code",
   "execution_count": 49,
   "metadata": {},
   "outputs": [
    {
     "data": {
      "text/plain": [
       "False"
      ]
     },
     "execution_count": 49,
     "metadata": {},
     "output_type": "execute_result"
    }
   ],
   "source": [
    "from copy import copy\n",
    "r=copy(p)\n",
    "r is p\n"
   ]
  },
  {
   "cell_type": "code",
   "execution_count": 50,
   "metadata": {},
   "outputs": [
    {
     "data": {
      "text/plain": [
       "False"
      ]
     },
     "execution_count": 50,
     "metadata": {},
     "output_type": "execute_result"
    }
   ],
   "source": [
    "from copy import deepcopy\n",
    "r=deepcopy(p)\n",
    "r is p"
   ]
  },
  {
   "cell_type": "code",
   "execution_count": 60,
   "metadata": {},
   "outputs": [
    {
     "data": {
      "text/plain": [
       "'t'"
      ]
     },
     "execution_count": 60,
     "metadata": {},
     "output_type": "execute_result"
    }
   ],
   "source": [
    "from random import randint\n",
    "#randint(a,b) extract a pseudorandom integer, a and b both included\n",
    "class Coin:\n",
    "    def __init__(self):\n",
    "        self.__c=randint(0,1)\n",
    "    def show(self):\n",
    "        if self.__c==0:\n",
    "            return \"h\"\n",
    "        else:\n",
    "            return \"t\"\n",
    "    def toss(self):\n",
    "        self.__c=randint(0,1)\n",
    "myc=Coin()\n",
    "myc.show()"
   ]
  },
  {
   "cell_type": "code",
   "execution_count": 70,
   "metadata": {},
   "outputs": [
    {
     "data": {
      "text/plain": [
       "'t'"
      ]
     },
     "execution_count": 70,
     "metadata": {},
     "output_type": "execute_result"
    }
   ],
   "source": [
    "myc.toss()\n",
    "myc.show()\n",
    "myc.__c=\"h\"\n",
    "myc.show()\n",
    "secondc=Coin()\n",
    "#secondc.__c#because its private\n",
    "secondc._Coin__c\n",
    "secondc.show()\n",
    "secondc._Coin__c=1\n",
    "secondc.show()\n"
   ]
  },
  {
   "cell_type": "code",
   "execution_count": 97,
   "metadata": {},
   "outputs": [
    {
     "name": "stdout",
     "output_type": "stream",
     "text": [
      "(7, 8, 'red')\n",
      "(0, 0, 0)\n"
     ]
    },
    {
     "data": {
      "text/plain": [
       "<super: __main__.Point, <__main__.CPoint at 0x28ad135b160>>"
      ]
     },
     "execution_count": 97,
     "metadata": {},
     "output_type": "execute_result"
    }
   ],
   "source": [
    "from ipaddress import collapse_addresses\n",
    "\n",
    "\n",
    "class A:\n",
    "    class_attr=10\n",
    "    __class_attr=10\n",
    "    def __init__(self,par):\n",
    "        self.a=par\n",
    "    def inc(self):\n",
    "        self.a+=A.__class_attr\n",
    "    def __str__(self):\n",
    "        return \"A(\"+str(self.a)+\")\"\n",
    "    \n",
    "aa=A(30)\n",
    "aa.a\n",
    "aa.inc()\n",
    "aa.a\n",
    "aa.class_attr=20\n",
    "aa.inc()\n",
    "aa.a\n",
    "aa.__class_attr=310\n",
    "aa.inc()\n",
    "aa.a\n",
    "class ColPoint:\n",
    "    def __init__(self,xx,yy,cc):\n",
    "        self.x=xx\n",
    "        self.y=yy\n",
    "        self.z=cc\n",
    "    def whoareyou(self):\n",
    "        return self.x,self.y,self.z\n",
    "colpoint=ColPoint(1,2,\"cc\")\n",
    "colpoint.whoareyou()\n",
    "class CPoint(Point):   \n",
    "    def __init__(self,xx=0,yy=0,cc=0):\n",
    "        super().__init__(xx,yy)\n",
    "        self.z=cc\n",
    "    def whoareyou(self):\n",
    "        return super().whoareyou()+(self.z,)\n",
    "cp=CPoint(3,4,\"red\")\n",
    "cp.move(4)\n",
    "print(cp.whoareyou())\n",
    "m=CPoint()\n",
    "print(m.whoareyou())\n",
    "m.origin\n",
    "isinstance(m,CPoint)\n",
    "isinstance(m,Point)\n",
    "cp=CPoint(1,2,\"r\")\n",
    "cp.whoareyou()\n",
    "super(Point,cp)"
   ]
  },
  {
   "cell_type": "code",
   "execution_count": 99,
   "metadata": {},
   "outputs": [
    {
     "data": {
      "text/plain": [
       "(22, 23)"
      ]
     },
     "execution_count": 99,
     "metadata": {},
     "output_type": "execute_result"
    }
   ],
   "source": [
    "class DPoint(Point):\n",
    "    def move(self,delta):\n",
    "        self.x=self.x+2*delta\n",
    "        self.y=self.y+2*delta\n",
    "p=Point(1,2)\n",
    "dp=DPoint(2,3)\n",
    "p.move(10)\n",
    "dp.move(10)\n",
    "p.whoareyou()\n",
    "dp.whoareyou()        "
   ]
  }
 ],
 "metadata": {
  "kernelspec": {
   "display_name": "Python 3.9.4 64-bit",
   "language": "python",
   "name": "python3"
  },
  "language_info": {
   "codemirror_mode": {
    "name": "ipython",
    "version": 3
   },
   "file_extension": ".py",
   "mimetype": "text/x-python",
   "name": "python",
   "nbconvert_exporter": "python",
   "pygments_lexer": "ipython3",
   "version": "3.9.4"
  },
  "orig_nbformat": 4,
  "vscode": {
   "interpreter": {
    "hash": "81794d4967e6c3204c66dcd87b604927b115b27c00565d3d43f05ba2f3a2cb0d"
   }
  }
 },
 "nbformat": 4,
 "nbformat_minor": 2
}
