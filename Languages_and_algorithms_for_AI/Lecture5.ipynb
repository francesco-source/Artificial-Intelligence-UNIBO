{
 "cells": [
  {
   "cell_type": "markdown",
   "metadata": {},
   "source": [
    "# Classes"
   ]
  },
  {
   "cell_type": "code",
   "execution_count": 13,
   "metadata": {},
   "outputs": [
    {
     "ename": "AttributeError",
     "evalue": "'Point' object has no attribute 'x'",
     "output_type": "error",
     "traceback": [
      "\u001b[1;31m---------------------------------------------------------------------------\u001b[0m",
      "\u001b[1;31mAttributeError\u001b[0m                            Traceback (most recent call last)",
      "Cell \u001b[1;32mIn [13], line 11\u001b[0m\n\u001b[0;32m      9\u001b[0m         \u001b[39mself\u001b[39m\u001b[39m.\u001b[39my\u001b[39m+\u001b[39m\u001b[39m=\u001b[39mdelta\n\u001b[0;32m     10\u001b[0m p\u001b[39m=\u001b[39mPoint()\n\u001b[1;32m---> 11\u001b[0m p\u001b[39m.\u001b[39mx\u001b[39m+\u001b[39m\u001b[39m=\u001b[39m\u001b[39m2\u001b[39m\n\u001b[0;32m     12\u001b[0m p\u001b[39m.\u001b[39my\u001b[39m=\u001b[39m\u001b[39m3\u001b[39m\n\u001b[0;32m     13\u001b[0m p\u001b[39m.\u001b[39mwhoareyou()\n",
      "\u001b[1;31mAttributeError\u001b[0m: 'Point' object has no attribute 'x'"
     ]
    }
   ],
   "source": [
    "class Point:\n",
    "    def __init__(self):\n",
    "        self.x=0\n",
    "        self.y=0\n",
    "    def whoareyou(self):\n",
    "        return self.x,self.y\n",
    "    def move(self,delta):\n",
    "        self.x+=delta\n",
    "        self.y+=delta\n",
    "p=Point()\n",
    "p.x+=2\n",
    "p.y=3\n",
    "p.whoareyou()\n",
    "p.move(8)\n",
    "p.whoareyou()\n",
    "L=list()\n",
    "print(L)\n",
    "n=int(8.99)\n"
   ]
  }
 ],
 "metadata": {
  "kernelspec": {
   "display_name": "Python 3.9.4 64-bit",
   "language": "python",
   "name": "python3"
  },
  "language_info": {
   "codemirror_mode": {
    "name": "ipython",
    "version": 3
   },
   "file_extension": ".py",
   "mimetype": "text/x-python",
   "name": "python",
   "nbconvert_exporter": "python",
   "pygments_lexer": "ipython3",
   "version": "3.9.4"
  },
  "orig_nbformat": 4,
  "vscode": {
   "interpreter": {
    "hash": "81794d4967e6c3204c66dcd87b604927b115b27c00565d3d43f05ba2f3a2cb0d"
   }
  }
 },
 "nbformat": 4,
 "nbformat_minor": 2
}
