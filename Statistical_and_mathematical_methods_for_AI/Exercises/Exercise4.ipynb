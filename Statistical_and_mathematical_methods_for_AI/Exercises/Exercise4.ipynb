{
 "cells": [
  {
   "cell_type": "markdown",
   "metadata": {},
   "source": [
    "# Homework 4"
   ]
  },
  {
   "cell_type": "code",
   "execution_count": 3,
   "metadata": {},
   "outputs": [],
   "source": [
    "import numpy as np\n",
    "import pandas as pd\n",
    "import matplotlib.pyplot as plt"
   ]
  },
  {
   "cell_type": "code",
   "execution_count": 90,
   "metadata": {},
   "outputs": [],
   "source": [
    "def Vander(x,K):\n",
    "    phi=np.zeros((x.shape[0],K))\n",
    "    for i in range(K):\n",
    "        phi[:,i]=x**i\n",
    "    return phi\n",
    "\n",
    "def average_abs_error(theta,Testdata):\n",
    "    Xtest=Testdata[0]\n",
    "    Ytest=Testdata[1]\n",
    "    return np.linalg.norm(np.vander(Xtest,len(theta))@theta-Ytest,2)*(1/len(X))\n",
    "\n",
    "def split_data(X,Y,NTrain):\n",
    "    index=np.linspace(0,len(Y)-1,len(Y),dtype=int)\n",
    "    np.random.shuffle(index)\n",
    "    X,Y =X[index],Y[index]\n",
    "    Xtrain,Ytrain=X[:NTrain], Y[:NTrain]\n",
    "    Xtest,Ytest=X[NTrain:],Y[NTrain:]\n",
    "    return Xtrain,Ytrain ,Xtest,Ytest\n",
    "\n",
    "def ftheta_map(data,k,lamda):\n",
    "    X,Y=data[0],data[1]\n",
    "    Phi=np.vander(X,k)\n",
    "    theta_map_k=np.linalg.solve(Phi.T@Phi + lamda*np.identity(k), Phi.T@Y)\n",
    "    return theta_map_k\n"
   ]
  },
  {
   "cell_type": "code",
   "execution_count": 91,
   "metadata": {},
   "outputs": [
    {
     "data": {
      "image/png": "[encoded data removed]",
      "text/plain": [
       "<Figure size 640x480 with 1 Axes>"
      ]
     },
     "metadata": {},
     "output_type": "display_data"
    }
   ],
   "source": [
    "N=100\n",
    "K=4\n",
    "theta=np.ones((K,))\n",
    "a,b=0,1\n",
    "X=np.random.uniform(low=a,high=b,size=N)\n",
    "variance=1\n",
    "Phi=np.vander(X,K)\n",
    "Y=Phi@theta+np.random.normal(0,variance,size=N)\n",
    "plt.scatter(X,Y);\n"
   ]
  },
  {
   "cell_type": "markdown",
   "metadata": {},
   "source": [
    "### Part 3"
   ]
  },
  {
   "cell_type": "code",
   "execution_count": null,
   "metadata": {},
   "outputs": [],
   "source": [
    "K_vec=[3,4,5,10,20,30]\n",
    "for K in K_vec:\n",
    "    print(\"K= \",K)\n",
    "    plt.scatter(X,Y);#plot the data\n",
    "    Xtrain,Ytrain ,Xtest,Ytest=split_data(X,Y,int(N-N/3))\n",
    "    Phi=np.vander(Xtrain,K)\n",
    "    theta_MLE=np.linalg.solve(Phi.T@Phi,Phi.T@Ytrain)\n",
    "    Y_approx_train=Phi@theta_MLE\n",
    "    plt.scatter(Xtrain,Y_approx_train, c=\"red\");\n",
    "    Phi=np.vander(Xtest,K)#plot the test data\n",
    "    Y_approx_test=Phi@theta_MLE\n",
    "    plt.scatter(Xtest,Y_approx_test,c=\"green\")  \n",
    "    plt.show()"
   ]
  },
  {
   "cell_type": "code",
   "execution_count": 83,
   "metadata": {},
   "outputs": [],
   "source": [
    "Xtrain,Ytrain ,Xtest,Ytest=split_data(X,Y,int(N-N/3))"
   ]
  },
  {
   "cell_type": "code",
   "execution_count": 97,
   "metadata": {},
   "outputs": [
    {
     "name": "stdout",
     "output_type": "stream",
     "text": [
      "K= 1\n",
      "The TRAINING average absolute error for K=1 is = 0.11616211164486437\n",
      "The TEST average absolute error for K=1 is = 0.08983741318768239\n",
      "The TEST absolute error for theta male for K=1 and λ=0.1 is = 0.08968768032443775\n",
      "K= 2\n",
      "The TRAINING average absolute error for K=2 is = 0.08430018606758853\n",
      "The TEST average absolute error for K=2 is = 0.07438127588940073\n",
      "The TEST absolute error for theta male for K=2 and λ=0.1 is = 0.0739513407501494\n",
      "K= 3\n",
      "The TRAINING average absolute error for K=3 is = 0.08393704802487138\n",
      "The TEST average absolute error for K=3 is = 0.06975551941729788\n",
      "The TEST absolute error for theta male for K=3 and λ=0.1 is = 0.06963749342600353\n",
      "K= 4\n",
      "The TRAINING average absolute error for K=4 is = 0.0829160374605768\n",
      "The TEST average absolute error for K=4 is = 0.05521488293069817\n",
      "The TEST absolute error for theta male for K=4 and λ=0.1 is = 0.054568006736954056\n",
      "K= 5\n",
      "The TRAINING average absolute error for K=5 is = 0.08272385197387024\n",
      "The TEST average absolute error for K=5 is = 0.06315241051839515\n",
      "The TEST absolute error for theta male for K=5 and λ=0.1 is = 0.06138742202806567\n",
      "K= 10\n",
      "The TRAINING average absolute error for K=10 is = 0.07756221913620942\n",
      "The TEST average absolute error for K=10 is = 0.09454229728644448\n",
      "The TEST absolute error for theta male for K=10 and λ=0.1 is = 0.09217237611307334\n",
      "K= 20\n",
      "The TRAINING average absolute error for K=20 is = 0.07554928839072486\n",
      "The TEST average absolute error for K=20 is = 0.17576641254393088\n",
      "The TEST absolute error for theta male for K=20 and λ=0.1 is = 0.17069732967657955\n",
      "K= 30\n",
      "The TRAINING average absolute error for K=30 is = 0.07696175185882721\n",
      "The TEST average absolute error for K=30 is = 0.7672266774267863\n",
      "The TEST absolute error for theta male for K=30 and λ=0.1 is = 0.3833458320757783\n",
      "K= 40\n",
      "The TRAINING average absolute error for K=40 is = 0.0739617334082012\n",
      "The TEST average absolute error for K=40 is = 0.3089273368994882\n",
      "The TEST absolute error for theta male for K=40 and λ=0.1 is = 0.2959821011447484\n",
      "K= 50\n",
      "The TRAINING average absolute error for K=50 is = 0.07328584952167276\n",
      "The TEST average absolute error for K=50 is = 17.089293887693902\n",
      "The TEST absolute error for theta male for K=50 and λ=0.1 is = 0.512431009222418\n"
     ]
    }
   ],
   "source": [
    "K_vec=[1,2,3,4,5,10,20,30,40,50]\n",
    "lmda=0.1\n",
    "for k in K_vec:\n",
    "    Phi=np.vander(Xtrain,k)\n",
    "    theta_MLE=np.linalg.solve(Phi.T@Phi,Phi.T@Ytrain)\n",
    "    \n",
    "    Xtest=np.random.uniform(low=a,high=b,size=len(Xtest))\n",
    "    variance=1\n",
    "    Phi=np.vander(Xtest,k)\n",
    "    theta=np.ones((k,))\n",
    "    Ytest=Phi@theta+np.random.normal(0,variance,size=len(Xtest))\n",
    "    Y_approx_test=Phi@theta_MLE\n",
    "    \n",
    "    theta_map=ftheta_map((Xtrain,Ytrain),k,lmda)\n",
    "    Y_approx_map=Phi@theta_map\n",
    "    \n",
    "    print(\"K=\",k)\n",
    "    #plt.scatter(Xtest,Ytest)\n",
    "    #plt.scatter(Xtest,Y_approx_test,c=\"red\")\n",
    "    #plt.scatter(Xtest,Y_approx_map,c=\"green\")\n",
    "    #plt.show()\n",
    "    print(f\"The TRAINING average absolute error for K={k} is =\",average_abs_error(theta_MLE,(Xtrain,Ytrain)))\n",
    "    print(f\"The TEST average absolute error for K={k} is =\", average_abs_error(theta_MLE,(Xtest,Ytest)))\n",
    "    print(f\"The TEST absolute error for theta male for K={k} and λ={lmda} is =\",\n",
    "        average_abs_error(theta_map,(Xtest,Ytest)))\n",
    "    \n",
    " "
   ]
  },
  {
   "cell_type": "code",
   "execution_count": null,
   "metadata": {},
   "outputs": [],
   "source": []
  }
 ],
 "metadata": {
  "kernelspec": {
   "display_name": "Python 3.9.4 64-bit",
   "language": "python",
   "name": "python3"
  },
  "language_info": {
   "codemirror_mode": {
    "name": "ipython",
    "version": 3
   },
   "file_extension": ".py",
   "mimetype": "text/x-python",
   "name": "python",
   "nbconvert_exporter": "python",
   "pygments_lexer": "ipython3",
   "version": "3.9.4"
  },
  "orig_nbformat": 4,
  "vscode": {
   "interpreter": {
    "hash": "81794d4967e6c3204c66dcd87b604927b115b27c00565d3d43f05ba2f3a2cb0d"
   }
  }
 },
 "nbformat": 4,
 "nbformat_minor": 2
}
