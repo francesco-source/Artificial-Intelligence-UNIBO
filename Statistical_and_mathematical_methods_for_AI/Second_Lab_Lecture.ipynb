{
 "cells": [
  {
   "cell_type": "markdown",
   "id": "005f35cb",
   "metadata": {},
   "source": [
    "# Second lecture of laboratory of math and statistic for AI"
   ]
  },
  {
   "cell_type": "markdown",
   "id": "535647ce",
   "metadata": {},
   "source": [
    "## Introduction to machine learning"
   ]
  },
  {
   "cell_type": "markdown",
   "id": "991c77f1",
   "metadata": {},
   "source": [
    "##### Def: Machine Learning (ML) is the set of all the techniques and algorithms able to extract knowledge from the data, and use that knowledge to make accurate previsions."
   ]
  },
  {
   "cell_type": "markdown",
   "id": "bb757052",
   "metadata": {},
   "source": [
    "Steps:\n",
    "1. Understanding\n",
    "1. Collection\n",
    "1. Design\n",
    "1. Training\n",
    "1. Tuning \n",
    "1. Testing"
   ]
  },
  {
   "cell_type": "markdown",
   "id": "419463ab",
   "metadata": {},
   "source": []
  },
  {
   "cell_type": "code",
   "execution_count": 2,
   "id": "b91eb1bc",
   "metadata": {},
   "outputs": [
    {
     "name": "stdout",
     "output_type": "stream",
     "text": [
      "   label  pixel0  pixel1  pixel2  pixel3  pixel4  pixel5  pixel6  pixel7  \\\n",
      "0      1       0       0       0       0       0       0       0       0   \n",
      "1      0       0       0       0       0       0       0       0       0   \n",
      "2      1       0       0       0       0       0       0       0       0   \n",
      "3      4       0       0       0       0       0       0       0       0   \n",
      "4      0       0       0       0       0       0       0       0       0   \n",
      "\n",
      "   pixel8  ...  pixel774  pixel775  pixel776  pixel777  pixel778  pixel779  \\\n",
      "0       0  ...         0         0         0         0         0         0   \n",
      "1       0  ...         0         0         0         0         0         0   \n",
      "2       0  ...         0         0         0         0         0         0   \n",
      "3       0  ...         0         0         0         0         0         0   \n",
      "4       0  ...         0         0         0         0         0         0   \n",
      "\n",
      "   pixel780  pixel781  pixel782  pixel783  \n",
      "0         0         0         0         0  \n",
      "1         0         0         0         0  \n",
      "2         0         0         0         0  \n",
      "3         0         0         0         0  \n",
      "4         0         0         0         0  \n",
      "\n",
      "[5 rows x 785 columns]\n"
     ]
    }
   ],
   "source": [
    "import pandas as pd\n",
    "import numpy as np\n",
    "\n",
    "# Load data into memory\n",
    "data = pd.read_csv('data.csv')\n",
    "print(data.head())"
   ]
  },
  {
   "cell_type": "markdown",
   "id": "df29f43c",
   "metadata": {},
   "source": [
    "### Convert data into a matrix"
   ]
  },
  {
   "cell_type": "code",
   "execution_count": 3,
   "id": "1e3c20fa",
   "metadata": {},
   "outputs": [
    {
     "name": "stdout",
     "output_type": "stream",
     "text": [
      "(42000, 785)\n"
     ]
    }
   ],
   "source": [
    "data=np.array(data)#now this is a matrix\n",
    "print(data.shape)"
   ]
  },
  {
   "cell_type": "markdown",
   "id": "5740f907",
   "metadata": {},
   "source": [
    "Dataset of 42000 observations of 28*28 dimensions. images can be convrted to matrix. Each elemet of this matrix is the gradation of color of the pixel."
   ]
  },
  {
   "cell_type": "markdown",
   "id": "fb152530",
   "metadata": {},
   "source": [
    "We now to some flattering. The rows are concatwenated together. Each elemement of the vector is a matrix of 28*28.-> 784 dimensional vector. The first element is the label, so we have a vector of 785.  "
   ]
  },
  {
   "cell_type": "markdown",
   "id": "35746a46",
   "metadata": {},
   "source": [
    "Split data into a matrix x and a vector y where:\n",
    "1. X is a dimension (42000,784)\n",
    "1. Y is dimension (42000,)\n",
    "1. Y is the first column of data while X is the rest"
   ]
  },
  {
   "cell_type": "markdown",
   "id": "e560c3cd",
   "metadata": {},
   "source": [
    "Now we will have to recreate the matrix of each x_i"
   ]
  },
  {
   "cell_type": "code",
   "execution_count": 4,
   "id": "d6c127b4",
   "metadata": {},
   "outputs": [
    {
     "name": "stdout",
     "output_type": "stream",
     "text": [
      "(42000, 784) (42000,)\n"
     ]
    }
   ],
   "source": [
    "X=data[:,1:]#42000 i the numer of rows\n",
    "Y=data[:,0]\n",
    "print(X.shape,Y.shape)\n"
   ]
  },
  {
   "cell_type": "markdown",
   "id": "c71a76a2",
   "metadata": {},
   "source": [
    "This is N * d but we want d * N"
   ]
  },
  {
   "cell_type": "code",
   "execution_count": 5,
   "id": "34f95013",
   "metadata": {},
   "outputs": [
    {
     "name": "stdout",
     "output_type": "stream",
     "text": [
      "(784, 42000) (42000,)\n"
     ]
    }
   ],
   "source": [
    "X=data[:,1:] #42000 i the numer of rows\n",
    "X=X.T\n",
    "Y=data[:,0]\n",
    "print(X.shape,Y.shape)"
   ]
  },
  {
   "cell_type": "markdown",
   "id": "0d34e96f",
   "metadata": {},
   "source": [
    "Now we have d*N. Now how can we see images in Python?"
   ]
  },
  {
   "cell_type": "code",
   "execution_count": 6,
   "id": "85785929",
   "metadata": {},
   "outputs": [],
   "source": [
    "import matplotlib.pyplot as plt"
   ]
  },
  {
   "cell_type": "markdown",
   "id": "f2a49d95",
   "metadata": {},
   "source": [
    "### load an image in memory\n"
   ]
  },
  {
   "cell_type": "code",
   "execution_count": 7,
   "id": "05ba7332",
   "metadata": {},
   "outputs": [],
   "source": [
    "indx=10\n",
    "img=X[:,indx]\n",
    "img=np.reshape(img,(28,28))\n"
   ]
  },
  {
   "cell_type": "markdown",
   "id": "ed30ed4e",
   "metadata": {},
   "source": [
    "### Visualize now"
   ]
  },
  {
   "cell_type": "code",
   "execution_count": 8,
   "id": "ff2f8bfc",
   "metadata": {},
   "outputs": [
    {
     "data": {
      "image/png": "[encoded data removed]",
      "text/plain": [
       "<Figure size 640x480 with 1 Axes>"
      ]
     },
     "metadata": {},
     "output_type": "display_data"
    },
    {
     "name": "stdout",
     "output_type": "stream",
     "text": [
      "8\n"
     ]
    }
   ],
   "source": [
    "plt.imshow(img,cmap=\"gray\")\n",
    "plt.show()\n",
    "print(Y[indx])"
   ]
  },
  {
   "cell_type": "markdown",
   "id": "a41beca7",
   "metadata": {},
   "source": [
    " We can't use the same dataset in training and in the testing. Nevr do that. CauseYou won't understant if the machine is learning. We devide the dataset in two parts. The first to train, the second to tesing. Wich i the percentage of accuracy of the machine. "
   ]
  },
  {
   "cell_type": "markdown",
   "id": "3a575df9",
   "metadata": {},
   "source": [
    "We want to create a function implementi the splitting that takes as imput a dataset X,Y and an integer Ntrain and returns four arrays :\n",
    "1. XTrain is composed ty Ntrain random samples from X\n",
    "1. ytrain and test accordingly\n",
    "2. Xtest is the test of the array X\n",
    "3. Limitation: The sample hat to be random"
   ]
  },
  {
   "cell_type": "markdown",
   "id": "15e74e65",
   "metadata": {},
   "source": [
    "numpy.random.shuffle. You havw to shuffle only the columns."
   ]
  },
  {
   "cell_type": "markdown",
   "id": "4db0f275",
   "metadata": {},
   "source": [
    "Generate a vector ind=[0,N-1], then shuffle the vector idx and then exract from X and Y the elements corresponding to ind[:Ntrain] if you apply shuffle to X it will shuffle the rows.\n",
    "\n",
    "    "
   ]
  },
  {
   "cell_type": "markdown",
   "id": "9a7a9dd3",
   "metadata": {},
   "source": [
    "My solution: it's slow"
   ]
  },
  {
   "cell_type": "code",
   "execution_count": 9,
   "id": "120d2162",
   "metadata": {},
   "outputs": [
    {
     "name": "stdout",
     "output_type": "stream",
     "text": [
      "[23317 13049 20656 ...  4196  4764 27464]\n"
     ]
    },
    {
     "data": {
      "text/plain": [
       "(array([[0., 0., 0., ..., 0., 0., 0.],\n",
       "        [0., 0., 0., ..., 0., 0., 0.],\n",
       "        [0., 0., 0., ..., 0., 0., 0.],\n",
       "        ...,\n",
       "        [0., 0., 0., ..., 0., 0., 0.],\n",
       "        [0., 0., 0., ..., 0., 0., 0.],\n",
       "        [0., 0., 0., ..., 0., 0., 0.]]),\n",
       " array([8., 3., 2., 3., 9., 3., 5., 7., 8., 9., 2., 6., 7., 9., 0., 8., 6.,\n",
       "        8., 1., 7., 2., 8., 2., 3., 9., 0., 1., 1., 0., 5.]))"
      ]
     },
     "execution_count": 9,
     "metadata": {},
     "output_type": "execute_result"
    }
   ],
   "source": [
    "def train(X,Y,Ntrain):\n",
    "    ind=np.linspace(0,X.shape[1]-1,X.shape[1],dtype=int)\n",
    "    #ind = np.arange(0,X.shape[1]-1)\n",
    "    np.random.shuffle(ind)\n",
    "    Xtrain=np.zeros((X.shape[0],Ntrain))\n",
    "    Ytrain=np.zeros((Ntrain,))\n",
    "    print(ind)\n",
    "    for i in range(Ntrain):\n",
    "        Xtrain[:,i]=X[:,ind[i]]\n",
    "        Ytrain[i]=Y[ind[i]]\n",
    "    return (Xtrain,Ytrain)\n",
    "\n",
    "train(X,Y,30)"
   ]
  },
  {
   "cell_type": "markdown",
   "id": "35547bc4",
   "metadata": {},
   "source": [
    "The tutor solution: a lot faster."
   ]
  },
  {
   "cell_type": "code",
   "execution_count": 10,
   "id": "136c6795",
   "metadata": {},
   "outputs": [
    {
     "name": "stdout",
     "output_type": "stream",
     "text": [
      "[29163 28509 33444 ... 27430 35606 23035]\n"
     ]
    },
    {
     "data": {
      "text/plain": [
       "(array([[0., 0., 0., ..., 0., 0., 0.],\n",
       "        [0., 0., 0., ..., 0., 0., 0.],\n",
       "        [0., 0., 0., ..., 0., 0., 0.],\n",
       "        ...,\n",
       "        [0., 0., 0., ..., 0., 0., 0.],\n",
       "        [0., 0., 0., ..., 0., 0., 0.],\n",
       "        [0., 0., 0., ..., 0., 0., 0.]]),\n",
       " array([2., 4., 9., 0., 1., 2., 0., 9., 5., 7., 1., 9., 3., 3., 8., 0., 8.,\n",
       "        0., 8., 4., 2., 4., 1., 2., 3., 4., 3., 0., 3., 6.]))"
      ]
     },
     "execution_count": 10,
     "metadata": {},
     "output_type": "execute_result"
    }
   ],
   "source": [
    "def train2(X,Y,Ntrain):\n",
    "    ind=np.linspace(0,X.shape[1]-1,X.shape[1],dtype=int)\n",
    "    ind = np.arange(0,X.shape[1]-1)\n",
    "    np.random.shuffle(ind)\n",
    "    Xtrain=X[:,ind[:Ntrain]]\n",
    "    Ytrain=Y[:ind[:Ntrain]]\n",
    "    return(Xtrain,Ytrain)\n",
    "\n",
    "train(X,Y,30)"
   ]
  },
  {
   "cell_type": "code",
   "execution_count": 11,
   "id": "e572c81e",
   "metadata": {},
   "outputs": [
    {
     "name": "stdout",
     "output_type": "stream",
     "text": [
      "((array([[0, 0, 0, ..., 0, 0, 0],\n",
      "       [0, 0, 0, ..., 0, 0, 0],\n",
      "       [0, 0, 0, ..., 0, 0, 0],\n",
      "       ...,\n",
      "       [0, 0, 0, ..., 0, 0, 0],\n",
      "       [0, 0, 0, ..., 0, 0, 0],\n",
      "       [0, 0, 0, ..., 0, 0, 0]], dtype=int64), array([1, 7, 7, ..., 2, 0, 5], dtype=int64)), (array([[0, 0, 0, ..., 0, 0, 0],\n",
      "       [0, 0, 0, ..., 0, 0, 0],\n",
      "       [0, 0, 0, ..., 0, 0, 0],\n",
      "       ...,\n",
      "       [0, 0, 0, ..., 0, 0, 0],\n",
      "       [0, 0, 0, ..., 0, 0, 0],\n",
      "       [0, 0, 0, ..., 0, 0, 0]], dtype=int64), array([0, 8, 9, ..., 9, 0, 1], dtype=int64)))\n"
     ]
    }
   ],
   "source": [
    "def split_data(X,Y,Ntrain):\n",
    "    d,N=X.shape\n",
    "    indx=np.arange(N)\n",
    "    np.random.shuffle(indx)\n",
    "    train_indx=indx[:Ntrain]\n",
    "    test_indx=indx[Ntrain:]\n",
    "    Xtrain=X[:,train_indx]\n",
    "    Ytrain=Y[train_indx]\n",
    "    Xtest=X[:,test_indx]\n",
    "    Ytest=Y[test_indx]\n",
    "    \n",
    "    return(Xtrain,Ytrain),(Xtest,Ytest)\n",
    "\n",
    "print(split_data(X,Y,30000))\n",
    "\n",
    "    "
   ]
  },
  {
   "cell_type": "code",
   "execution_count": null,
   "id": "7c8e3ed3",
   "metadata": {},
   "outputs": [],
   "source": []
  }
 ],
 "metadata": {
  "kernelspec": {
   "display_name": "Python 3.9.4 64-bit",
   "language": "python",
   "name": "python3"
  },
  "language_info": {
   "codemirror_mode": {
    "name": "ipython",
    "version": 3
   },
   "file_extension": ".py",
   "mimetype": "text/x-python",
   "name": "python",
   "nbconvert_exporter": "python",
   "pygments_lexer": "ipython3",
   "version": "3.9.4"
  },
  "vscode": {
   "interpreter": {
    "hash": "81794d4967e6c3204c66dcd87b604927b115b27c00565d3d43f05ba2f3a2cb0d"
   }
  }
 },
 "nbformat": 4,
 "nbformat_minor": 5
}
