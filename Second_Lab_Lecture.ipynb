{
 "cells": [
  {
   "cell_type": "markdown",
   "id": "005f35cb",
   "metadata": {},
   "source": [
    "# Second lecture of laboratory of math and statistic for AI"
   ]
  },
  {
   "cell_type": "code",
   "execution_count": 60,
   "id": "b91eb1bc",
   "metadata": {},
   "outputs": [
    {
     "name": "stdout",
     "output_type": "stream",
     "text": [
      "   label  pixel0  pixel1  pixel2  pixel3  pixel4  pixel5  pixel6  pixel7  \\\n",
      "0      1       0       0       0       0       0       0       0       0   \n",
      "1      0       0       0       0       0       0       0       0       0   \n",
      "2      1       0       0       0       0       0       0       0       0   \n",
      "3      4       0       0       0       0       0       0       0       0   \n",
      "4      0       0       0       0       0       0       0       0       0   \n",
      "\n",
      "   pixel8  ...  pixel774  pixel775  pixel776  pixel777  pixel778  pixel779  \\\n",
      "0       0  ...         0         0         0         0         0         0   \n",
      "1       0  ...         0         0         0         0         0         0   \n",
      "2       0  ...         0         0         0         0         0         0   \n",
      "3       0  ...         0         0         0         0         0         0   \n",
      "4       0  ...         0         0         0         0         0         0   \n",
      "\n",
      "   pixel780  pixel781  pixel782  pixel783  \n",
      "0         0         0         0         0  \n",
      "1         0         0         0         0  \n",
      "2         0         0         0         0  \n",
      "3         0         0         0         0  \n",
      "4         0         0         0         0  \n",
      "\n",
      "[5 rows x 785 columns]\n"
     ]
    }
   ],
   "source": [
    "import pandas as pd\n",
    "import numpy as np\n",
    "\n",
    "# Load data into memory\n",
    "data = pd.read_csv('data.csv')\n",
    "print(data.head())"
   ]
  },
  {
   "cell_type": "markdown",
   "id": "df29f43c",
   "metadata": {},
   "source": [
    "### Convert data into a matrix"
   ]
  },
  {
   "cell_type": "code",
   "execution_count": 61,
   "id": "1e3c20fa",
   "metadata": {},
   "outputs": [
    {
     "name": "stdout",
     "output_type": "stream",
     "text": [
      "(42000, 785)\n"
     ]
    }
   ],
   "source": [
    "data=np.array(data)#now this is a matrix\n",
    "print(data.shape)"
   ]
  },
  {
   "cell_type": "markdown",
   "id": "5740f907",
   "metadata": {},
   "source": [
    "Dataset of 42000 observations of 28*28 dimensions. images can be convrted to matrix. Each elemet of this matrix is the gradation of color of the pixel."
   ]
  },
  {
   "cell_type": "markdown",
   "id": "fb152530",
   "metadata": {},
   "source": [
    "We now to some flattering. The rows are concatwenated together. Each elemement of the vector is a matrix of 28*28.-> 784 dimensional vector. The first element is the label, so we have a vector of 785.  "
   ]
  },
  {
   "cell_type": "markdown",
   "id": "35746a46",
   "metadata": {},
   "source": [
    "Split data into a matrix x and a vector y where:\n",
    "1. X is a dimension (42000,784)\n",
    "1. Y is dimension (42000,)\n",
    "1. Y is the first column of data while X is the rest"
   ]
  },
  {
   "cell_type": "markdown",
   "id": "e560c3cd",
   "metadata": {},
   "source": [
    "Now we will have to recreate the matrix of each x_i"
   ]
  },
  {
   "cell_type": "code",
   "execution_count": 62,
   "id": "d6c127b4",
   "metadata": {},
   "outputs": [
    {
     "name": "stdout",
     "output_type": "stream",
     "text": [
      "(42000, 784) (42000,)\n"
     ]
    }
   ],
   "source": [
    "X=data[:,1:]#42000 i the numer of rows\n",
    "Y=data[:,0]\n",
    "print(X.shape,Y.shape)\n"
   ]
  },
  {
   "cell_type": "markdown",
   "id": "c71a76a2",
   "metadata": {},
   "source": [
    "This is N * d but we want d * N"
   ]
  },
  {
   "cell_type": "code",
   "execution_count": 63,
   "id": "34f95013",
   "metadata": {},
   "outputs": [
    {
     "name": "stdout",
     "output_type": "stream",
     "text": [
      "(784, 42000) (42000,)\n"
     ]
    }
   ],
   "source": [
    "X=data[:,1:] #42000 i the numer of rows\n",
    "X=X.T\n",
    "Y=data[:,0]\n",
    "print(X.shape,Y.shape)"
   ]
  },
  {
   "cell_type": "markdown",
   "id": "0d34e96f",
   "metadata": {},
   "source": [
    "Now we have d*N. Now how can we see images in Python?"
   ]
  },
  {
   "cell_type": "code",
   "execution_count": 64,
   "id": "85785929",
   "metadata": {},
   "outputs": [],
   "source": [
    "import matplotlib.pyplot as plt"
   ]
  },
  {
   "cell_type": "markdown",
   "id": "f2a49d95",
   "metadata": {},
   "source": [
    "### load an image in memory\n"
   ]
  },
  {
   "cell_type": "code",
   "execution_count": 65,
   "id": "05ba7332",
   "metadata": {},
   "outputs": [],
   "source": [
    "indx=10\n",
    "img=X[:,indx]\n",
    "img=np.reshape(img,(28,28))\n"
   ]
  },
  {
   "cell_type": "markdown",
   "id": "ed30ed4e",
   "metadata": {},
   "source": [
    "### Visualize now"
   ]
  },
  {
   "cell_type": "code",
   "execution_count": 66,
   "id": "ff2f8bfc",
   "metadata": {},
   "outputs": [
    {
     "data": {
      "image/png": "[encoded data removed]",
      "text/plain": [
       "<Figure size 640x480 with 1 Axes>"
      ]
     },
     "metadata": {},
     "output_type": "display_data"
    },
    {
     "name": "stdout",
     "output_type": "stream",
     "text": [
      "8\n"
     ]
    }
   ],
   "source": [
    "plt.imshow(img,cmap=\"gray\")\n",
    "plt.show()\n",
    "print(Y[indx])"
   ]
  },
  {
   "cell_type": "markdown",
   "id": "a41beca7",
   "metadata": {},
   "source": [
    " We can't use the same dataset in training and in the testing. Nevr do that. CauseYou won't understant if the machine is learning. We devide the dataset in two parts. The first to train, the second to tesing. Wich i the percentage of accuracy of the machine. "
   ]
  },
  {
   "cell_type": "markdown",
   "id": "3a575df9",
   "metadata": {},
   "source": [
    "We want to create a function implementi the splitting that takes as imput a dataset X,Y and an integer Ntrain and returns four arrays :\n",
    "1. XTrain is composed ty Ntrain random samples from X\n",
    "1. ytrain and test accordingly\n",
    "2. Xtest is the test of the array X\n",
    "3. Limitation: The sample hat to be random"
   ]
  },
  {
   "cell_type": "markdown",
   "id": "15e74e65",
   "metadata": {},
   "source": [
    "numpy.random.shuffle. You havw to shuffle only the columns."
   ]
  },
  {
   "cell_type": "markdown",
   "id": "4db0f275",
   "metadata": {},
   "source": [
    "Generate a vector ind=[0,N-1], then shuffle the vector idx and then exract from X and Y the elements corresponding to ind[:Ntrain] if you apply shuffle to X it will shuffle the rows.\n",
    "\n",
    "    "
   ]
  },
  {
   "cell_type": "code",
   "execution_count": 74,
   "id": "120d2162",
   "metadata": {},
   "outputs": [
    {
     "name": "stdout",
     "output_type": "stream",
     "text": [
      "[27215 40158 18316 ... 24454  4769 24418]\n"
     ]
    },
    {
     "data": {
      "text/plain": [
       "(array([[0., 0., 0., ..., 0., 0., 0.],\n",
       "        [0., 0., 0., ..., 0., 0., 0.],\n",
       "        [0., 0., 0., ..., 0., 0., 0.],\n",
       "        ...,\n",
       "        [0., 0., 0., ..., 0., 0., 0.],\n",
       "        [0., 0., 0., ..., 0., 0., 0.],\n",
       "        [0., 0., 0., ..., 0., 0., 0.]]),\n",
       " array([1., 4., 9., 3., 4., 3., 6., 1., 4., 9., 0., 0., 4., 2., 6., 6., 3.,\n",
       "        9., 2., 6., 8., 2., 6., 4., 9., 2., 7., 4., 2., 7.]))"
      ]
     },
     "execution_count": 74,
     "metadata": {},
     "output_type": "execute_result"
    }
   ],
   "source": [
    "def train(X,Y,Ntrain):\n",
    "    ind=np.linspace(0,X.shape[1]-1,X.shape[1],dtype=int)\n",
    "    #ind = np.arange(0,X.shape[1]-1)\n",
    "    np.random.shuffle(ind)\n",
    "    Xtrain=np.zeros((X.shape[0],Ntrain))\n",
    "    Ytrain=np.zeros((Ntrain,))\n",
    "    print(ind)\n",
    "    for i in range(Ntrain):\n",
    "        Xtrain[:,i]=X[:,ind[i]]\n",
    "        Ytrain[i]=Y[ind[i]]\n",
    "    return (Xtrain,Ytrain)\n",
    "\n",
    "train(X,Y,30)"
   ]
  },
  {
   "cell_type": "code",
   "execution_count": 77,
   "id": "136c6795",
   "metadata": {},
   "outputs": [
    {
     "name": "stdout",
     "output_type": "stream",
     "text": [
      "[24391 38950 39678 ... 32140 34800 16259]\n"
     ]
    },
    {
     "data": {
      "text/plain": [
       "(array([[0., 0., 0., ..., 0., 0., 0.],\n",
       "        [0., 0., 0., ..., 0., 0., 0.],\n",
       "        [0., 0., 0., ..., 0., 0., 0.],\n",
       "        ...,\n",
       "        [0., 0., 0., ..., 0., 0., 0.],\n",
       "        [0., 0., 0., ..., 0., 0., 0.],\n",
       "        [0., 0., 0., ..., 0., 0., 0.]]),\n",
       " array([7., 3., 1., 9., 3., 1., 9., 5., 8., 6., 6., 1., 8., 2., 5., 7., 7.,\n",
       "        6., 9., 5., 9., 6., 3., 3., 0., 7., 5., 7., 8., 1.]))"
      ]
     },
     "execution_count": 77,
     "metadata": {},
     "output_type": "execute_result"
    }
   ],
   "source": [
    "def train2(X,Y,Ntrain):\n",
    "    ind=np.linspace(0,X.shape[1]-1,X.shape[1],dtype=int)\n",
    "    ind = np.arange(0,X.shape[1]-1)\n",
    "    np.random.shuffle(ind)\n",
    "    Xtrain=X[:,ind[:Ntrain]]\n",
    "    Ytrain=Y[:ind[:Ntrain]]\n",
    "    return(Xtrain,Ytrain)\n",
    "\n",
    "train(X,Y,30)"
   ]
  },
  {
   "cell_type": "code",
   "execution_count": 85,
   "id": "e572c81e",
   "metadata": {},
   "outputs": [
    {
     "ename": "TypeError",
     "evalue": "tuple indices must be integers or slices, not tuple",
     "output_type": "error",
     "traceback": [
      "\u001b[1;31m---------------------------------------------------------------------------\u001b[0m",
      "\u001b[1;31mTypeError\u001b[0m                                 Traceback (most recent call last)",
      "Input \u001b[1;32mIn [85]\u001b[0m, in \u001b[0;36m<cell line: 14>\u001b[1;34m()\u001b[0m\n\u001b[0;32m     10\u001b[0m     Ytest\u001b[38;5;241m=\u001b[39mY[test_indx]\n\u001b[0;32m     12\u001b[0m     \u001b[38;5;28;01mreturn\u001b[39;00m(Xtrain,Ytrain),(Xtest,Ytest)\n\u001b[1;32m---> 14\u001b[0m \u001b[38;5;28mprint\u001b[39m(\u001b[43msplit_data\u001b[49m\u001b[43m(\u001b[49m\u001b[43mX\u001b[49m\u001b[43m,\u001b[49m\u001b[43mY\u001b[49m\u001b[43m,\u001b[49m\u001b[38;5;241;43m30000\u001b[39;49m\u001b[43m)\u001b[49m\u001b[43m[\u001b[49m\u001b[38;5;241;43m0\u001b[39;49m\u001b[43m,\u001b[49m\u001b[38;5;241;43m1\u001b[39;49m\u001b[43m]\u001b[49m)\n",
      "\u001b[1;31mTypeError\u001b[0m: tuple indices must be integers or slices, not tuple"
     ]
    }
   ],
   "source": [
    "def split_data(X,Y,Ntrain):\n",
    "    d,N=X.shape\n",
    "    indx=np.arange(N)\n",
    "    np.random.shuffle(indx)\n",
    "    train_indx=indx[:Ntrain]\n",
    "    test_indx=indx[Ntrain:]\n",
    "    Xtrain=X[:,train_indx]\n",
    "    Ytrain=Y[train_indx]\n",
    "    Xtest=X[:,test_indx]\n",
    "    Ytest=Y[test_indx]\n",
    "    \n",
    "    return(Xtrain,Ytrain),(Xtest,Ytest)\n",
    "\n",
    "print(split_data(X,Y,30000))\n",
    "\n",
    "    "
   ]
  },
  {
   "cell_type": "code",
   "execution_count": null,
   "id": "7c8e3ed3",
   "metadata": {},
   "outputs": [],
   "source": []
  }
 ],
 "metadata": {
  "kernelspec": {
   "display_name": "Python 3 (ipykernel)",
   "language": "python",
   "name": "python3"
  },
  "language_info": {
   "codemirror_mode": {
    "name": "ipython",
    "version": 3
   },
   "file_extension": ".py",
   "mimetype": "text/x-python",
   "name": "python",
   "nbconvert_exporter": "python",
   "pygments_lexer": "ipython3",
   "version": "3.9.13"
  }
 },
 "nbformat": 4,
 "nbformat_minor": 5
}
