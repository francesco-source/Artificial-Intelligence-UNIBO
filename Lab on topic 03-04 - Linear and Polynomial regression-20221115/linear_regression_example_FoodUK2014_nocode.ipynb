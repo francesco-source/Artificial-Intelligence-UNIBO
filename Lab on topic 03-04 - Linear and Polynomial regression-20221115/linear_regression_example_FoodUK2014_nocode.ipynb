{
  "cells": [
    {
      "cell_type": "markdown",
      "metadata": {},
      "source": [
        "\n",
        "# Linear Regression Example\n",
        "The example below uses a [marketing](https://scikit-learn.org/stable/datasets/toy_dataset.html) dataset,\n",
        "in order to illustrate a linear regression activity.\n",
        "\n",
        "Workflow:\n",
        "\n"
      ]
    },
    {
      "cell_type": "markdown",
      "metadata": {},
      "source": [
        "1. Preparation\n",
        "    1. Load the dataset from a `.csv` file and show a short description\n",
        "    1. Show the two dimensional scatter plots for all the predicting variables with respect to the target\n",
        "    1. Split the data into *predicting variables* `X` and *target* `y`\n",
        "        1. here we set the `random_state` variable to make the experiment *repeatable* \n",
        "1. First experiment: compute the regression on a single predicting variable\n",
        "    1. Consider a reduced dataset containing the chosen variable and the target\n",
        "    1. Fit the `LinearRegression` estimator on the training set\n",
        "    1. Show the statistical significance of the fitted model\n",
        "    1. Predict the target for the test set using the *fitted* estimator\n",
        "    1. Compute the regression coefficients and the quality measures: *Root Mean Squared Error (RMSE)* and *coefficient of determination (r2)*\n",
        "1. Second experiment: compute the regression considering all the predicting variables\n",
        "    1. Repeat the steps from 2.2 to 2.5\n",
        "1. Third experiment: use the `DecisionTreeRegressor` with the entire dataset\n",
        "    1. Fit the tree using the default hyperparameters, in order to find the \n",
        "    maximum depth of the unconstrained tree\n",
        "    1. Use *cross-validation* to find the optimal *maximum depth* of the tree\n",
        "    1. Fit the tree with the optmal `max_depth`\n",
        "    1. Predict and show the *root mean squared error*\n",
        "1. Fourth experiment: use the `RandomForestRegressor`\n",
        "    1. Repeat steps from 4.2 to 4.4 (for simplicity, we use the maximum `max_depth` found in 4.1)\n"
      ]
    },
    {
      "cell_type": "code",
      "execution_count": 161,
      "metadata": {
        "collapsed": false
      },
      "outputs": [],
      "source": [
        "# Code source: Claudio Sartori \n",
        "# License: BSD 3 clause\n",
        "\n",
        "import matplotlib.pyplot as plt\n",
        "import numpy as np\n",
        "import scipy.stats\n",
        "from sklearn import datasets, linear_model\n",
        "from sklearn.metrics import mean_squared_error, r2_score\n",
        "import pandas as pd\n",
        "from sklearn.model_selection import train_test_split\n",
        "\n",
        "random_state = 94922767 # this will be used to guarantee the repeatability of the experiment"
      ]
    },
    {
      "cell_type": "markdown",
      "metadata": {},
      "source": [
        "## Load the dataset from a `.xlsx` file and show a short description"
      ]
    },
    {
      "cell_type": "code",
      "execution_count": 162,
      "metadata": {},
      "outputs": [],
      "source": [
        "# This cell allows full compatibility between execution in Google Colab and in local\n",
        "try:\n",
        "  import google.colab.files\n",
        "  IN_COLAB = True\n",
        "except:\n",
        "  IN_COLAB = False\n",
        "# from google.colab import files\n",
        "if IN_COLAB:\n",
        "    uploaded = files.upload()"
      ]
    },
    {
      "cell_type": "code",
      "execution_count": 163,
      "metadata": {},
      "outputs": [],
      "source": [
        "# The file must be available in the same directory, \n",
        "# or uploaded in the Colab environment \n",
        "# in the execution of the previous cell\n",
        "data_fn = 'FoodUK2014.xlsx'\n",
        "df0 = pd.read_excel(data_fn)"
      ]
    },
    {
      "cell_type": "markdown",
      "metadata": {},
      "source": [
        "## Data Exploration and preparation"
      ]
    },
    {
      "cell_type": "markdown",
      "metadata": {},
      "source": [
        "##### Show a short description of the columns"
      ]
    },
    {
      "cell_type": "code",
      "execution_count": 164,
      "metadata": {},
      "outputs": [
        {
          "data": {
            "text/html": [
              "<div>\n",
              "<style scoped>\n",
              "    .dataframe tbody tr th:only-of-type {\n",
              "        vertical-align: middle;\n",
              "    }\n",
              "\n",
              "    .dataframe tbody tr th {\n",
              "        vertical-align: top;\n",
              "    }\n",
              "\n",
              "    .dataframe thead th {\n",
              "        text-align: right;\n",
              "    }\n",
              "</style>\n",
              "<table border=\"1\" class=\"dataframe\">\n",
              "  <thead>\n",
              "    <tr style=\"text-align: right;\">\n",
              "      <th></th>\n",
              "      <th>hhsize</th>\n",
              "      <th>quarter</th>\n",
              "      <th>adults_n</th>\n",
              "      <th>children_n</th>\n",
              "      <th>totalexp</th>\n",
              "      <th>SexHRP</th>\n",
              "      <th>month</th>\n",
              "      <th>Gorx</th>\n",
              "      <th>Year</th>\n",
              "      <th>income</th>\n",
              "      <th>AgeHRP</th>\n",
              "      <th>qmeat</th>\n",
              "      <th>qfish</th>\n",
              "      <th>qfv</th>\n",
              "      <th>xmeat</th>\n",
              "      <th>xfish</th>\n",
              "      <th>xfv</th>\n",
              "      <th>uvmeat</th>\n",
              "      <th>uvfish</th>\n",
              "      <th>uvfv</th>\n",
              "    </tr>\n",
              "  </thead>\n",
              "  <tbody>\n",
              "    <tr>\n",
              "      <th>0</th>\n",
              "      <td>4</td>\n",
              "      <td>April to June</td>\n",
              "      <td>2</td>\n",
              "      <td>2</td>\n",
              "      <td>556.213795</td>\n",
              "      <td>Female</td>\n",
              "      <td>April</td>\n",
              "      <td>West Midlands</td>\n",
              "      <td>2014</td>\n",
              "      <td>985.655</td>\n",
              "      <td>34</td>\n",
              "      <td>13.745333</td>\n",
              "      <td>NaN</td>\n",
              "      <td>37.301331</td>\n",
              "      <td>96.156670</td>\n",
              "      <td>NaN</td>\n",
              "      <td>69.268333</td>\n",
              "      <td>6.995586</td>\n",
              "      <td>NaN</td>\n",
              "      <td>1.856993</td>\n",
              "    </tr>\n",
              "    <tr>\n",
              "      <th>1</th>\n",
              "      <td>4</td>\n",
              "      <td>July to September</td>\n",
              "      <td>2</td>\n",
              "      <td>2</td>\n",
              "      <td>737.685635</td>\n",
              "      <td>Male</td>\n",
              "      <td>August</td>\n",
              "      <td>North East</td>\n",
              "      <td>2014</td>\n",
              "      <td>824.520</td>\n",
              "      <td>38</td>\n",
              "      <td>6.045000</td>\n",
              "      <td>0.650000</td>\n",
              "      <td>30.203335</td>\n",
              "      <td>53.278336</td>\n",
              "      <td>6.500000</td>\n",
              "      <td>62.833336</td>\n",
              "      <td>8.813621</td>\n",
              "      <td>10.000000</td>\n",
              "      <td>2.080344</td>\n",
              "    </tr>\n",
              "    <tr>\n",
              "      <th>2</th>\n",
              "      <td>2</td>\n",
              "      <td>October to December</td>\n",
              "      <td>2</td>\n",
              "      <td>0</td>\n",
              "      <td>330.775000</td>\n",
              "      <td>Male</td>\n",
              "      <td>October</td>\n",
              "      <td>Northern Ireland</td>\n",
              "      <td>2014</td>\n",
              "      <td>271.925</td>\n",
              "      <td>54</td>\n",
              "      <td>11.780167</td>\n",
              "      <td>2.088667</td>\n",
              "      <td>17.032166</td>\n",
              "      <td>93.838333</td>\n",
              "      <td>28.491667</td>\n",
              "      <td>42.813335</td>\n",
              "      <td>7.965790</td>\n",
              "      <td>13.641079</td>\n",
              "      <td>2.513675</td>\n",
              "    </tr>\n",
              "    <tr>\n",
              "      <th>3</th>\n",
              "      <td>2</td>\n",
              "      <td>April to June</td>\n",
              "      <td>2</td>\n",
              "      <td>0</td>\n",
              "      <td>536.742283</td>\n",
              "      <td>Male</td>\n",
              "      <td>June</td>\n",
              "      <td>North West and Merseyside</td>\n",
              "      <td>2014</td>\n",
              "      <td>611.490</td>\n",
              "      <td>64</td>\n",
              "      <td>2.745167</td>\n",
              "      <td>NaN</td>\n",
              "      <td>4.008333</td>\n",
              "      <td>16.856667</td>\n",
              "      <td>NaN</td>\n",
              "      <td>5.416667</td>\n",
              "      <td>6.140490</td>\n",
              "      <td>NaN</td>\n",
              "      <td>1.351351</td>\n",
              "    </tr>\n",
              "    <tr>\n",
              "      <th>4</th>\n",
              "      <td>3</td>\n",
              "      <td>April to June</td>\n",
              "      <td>3</td>\n",
              "      <td>0</td>\n",
              "      <td>880.787157</td>\n",
              "      <td>Male</td>\n",
              "      <td>April</td>\n",
              "      <td>East Midlands</td>\n",
              "      <td>2014</td>\n",
              "      <td>496.040</td>\n",
              "      <td>64</td>\n",
              "      <td>12.857000</td>\n",
              "      <td>2.903333</td>\n",
              "      <td>7.345000</td>\n",
              "      <td>73.623337</td>\n",
              "      <td>16.921667</td>\n",
              "      <td>19.261665</td>\n",
              "      <td>5.726323</td>\n",
              "      <td>5.828358</td>\n",
              "      <td>2.622419</td>\n",
              "    </tr>\n",
              "  </tbody>\n",
              "</table>\n",
              "</div>"
            ],
            "text/plain": [
              "   hhsize              quarter  adults_n  children_n    totalexp  SexHRP  \\\n",
              "0       4        April to June         2           2  556.213795  Female   \n",
              "1       4    July to September         2           2  737.685635    Male   \n",
              "2       2  October to December         2           0  330.775000    Male   \n",
              "3       2        April to June         2           0  536.742283    Male   \n",
              "4       3        April to June         3           0  880.787157    Male   \n",
              "\n",
              "     month                       Gorx  Year   income  AgeHRP      qmeat  \\\n",
              "0    April              West Midlands  2014  985.655      34  13.745333   \n",
              "1   August                 North East  2014  824.520      38   6.045000   \n",
              "2  October           Northern Ireland  2014  271.925      54  11.780167   \n",
              "3     June  North West and Merseyside  2014  611.490      64   2.745167   \n",
              "4    April              East Midlands  2014  496.040      64  12.857000   \n",
              "\n",
              "      qfish        qfv      xmeat      xfish        xfv    uvmeat     uvfish  \\\n",
              "0       NaN  37.301331  96.156670        NaN  69.268333  6.995586        NaN   \n",
              "1  0.650000  30.203335  53.278336   6.500000  62.833336  8.813621  10.000000   \n",
              "2  2.088667  17.032166  93.838333  28.491667  42.813335  7.965790  13.641079   \n",
              "3       NaN   4.008333  16.856667        NaN   5.416667  6.140490        NaN   \n",
              "4  2.903333   7.345000  73.623337  16.921667  19.261665  5.726323   5.828358   \n",
              "\n",
              "       uvfv  \n",
              "0  1.856993  \n",
              "1  2.080344  \n",
              "2  2.513675  \n",
              "3  1.351351  \n",
              "4  2.622419  "
            ]
          },
          "execution_count": 164,
          "metadata": {},
          "output_type": "execute_result"
        }
      ],
      "source": [
        "df0.describe()\n",
        "df0.head()"
      ]
    },
    {
      "cell_type": "markdown",
      "metadata": {},
      "source": [
        "##### Show the number of rows with nulls\n",
        "\n",
        "It is computed subtracting the number of rows in the dataset without nulls from the original number of rows"
      ]
    },
    {
      "cell_type": "code",
      "execution_count": 165,
      "metadata": {},
      "outputs": [
        {
          "name": "stdout",
          "output_type": "stream",
          "text": [
            "1668\n"
          ]
        }
      ],
      "source": [
        "nonnull=df0.dropna()\n",
        "print(df0.shape[0]-nonnull.shape[0])"
      ]
    },
    {
      "cell_type": "markdown",
      "metadata": {},
      "source": [
        "#### Drop rows with nulls"
      ]
    },
    {
      "cell_type": "code",
      "execution_count": 166,
      "metadata": {},
      "outputs": [
        {
          "data": {
            "text/plain": [
              "(3446, 20)"
            ]
          },
          "execution_count": 166,
          "metadata": {},
          "output_type": "execute_result"
        }
      ],
      "source": [
        "df0=df0.dropna()\n",
        "df0.shape"
      ]
    },
    {
      "cell_type": "markdown",
      "metadata": {},
      "source": [
        "##### Data transormation\n",
        "- Convert the alphanumeric SexHRP into numeric 0 and 1\n",
        "    - the `sklearn` machine learning procedures work only with numeric predicting\n",
        "      attributes\n",
        "- Generate two new columns as ratio of other columns\n",
        "    - this is suggested by background information"
      ]
    },
    {
      "cell_type": "code",
      "execution_count": 167,
      "metadata": {},
      "outputs": [
        {
          "data": {
            "text/html": [
              "<div>\n",
              "<style scoped>\n",
              "    .dataframe tbody tr th:only-of-type {\n",
              "        vertical-align: middle;\n",
              "    }\n",
              "\n",
              "    .dataframe tbody tr th {\n",
              "        vertical-align: top;\n",
              "    }\n",
              "\n",
              "    .dataframe thead th {\n",
              "        text-align: right;\n",
              "    }\n",
              "</style>\n",
              "<table border=\"1\" class=\"dataframe\">\n",
              "  <thead>\n",
              "    <tr style=\"text-align: right;\">\n",
              "      <th></th>\n",
              "      <th>hhsize</th>\n",
              "      <th>quarter</th>\n",
              "      <th>adults_n</th>\n",
              "      <th>children_n</th>\n",
              "      <th>totalexp</th>\n",
              "      <th>SexHRP</th>\n",
              "      <th>month</th>\n",
              "      <th>Gorx</th>\n",
              "      <th>Year</th>\n",
              "      <th>income</th>\n",
              "      <th>...</th>\n",
              "      <th>qfish</th>\n",
              "      <th>qfv</th>\n",
              "      <th>xmeat</th>\n",
              "      <th>xfish</th>\n",
              "      <th>xfv</th>\n",
              "      <th>uvmeat</th>\n",
              "      <th>uvfish</th>\n",
              "      <th>uvfv</th>\n",
              "      <th>qmeat_hhsize_ratio</th>\n",
              "      <th>income_hhsize_ratio</th>\n",
              "    </tr>\n",
              "  </thead>\n",
              "  <tbody>\n",
              "    <tr>\n",
              "      <th>1</th>\n",
              "      <td>4</td>\n",
              "      <td>July to September</td>\n",
              "      <td>2</td>\n",
              "      <td>2</td>\n",
              "      <td>737.685635</td>\n",
              "      <td>1</td>\n",
              "      <td>August</td>\n",
              "      <td>North East</td>\n",
              "      <td>2014</td>\n",
              "      <td>824.520</td>\n",
              "      <td>...</td>\n",
              "      <td>0.650000</td>\n",
              "      <td>30.203335</td>\n",
              "      <td>53.278336</td>\n",
              "      <td>6.500000</td>\n",
              "      <td>62.833336</td>\n",
              "      <td>8.813621</td>\n",
              "      <td>10.000000</td>\n",
              "      <td>2.080344</td>\n",
              "      <td>1.511250</td>\n",
              "      <td>206.130000</td>\n",
              "    </tr>\n",
              "    <tr>\n",
              "      <th>2</th>\n",
              "      <td>2</td>\n",
              "      <td>October to December</td>\n",
              "      <td>2</td>\n",
              "      <td>0</td>\n",
              "      <td>330.775000</td>\n",
              "      <td>1</td>\n",
              "      <td>October</td>\n",
              "      <td>Northern Ireland</td>\n",
              "      <td>2014</td>\n",
              "      <td>271.925</td>\n",
              "      <td>...</td>\n",
              "      <td>2.088667</td>\n",
              "      <td>17.032166</td>\n",
              "      <td>93.838333</td>\n",
              "      <td>28.491667</td>\n",
              "      <td>42.813335</td>\n",
              "      <td>7.965790</td>\n",
              "      <td>13.641079</td>\n",
              "      <td>2.513675</td>\n",
              "      <td>5.890083</td>\n",
              "      <td>135.962500</td>\n",
              "    </tr>\n",
              "    <tr>\n",
              "      <th>4</th>\n",
              "      <td>3</td>\n",
              "      <td>April to June</td>\n",
              "      <td>3</td>\n",
              "      <td>0</td>\n",
              "      <td>880.787157</td>\n",
              "      <td>1</td>\n",
              "      <td>April</td>\n",
              "      <td>East Midlands</td>\n",
              "      <td>2014</td>\n",
              "      <td>496.040</td>\n",
              "      <td>...</td>\n",
              "      <td>2.903333</td>\n",
              "      <td>7.345000</td>\n",
              "      <td>73.623337</td>\n",
              "      <td>16.921667</td>\n",
              "      <td>19.261665</td>\n",
              "      <td>5.726323</td>\n",
              "      <td>5.828358</td>\n",
              "      <td>2.622419</td>\n",
              "      <td>4.285667</td>\n",
              "      <td>165.346667</td>\n",
              "    </tr>\n",
              "    <tr>\n",
              "      <th>5</th>\n",
              "      <td>4</td>\n",
              "      <td>January to March</td>\n",
              "      <td>2</td>\n",
              "      <td>2</td>\n",
              "      <td>372.275578</td>\n",
              "      <td>1</td>\n",
              "      <td>February</td>\n",
              "      <td>Wales</td>\n",
              "      <td>2014</td>\n",
              "      <td>266.530</td>\n",
              "      <td>...</td>\n",
              "      <td>1.789667</td>\n",
              "      <td>27.378000</td>\n",
              "      <td>303.181671</td>\n",
              "      <td>28.773333</td>\n",
              "      <td>86.558327</td>\n",
              "      <td>8.451528</td>\n",
              "      <td>16.077482</td>\n",
              "      <td>3.161602</td>\n",
              "      <td>8.968250</td>\n",
              "      <td>66.632500</td>\n",
              "    </tr>\n",
              "    <tr>\n",
              "      <th>7</th>\n",
              "      <td>3</td>\n",
              "      <td>January to March</td>\n",
              "      <td>3</td>\n",
              "      <td>0</td>\n",
              "      <td>151.750522</td>\n",
              "      <td>1</td>\n",
              "      <td>January</td>\n",
              "      <td>Eastern</td>\n",
              "      <td>2014</td>\n",
              "      <td>403.180</td>\n",
              "      <td>...</td>\n",
              "      <td>3.003000</td>\n",
              "      <td>6.742667</td>\n",
              "      <td>72.258331</td>\n",
              "      <td>26.000000</td>\n",
              "      <td>17.376667</td>\n",
              "      <td>5.904745</td>\n",
              "      <td>8.658009</td>\n",
              "      <td>2.577121</td>\n",
              "      <td>4.079111</td>\n",
              "      <td>134.393333</td>\n",
              "    </tr>\n",
              "  </tbody>\n",
              "</table>\n",
              "<p>5 rows × 22 columns</p>\n",
              "</div>"
            ],
            "text/plain": [
              "   hhsize              quarter  adults_n  children_n    totalexp  SexHRP  \\\n",
              "1       4    July to September         2           2  737.685635       1   \n",
              "2       2  October to December         2           0  330.775000       1   \n",
              "4       3        April to June         3           0  880.787157       1   \n",
              "5       4     January to March         2           2  372.275578       1   \n",
              "7       3     January to March         3           0  151.750522       1   \n",
              "\n",
              "      month              Gorx  Year   income  ...     qfish        qfv  \\\n",
              "1    August        North East  2014  824.520  ...  0.650000  30.203335   \n",
              "2   October  Northern Ireland  2014  271.925  ...  2.088667  17.032166   \n",
              "4     April     East Midlands  2014  496.040  ...  2.903333   7.345000   \n",
              "5  February             Wales  2014  266.530  ...  1.789667  27.378000   \n",
              "7   January           Eastern  2014  403.180  ...  3.003000   6.742667   \n",
              "\n",
              "        xmeat      xfish        xfv    uvmeat     uvfish      uvfv  \\\n",
              "1   53.278336   6.500000  62.833336  8.813621  10.000000  2.080344   \n",
              "2   93.838333  28.491667  42.813335  7.965790  13.641079  2.513675   \n",
              "4   73.623337  16.921667  19.261665  5.726323   5.828358  2.622419   \n",
              "5  303.181671  28.773333  86.558327  8.451528  16.077482  3.161602   \n",
              "7   72.258331  26.000000  17.376667  5.904745   8.658009  2.577121   \n",
              "\n",
              "   qmeat_hhsize_ratio  income_hhsize_ratio  \n",
              "1            1.511250           206.130000  \n",
              "2            5.890083           135.962500  \n",
              "4            4.285667           165.346667  \n",
              "5            8.968250            66.632500  \n",
              "7            4.079111           134.393333  \n",
              "\n",
              "[5 rows x 22 columns]"
            ]
          },
          "execution_count": 167,
          "metadata": {},
          "output_type": "execute_result"
        }
      ],
      "source": [
        "df0.SexHRP.replace((\"Male\",\"Female\"),(1,0),inplace=True)\n",
        "\n",
        "df0.columns\n",
        "df0[\"qmeat_hhsize_ratio\"]=df0.qmeat/df0.hhsize\n",
        "df0[\"income_hhsize_ratio\"]=df0.income/df0.hhsize\n",
        "df0.head()"
      ]
    },
    {
      "cell_type": "markdown",
      "metadata": {},
      "source": [
        "##### Use only the columns that the experts consider interesting\n",
        "This is suggested by background information"
      ]
    },
    {
      "cell_type": "code",
      "execution_count": 168,
      "metadata": {},
      "outputs": [],
      "source": [
        "colonneselezionate=[\"adults_n\",\"children_n\",\"SexHRP\",\"AgeHRP\",\"qmeat_hhsize_ratio\",\"income_hhsize_ratio\",\"uvmeat\"]\n",
        "colonnedaeliminare=[i for i in list(df0.columns) if i not in colonneselezionate]\n",
        "for i in colonnedaeliminare:\n",
        "    df0=df0.drop(i,axis=1)\n",
        "df=df0"
      ]
    },
    {
      "cell_type": "markdown",
      "metadata": {},
      "source": [
        "## Choose the target and split the data into *predicting variables* `X` and *target* `y`"
      ]
    },
    {
      "cell_type": "code",
      "execution_count": 169,
      "metadata": {},
      "outputs": [],
      "source": [
        "target=\"qmeat_hhsize_ratio\"\n",
        "y=df[target]\n",
        "X=df[[i for i in colonneselezionate if i!=target]]\n"
      ]
    },
    {
      "cell_type": "markdown",
      "metadata": {},
      "source": [
        "## Show the two dimensional scatter plots for all the predicting variables with respect to the target"
      ]
    },
    {
      "cell_type": "code",
      "execution_count": 170,
      "metadata": {},
      "outputs": [],
      "source": [
        "ncols=3\n",
        "import math\n",
        "nrows = math.ceil((df.shape[1]-1)/ncols)\n",
        "figwidth = ncols * 7\n",
        "figheigth = nrows*5"
      ]
    },
    {
      "cell_type": "code",
      "execution_count": 171,
      "metadata": {},
      "outputs": [
        {
          "data": {
            "image/png": "[encoded data removed]",
            "text/plain": [
              "<Figure size 2100x1000 with 6 Axes>"
            ]
          },
          "metadata": {},
          "output_type": "display_data"
        }
      ],
      "source": [
        "plt.figure(figsize=(figwidth,figheigth))\n",
        "for i,e in enumerate(X.columns):\n",
        "        plt.subplot(nrows,ncols,i+1)\n",
        "        plt.scatter(X[e],y)\n",
        "        plt.title(e)\n",
        "        plt.xlabel(e)\n",
        "        plt.ylabel(target)\n",
        "plt.show()\n"
      ]
    },
    {
      "cell_type": "markdown",
      "metadata": {},
      "source": [
        "### Show the *_p-values_* of the target with respect to the variables"
      ]
    },
    {
      "cell_type": "code",
      "execution_count": 172,
      "metadata": {},
      "outputs": [],
      "source": [
        "from sklearn.feature_selection import f_regression\n",
        "# Your code here\n",
        "features, p_value=f_regression(X,y)"
      ]
    },
    {
      "cell_type": "markdown",
      "metadata": {},
      "source": [
        "## Split the data into *train* and *test* and show the sizes of the two parts\n",
        "Here we set the `random_state` variable to make the experiment *repeatable*\n"
      ]
    },
    {
      "cell_type": "code",
      "execution_count": 173,
      "metadata": {},
      "outputs": [],
      "source": [
        "Xtrain,Xtest,ytrain,ytest=train_test_split(X,y,train_size= 2412 ,random_state=random_state)"
      ]
    },
    {
      "cell_type": "markdown",
      "metadata": {},
      "source": [
        "### Consider a reduced dataset containing the chosen variable and the target"
      ]
    },
    {
      "cell_type": "code",
      "execution_count": 201,
      "metadata": {},
      "outputs": [],
      "source": [
        "Xt=Xtrain[[\"income_hhsize_ratio\"]]\n",
        "Xtest_=Xtest[[\"income_hhsize_ratio\"]]"
      ]
    },
    {
      "cell_type": "markdown",
      "metadata": {},
      "source": [
        "### Fit the `linear_model` estimator on the training set and predict the target for the test set using the *fitted* estimator"
      ]
    },
    {
      "cell_type": "code",
      "execution_count": 203,
      "metadata": {},
      "outputs": [
        {
          "name": "stdout",
          "output_type": "stream",
          "text": [
            "[4.88023728 5.15586474 4.89388044 ... 5.10527966 5.15586474 5.24980111]\n"
          ]
        }
      ],
      "source": [
        "l=linear_model.LinearRegression()\n",
        "l.fit(Xt, ytrain)\n",
        "ypred=l.predict(Xtest_)\n",
        "print(ypred)"
      ]
    },
    {
      "cell_type": "markdown",
      "metadata": {},
      "source": [
        "#### Compute the regression coefficients and the quality measures\n",
        "Create a function to compute the F-statistic and p-value of the regression model"
      ]
    },
    {
      "cell_type": "code",
      "execution_count": null,
      "metadata": {},
      "outputs": [],
      "source": [
        "# Computation of F-statistic and p-value for the regression\n",
        "# http://facweb.cs.depaul.edu/sjost/csc423/documents/f-test-reg.htm\n"
      ]
    },
    {
      "cell_type": "markdown",
      "metadata": {},
      "source": [
        "#### Compute the statistical significance of the model"
      ]
    },
    {
      "cell_type": "code",
      "execution_count": null,
      "metadata": {},
      "outputs": [],
      "source": []
    },
    {
      "cell_type": "markdown",
      "metadata": {},
      "source": [
        "## Second experiment: compute the regression considering all the predicting variables"
      ]
    },
    {
      "cell_type": "markdown",
      "metadata": {},
      "source": [
        "### Now we use the entire data in `X_train` and `X_test` for fitting and predicting"
      ]
    },
    {
      "cell_type": "code",
      "execution_count": 199,
      "metadata": {},
      "outputs": [
        {
          "name": "stdout",
          "output_type": "stream",
          "text": [
            "[6.60486666 5.74918915 5.72672858 ... 6.41887666 5.33151699 6.12822425]\n"
          ]
        }
      ],
      "source": [
        "l=linear_model.LinearRegression()\n",
        "l.fit(Xtrain, ytrain)\n",
        "ypred=l.predict(Xtrain)\n",
        "print(ypred)"
      ]
    },
    {
      "cell_type": "markdown",
      "metadata": {},
      "source": [
        "### Fit, predict and show the results\n",
        "Now we see the *regression coefficients* resulting from the fitting. \n",
        "\n",
        "In particular, *positive coefficients* indicate that the target *increases* with the variable, *negative coefficients* indicate a *decreasing* trend.\n",
        "\n",
        "The absolute values of the coefficient cannot be considered directly a measure of importance, due to the possibly different orders of magnitude of the data in the different columns (observe above the outputs of `describe`)."
      ]
    },
    {
      "cell_type": "code",
      "execution_count": null,
      "metadata": {},
      "outputs": [],
      "source": []
    },
    {
      "cell_type": "markdown",
      "metadata": {},
      "source": [
        "#### Compute the statistical significance"
      ]
    },
    {
      "cell_type": "code",
      "execution_count": null,
      "metadata": {},
      "outputs": [],
      "source": []
    },
    {
      "cell_type": "markdown",
      "metadata": {},
      "source": [
        "#### Compute the quality measures"
      ]
    },
    {
      "cell_type": "code",
      "execution_count": null,
      "metadata": {},
      "outputs": [],
      "source": []
    },
    {
      "cell_type": "markdown",
      "metadata": {},
      "source": [
        "## Decision Tree Multivariate Regresson"
      ]
    },
    {
      "cell_type": "code",
      "execution_count": null,
      "metadata": {},
      "outputs": [],
      "source": [
        "# Create Decision Tree regression object\n",
        "from sklearn.tree import DecisionTreeRegressor"
      ]
    },
    {
      "cell_type": "markdown",
      "metadata": {},
      "source": [
        "#### Fit the tree with default hyperparameters, and find the maximum depth of the unconstrained tree"
      ]
    },
    {
      "cell_type": "code",
      "execution_count": null,
      "metadata": {},
      "outputs": [],
      "source": []
    },
    {
      "cell_type": "markdown",
      "metadata": {},
      "source": [
        "#### Find the optimal value of the hyperparameter `max_depth` with *cross-validation*\n",
        "The optimization searches for the *maximum tree depth* guaranteing the smallest mean squared error\n",
        "At the end, this operation returns also the *fitted best tree* `best_estimator_`"
      ]
    },
    {
      "cell_type": "code",
      "execution_count": null,
      "metadata": {},
      "outputs": [],
      "source": []
    },
    {
      "cell_type": "code",
      "execution_count": null,
      "metadata": {},
      "outputs": [],
      "source": []
    },
    {
      "cell_type": "markdown",
      "metadata": {},
      "source": [
        "#### Show the tree"
      ]
    },
    {
      "cell_type": "code",
      "execution_count": null,
      "metadata": {},
      "outputs": [],
      "source": [
        "from sklearn.tree import plot_tree\n",
        "from matplotlib.pyplot import figure\n",
        "# Your code here"
      ]
    },
    {
      "cell_type": "markdown",
      "metadata": {},
      "source": [
        "## Random Forest Multivariate Regresson\n",
        "Create a Random forest regressor and fit it on the complete dataset.\n",
        "\n",
        "For simplicity use the max_depth found in the Decision tree regressor to perform a cross validation and find the best depth for this model."
      ]
    },
    {
      "cell_type": "code",
      "execution_count": null,
      "metadata": {},
      "outputs": [],
      "source": []
    },
    {
      "cell_type": "code",
      "execution_count": null,
      "metadata": {},
      "outputs": [],
      "source": []
    },
    {
      "cell_type": "markdown",
      "metadata": {},
      "source": [
        "## Final observations\n",
        "### Linear regression\n",
        "The multivariate regression with all the predicting variables available with respect to the univariate regression has \n",
        "- lower RMSE \n",
        "- higher coefficient of determination \n",
        "- the p-value suggests the acceptance of both models\n",
        "### Decision Tree and Random Forest regression\n",
        "- Decistion Tree has an RMSE slightly higher than multivariate linear regression\n",
        "- Random Forest has an RMSE slightly lower than multivariate linear regression\n"
      ]
    },
    {
      "cell_type": "markdown",
      "metadata": {},
      "source": [
        "## Control questions\n",
        "1. observing the multi-variate experiment, what variable has the higher effect on the target?\n",
        "1. is there a variable having an almost negligible effect on the target?\n",
        "1. try to repeat the univariate experiment with the other two columns and comment the results"
      ]
    }
  ],
  "metadata": {
    "kernelspec": {
      "display_name": "Python 3.9.4 64-bit",
      "language": "python",
      "name": "python3"
    },
    "language_info": {
      "codemirror_mode": {
        "name": "ipython",
        "version": 3
      },
      "file_extension": ".py",
      "mimetype": "text/x-python",
      "name": "python",
      "nbconvert_exporter": "python",
      "pygments_lexer": "ipython3",
      "version": "3.9.4"
    },
    "vscode": {
      "interpreter": {
        "hash": "81794d4967e6c3204c66dcd87b604927b115b27c00565d3d43f05ba2f3a2cb0d"
      }
    }
  },
  "nbformat": 4,
  "nbformat_minor": 0
}
