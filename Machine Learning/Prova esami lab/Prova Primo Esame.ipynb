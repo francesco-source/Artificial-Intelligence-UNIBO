{
 "cells": [
  {
   "attachments": {},
   "cell_type": "markdown",
   "metadata": {},
   "source": [
    "# Esame del 27/01/2021"
   ]
  },
  {
   "cell_type": "code",
   "execution_count": 87,
   "metadata": {},
   "outputs": [],
   "source": [
    "import pandas as pd\n",
    "import numpy as np\n",
    "import seaborn as sns\n",
    "random_state = 42"
   ]
  },
  {
   "cell_type": "code",
   "execution_count": 88,
   "metadata": {},
   "outputs": [],
   "source": [
    "data = pd.read_csv(\"exam_2021_01_27.csv\",delimiter=\",\",names=[\"0\",\"1\",\"2\",\"3\",\"4\"])"
   ]
  },
  {
   "cell_type": "code",
   "execution_count": 89,
   "metadata": {},
   "outputs": [
    {
     "data": {
      "text/html": [
       "<div>\n",
       "<style scoped>\n",
       "    .dataframe tbody tr th:only-of-type {\n",
       "        vertical-align: middle;\n",
       "    }\n",
       "\n",
       "    .dataframe tbody tr th {\n",
       "        vertical-align: top;\n",
       "    }\n",
       "\n",
       "    .dataframe thead th {\n",
       "        text-align: right;\n",
       "    }\n",
       "</style>\n",
       "<table border=\"1\" class=\"dataframe\">\n",
       "  <thead>\n",
       "    <tr style=\"text-align: right;\">\n",
       "      <th></th>\n",
       "      <th>0</th>\n",
       "      <th>1</th>\n",
       "      <th>2</th>\n",
       "      <th>3</th>\n",
       "      <th>4</th>\n",
       "    </tr>\n",
       "  </thead>\n",
       "  <tbody>\n",
       "    <tr>\n",
       "      <th>0</th>\n",
       "      <td>5.1</td>\n",
       "      <td>3.5</td>\n",
       "      <td>a</td>\n",
       "      <td>NaN</td>\n",
       "      <td>0</td>\n",
       "    </tr>\n",
       "    <tr>\n",
       "      <th>1</th>\n",
       "      <td>4.9</td>\n",
       "      <td>3.0</td>\n",
       "      <td>a</td>\n",
       "      <td>NaN</td>\n",
       "      <td>0</td>\n",
       "    </tr>\n",
       "    <tr>\n",
       "      <th>2</th>\n",
       "      <td>NaN</td>\n",
       "      <td>3.2</td>\n",
       "      <td>a</td>\n",
       "      <td>NaN</td>\n",
       "      <td>0</td>\n",
       "    </tr>\n",
       "    <tr>\n",
       "      <th>3</th>\n",
       "      <td>4.6</td>\n",
       "      <td>NaN</td>\n",
       "      <td>a</td>\n",
       "      <td>0.2</td>\n",
       "      <td>0</td>\n",
       "    </tr>\n",
       "    <tr>\n",
       "      <th>4</th>\n",
       "      <td>5.0</td>\n",
       "      <td>3.6</td>\n",
       "      <td>a</td>\n",
       "      <td>0.2</td>\n",
       "      <td>0</td>\n",
       "    </tr>\n",
       "  </tbody>\n",
       "</table>\n",
       "</div>"
      ],
      "text/plain": [
       "     0    1  2    3  4\n",
       "0  5.1  3.5  a  NaN  0\n",
       "1  4.9  3.0  a  NaN  0\n",
       "2  NaN  3.2  a  NaN  0\n",
       "3  4.6  NaN  a  0.2  0\n",
       "4  5.0  3.6  a  0.2  0"
      ]
     },
     "execution_count": 89,
     "metadata": {},
     "output_type": "execute_result"
    }
   ],
   "source": [
    "data.head()"
   ]
  },
  {
   "cell_type": "code",
   "execution_count": 90,
   "metadata": {},
   "outputs": [
    {
     "data": {
      "text/html": [
       "<div>\n",
       "<style scoped>\n",
       "    .dataframe tbody tr th:only-of-type {\n",
       "        vertical-align: middle;\n",
       "    }\n",
       "\n",
       "    .dataframe tbody tr th {\n",
       "        vertical-align: top;\n",
       "    }\n",
       "\n",
       "    .dataframe thead th {\n",
       "        text-align: right;\n",
       "    }\n",
       "</style>\n",
       "<table border=\"1\" class=\"dataframe\">\n",
       "  <thead>\n",
       "    <tr style=\"text-align: right;\">\n",
       "      <th></th>\n",
       "      <th>0</th>\n",
       "      <th>1</th>\n",
       "      <th>3</th>\n",
       "      <th>4</th>\n",
       "    </tr>\n",
       "  </thead>\n",
       "  <tbody>\n",
       "    <tr>\n",
       "      <th>count</th>\n",
       "      <td>141.000000</td>\n",
       "      <td>140.000000</td>\n",
       "      <td>137.000000</td>\n",
       "      <td>150.000000</td>\n",
       "    </tr>\n",
       "    <tr>\n",
       "      <th>mean</th>\n",
       "      <td>5.897872</td>\n",
       "      <td>3.036429</td>\n",
       "      <td>1.290511</td>\n",
       "      <td>1.000000</td>\n",
       "    </tr>\n",
       "    <tr>\n",
       "      <th>std</th>\n",
       "      <td>0.820232</td>\n",
       "      <td>0.437654</td>\n",
       "      <td>0.733934</td>\n",
       "      <td>0.819232</td>\n",
       "    </tr>\n",
       "    <tr>\n",
       "      <th>min</th>\n",
       "      <td>4.300000</td>\n",
       "      <td>2.000000</td>\n",
       "      <td>0.100000</td>\n",
       "      <td>0.000000</td>\n",
       "    </tr>\n",
       "    <tr>\n",
       "      <th>25%</th>\n",
       "      <td>5.200000</td>\n",
       "      <td>2.800000</td>\n",
       "      <td>0.400000</td>\n",
       "      <td>0.000000</td>\n",
       "    </tr>\n",
       "    <tr>\n",
       "      <th>50%</th>\n",
       "      <td>5.800000</td>\n",
       "      <td>3.000000</td>\n",
       "      <td>1.400000</td>\n",
       "      <td>1.000000</td>\n",
       "    </tr>\n",
       "    <tr>\n",
       "      <th>75%</th>\n",
       "      <td>6.400000</td>\n",
       "      <td>3.300000</td>\n",
       "      <td>1.800000</td>\n",
       "      <td>2.000000</td>\n",
       "    </tr>\n",
       "    <tr>\n",
       "      <th>max</th>\n",
       "      <td>7.900000</td>\n",
       "      <td>4.400000</td>\n",
       "      <td>2.500000</td>\n",
       "      <td>2.000000</td>\n",
       "    </tr>\n",
       "  </tbody>\n",
       "</table>\n",
       "</div>"
      ],
      "text/plain": [
       "                0           1           3           4\n",
       "count  141.000000  140.000000  137.000000  150.000000\n",
       "mean     5.897872    3.036429    1.290511    1.000000\n",
       "std      0.820232    0.437654    0.733934    0.819232\n",
       "min      4.300000    2.000000    0.100000    0.000000\n",
       "25%      5.200000    2.800000    0.400000    0.000000\n",
       "50%      5.800000    3.000000    1.400000    1.000000\n",
       "75%      6.400000    3.300000    1.800000    2.000000\n",
       "max      7.900000    4.400000    2.500000    2.000000"
      ]
     },
     "execution_count": 90,
     "metadata": {},
     "output_type": "execute_result"
    }
   ],
   "source": [
    "data.describe()"
   ]
  },
  {
   "cell_type": "code",
   "execution_count": 91,
   "metadata": {},
   "outputs": [
    {
     "data": {
      "text/plain": [
       "(150, 5)"
      ]
     },
     "execution_count": 91,
     "metadata": {},
     "output_type": "execute_result"
    }
   ],
   "source": [
    "data.shape"
   ]
  },
  {
   "cell_type": "code",
   "execution_count": 92,
   "metadata": {},
   "outputs": [],
   "source": [
    "data.dropna(axis=0,inplace=True)"
   ]
  },
  {
   "cell_type": "code",
   "execution_count": 93,
   "metadata": {},
   "outputs": [],
   "source": [
    "from sklearn.preprocessing import OrdinalEncoder\n",
    "ordinal_enc = OrdinalEncoder()\n",
    "data[\"2\"] = ordinal_enc.fit_transform(data[\"2\"].values.reshape(-1,1))"
   ]
  },
  {
   "cell_type": "code",
   "execution_count": 94,
   "metadata": {},
   "outputs": [],
   "source": [
    "from sklearn.model_selection import train_test_split\n",
    "X = data.drop([\"4\"],axis = 1)\n",
    "y = data[\"4\"]\n",
    "X_train,X_test, y_train, y_test = train_test_split(X,y,train_size=0.7,random_state=random_state)\n"
   ]
  },
  {
   "cell_type": "code",
   "execution_count": 95,
   "metadata": {},
   "outputs": [],
   "source": [
    "from sklearn.tree import DecisionTreeClassifier\n",
    "from sklearn.model_selection import ParameterGrid, cross_val_score\n",
    "max_depth = 0\n",
    "criterions = [\"gini\",\"entropy\",\"log_loss\"]\n",
    "for criterion in criterions:\n",
    "    dtc = DecisionTreeClassifier(criterion=criterion)\n",
    "    y_pred = dtc.fit(X_train,y_train)\n",
    "    max_depth = dtc.get_depth() if dtc.get_depth()> max_depth else max_depth\n",
    "scores = []\n",
    "grid = ParameterGrid ({\"criterion\":criterions,\"max_depth\":range(1,max_depth+1)})\n",
    "for i in grid:\n",
    "    estimator = DecisionTreeClassifier(criterion = i.get(\"criterion\"),max_depth=i.get(\"max_depth\"),random_state=random_state)\n",
    "    scores.append(np.mean(cross_val_score(estimator,X_train,y_train,scoring = \"accuracy\",cv = 5)))\n",
    "best_parameters = list(grid)[np.argmax(scores)]"
   ]
  },
  {
   "cell_type": "code",
   "execution_count": 96,
   "metadata": {},
   "outputs": [
    {
     "name": "stdout",
     "output_type": "stream",
     "text": [
      "The accuracy on the test set is  94.59 %\n",
      "<sklearn.metrics._plot.confusion_matrix.ConfusionMatrixDisplay object at 0x000001E83B4C5DF0>\n"
     ]
    },
    {
     "data": {
      "image/png": "[encoded data removed]",
      "text/plain": [
       "<Figure size 640x480 with 2 Axes>"
      ]
     },
     "metadata": {},
     "output_type": "display_data"
    }
   ],
   "source": [
    "from sklearn.metrics import accuracy_score, confusion_matrix\n",
    "final_estimator = DecisionTreeClassifier(criterion = best_parameters.get(\"criterion\"),max_depth=best_parameters.get(\"max_depth\"),random_state=random_state)\n",
    "final_estimator.fit(X_train,y_train)\n",
    "y_pred = final_estimator.predict(X_test)\n",
    "accuracy = accuracy_score(y_test,y_pred)\n",
    "print(\"The accuracy on the test set is \",np.round(accuracy,4)*100,\"%\")\n",
    "confusion_matrix(y_test,y_pred,normalize=\"true\")\n",
    "from sklearn.metrics import ConfusionMatrixDisplay\n",
    "disp = ConfusionMatrixDisplay.from_estimator(final_estimator,X_test,y_test,normalize=\"true\")\n",
    "print(disp)"
   ]
  },
  {
   "cell_type": "code",
   "execution_count": 97,
   "metadata": {},
   "outputs": [
    {
     "name": "stdout",
     "output_type": "stream",
     "text": [
      "The accuracy on the test set is  94.59 %\n",
      "<sklearn.metrics._plot.confusion_matrix.ConfusionMatrixDisplay object at 0x000001E83AFCA940>\n"
     ]
    },
    {
     "data": {
      "image/png": "[encoded data removed]",
      "text/plain": [
       "<Figure size 640x480 with 2 Axes>"
      ]
     },
     "metadata": {},
     "output_type": "display_data"
    }
   ],
   "source": [
    "# lo provo a fare con la gridSearchCV\n",
    "from sklearn.model_selection import GridSearchCV\n",
    "dt = DecisionTreeClassifier(random_state=random_state)\n",
    "parameters = {\"criterion\":criterions,\"max_depth\":range(1,max_depth+1)}\n",
    "dt_grid_searccv = GridSearchCV(dt,param_grid=parameters,scoring=\"accuracy\")\n",
    "dt_grid_searccv.fit(X_train,y_train)\n",
    "dt_best = dt_grid_searccv.best_estimator_\n",
    "\n",
    "y_pred = dt_best.predict(X_test)\n",
    "accuracy = accuracy_score(y_test,y_pred)\n",
    "print(\"The accuracy on the test set is \",np.round(accuracy,4)*100,\"%\")\n",
    "confusion_matrix(y_test,y_pred,normalize=\"true\")\n",
    "from sklearn.metrics import ConfusionMatrixDisplay\n",
    "disp = ConfusionMatrixDisplay.from_estimator(final_estimator,X_test,y_test,normalize=\"true\")\n",
    "print(disp)"
   ]
  },
  {
   "cell_type": "code",
   "execution_count": 98,
   "metadata": {},
   "outputs": [],
   "source": [
    "from sklearn.ensemble import RandomForestClassifier\n",
    "grid = ParameterGrid({'max_depth':list(range(1,8)),'n_estimators':list(range(10,100,10))})\n",
    "scores = []\n",
    "for i in grid:\n",
    "    estimator = RandomForestClassifier(n_estimators=i.get(\"n_estimators\"),max_depth=i.get(\"max_depth\"),random_state=random_state)\n",
    "    scores.append(np.mean(cross_val_score(estimator,X_train,y_train,scoring = \"accuracy\",cv = 2)))\n",
    "best_parameters = list(grid)[np.argmax(scores)]\n"
   ]
  },
  {
   "cell_type": "code",
   "execution_count": 99,
   "metadata": {},
   "outputs": [
    {
     "name": "stdout",
     "output_type": "stream",
     "text": [
      "The accuracy on the test set is  94.59 %\n",
      "<sklearn.metrics._plot.confusion_matrix.ConfusionMatrixDisplay object at 0x000001E83B5B72E0>\n"
     ]
    },
    {
     "data": {
      "image/png": "[encoded data removed]",
      "text/plain": [
       "<Figure size 640x480 with 2 Axes>"
      ]
     },
     "metadata": {},
     "output_type": "display_data"
    }
   ],
   "source": [
    "from sklearn.metrics import accuracy_score, confusion_matrix\n",
    "final_estimator = RandomForestClassifier(n_estimators=best_parameters.get(\"n_estimators\"),max_depth=best_parameters.get(\"max_depth\"),random_state=random_state)\n",
    "final_estimator.fit(X_train,y_train)\n",
    "y_pred = final_estimator.predict(X_test)\n",
    "accuracy = accuracy_score(y_test,y_pred)\n",
    "print(\"The accuracy on the test set is \",np.round(accuracy,4)*100,\"%\")\n",
    "confusion_matrix(y_test,y_pred,normalize=\"true\")\n",
    "from sklearn.metrics import ConfusionMatrixDisplay\n",
    "disp = ConfusionMatrixDisplay.from_estimator(final_estimator,X_test,y_test,normalize=\"true\");\n",
    "print(disp);"
   ]
  },
  {
   "cell_type": "code",
   "execution_count": 100,
   "metadata": {},
   "outputs": [
    {
     "name": "stdout",
     "output_type": "stream",
     "text": [
      "The accuracy on the test set is  94.59 %\n",
      "<sklearn.metrics._plot.confusion_matrix.ConfusionMatrixDisplay object at 0x000001E8392D2280>\n"
     ]
    },
    {
     "data": {
      "image/png": "[encoded data removed]",
      "text/plain": [
       "<Figure size 640x480 with 2 Axes>"
      ]
     },
     "metadata": {},
     "output_type": "display_data"
    }
   ],
   "source": [
    "# lo provo a fare con la gridSearchCV\n",
    "from sklearn.model_selection import GridSearchCV\n",
    "dt = RandomForestClassifier(random_state=random_state)\n",
    "parameters = {'max_depth':list(range(1,8)),'n_estimators':list(range(10,100,10))}\n",
    "dt_grid_searccv = GridSearchCV(dt,param_grid=parameters,scoring=\"accuracy\")\n",
    "dt_grid_searccv.fit(X_train,y_train)\n",
    "dt_best = dt_grid_searccv.best_estimator_\n",
    "\n",
    "y_pred = dt_best.predict(X_test)\n",
    "accuracy = accuracy_score(y_test,y_pred)\n",
    "print(\"The accuracy on the test set is \",np.round(accuracy,4)*100,\"%\")\n",
    "confusion_matrix(y_test,y_pred,normalize=\"true\")\n",
    "from sklearn.metrics import ConfusionMatrixDisplay\n",
    "disp = ConfusionMatrixDisplay.from_estimator(final_estimator,X_test,y_test,normalize=\"true\")\n",
    "print(disp)"
   ]
  },
  {
   "cell_type": "code",
   "execution_count": 105,
   "metadata": {},
   "outputs": [
    {
     "name": "stdout",
     "output_type": "stream",
     "text": [
      "The accuracy on the test set is  89.19 %\n",
      "<sklearn.metrics._plot.confusion_matrix.ConfusionMatrixDisplay object at 0x000001E836D858B0>\n"
     ]
    },
    {
     "data": {
      "image/png": "[encoded data removed]",
      "text/plain": [
       "<Figure size 640x480 with 2 Axes>"
      ]
     },
     "metadata": {},
     "output_type": "display_data"
    }
   ],
   "source": [
    "#direttamente con grid search cv\n",
    "from sklearn.neighbors import KNeighborsClassifier\n",
    "knc = KNeighborsClassifier()\n",
    "parametes ={\"n_neighbors\":list(range(1,10))}\n",
    "knc_grid_cv = GridSearchCV(knc,param_grid=parametes,scoring=\"accuracy\")\n",
    "knc_grid_cv.fit(X_train,y_train)\n",
    "knc_best = knc_grid_cv.best_estimator_\n",
    "\n",
    "y_pred = knc_best.predict(X_test)\n",
    "accuracy = accuracy_score(y_test,y_pred)\n",
    "print(\"The accuracy on the test set is \",np.round(accuracy,4)*100,\"%\")\n",
    "confusion_matrix(y_test,y_pred,normalize=\"true\")\n",
    "from sklearn.metrics import ConfusionMatrixDisplay\n",
    "disp = ConfusionMatrixDisplay.from_estimator(final_estimator,X_test,y_test,normalize=\"true\")\n",
    "print(disp)"
   ]
  }
 ],
 "metadata": {
  "kernelspec": {
   "display_name": "Python 3",
   "language": "python",
   "name": "python3"
  },
  "language_info": {
   "codemirror_mode": {
    "name": "ipython",
    "version": 3
   },
   "file_extension": ".py",
   "mimetype": "text/x-python",
   "name": "python",
   "nbconvert_exporter": "python",
   "pygments_lexer": "ipython3",
   "version": "3.9.4 (tags/v3.9.4:1f2e308, Apr  6 2021, 13:40:21) [MSC v.1928 64 bit (AMD64)]"
  },
  "orig_nbformat": 4,
  "vscode": {
   "interpreter": {
    "hash": "81794d4967e6c3204c66dcd87b604927b115b27c00565d3d43f05ba2f3a2cb0d"
   }
  }
 },
 "nbformat": 4,
 "nbformat_minor": 2
}
