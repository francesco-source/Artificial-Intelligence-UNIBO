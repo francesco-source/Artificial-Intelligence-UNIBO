{
 "cells": [
  {
   "cell_type": "markdown",
   "metadata": {},
   "source": [
    "# Lecture 4"
   ]
  },
  {
   "cell_type": "code",
   "execution_count": 69,
   "metadata": {},
   "outputs": [
    {
     "name": "stdout",
     "output_type": "stream",
     "text": [
      "[10, 100, 20, 100, 30]\n"
     ]
    }
   ],
   "source": [
    "L=[10,0,20,0,30]\n",
    "for e in range(len(L)):\n",
    "    if L[e]==0:\n",
    "        L[e]=100\n",
    "print(L)"
   ]
  },
  {
   "cell_type": "code",
   "execution_count": 70,
   "metadata": {},
   "outputs": [
    {
     "data": {
      "text/plain": [
       "'    if i==len(L):\\n        return False\\n    else:\\n        return True'"
      ]
     },
     "execution_count": 70,
     "metadata": {},
     "output_type": "execute_result"
    }
   ],
   "source": [
    "def findz(L):\n",
    "    for i in L:\n",
    "        if i==0:\n",
    "            return True\n",
    "    return False\n",
    "\n",
    "def findzw(L):\n",
    "    i=0\n",
    "    while i<len(L) and L[i]!=0:\n",
    "        ++i\n",
    "    return i!=len(L)\n",
    "'''    if i==len(L):\n",
    "        return False\n",
    "    else:\n",
    "        return True'''\n",
    "        "
   ]
  },
  {
   "cell_type": "markdown",
   "metadata": {},
   "source": [
    "### Aliasing"
   ]
  },
  {
   "cell_type": "code",
   "execution_count": 71,
   "metadata": {},
   "outputs": [
    {
     "name": "stdout",
     "output_type": "stream",
     "text": [
      "[100, 20, 30]\n"
     ]
    }
   ],
   "source": [
    "L=[10,20,30]\n",
    "V=L\n",
    "L[0]=100\n",
    "print(V)"
   ]
  },
  {
   "cell_type": "markdown",
   "metadata": {},
   "source": [
    "Side effects"
   ]
  },
  {
   "cell_type": "code",
   "execution_count": 72,
   "metadata": {},
   "outputs": [
    {
     "name": "stdout",
     "output_type": "stream",
     "text": [
      "(10, 20, 30) (100, (10, 20, 30), 300) [10, 1000, 30] [100, [10, 1000, 30], 300]\n"
     ]
    }
   ],
   "source": [
    "T=(10,20,30)\n",
    "R=(100,T,300)\n",
    "L=[10,20,30]\n",
    "W=[100,L,300]\n",
    "L[1]=1000\n",
    "print(T,R,L,W)"
   ]
  },
  {
   "cell_type": "markdown",
   "metadata": {},
   "source": [
    "### Deleting an element"
   ]
  },
  {
   "cell_type": "code",
   "execution_count": 73,
   "metadata": {},
   "outputs": [
    {
     "name": "stdout",
     "output_type": "stream",
     "text": [
      "[10, 30] 10 30\n"
     ]
    }
   ],
   "source": [
    "L=[10,20,30]\n",
    "del L[1]\n",
    "print(L,L[0],L[1])"
   ]
  },
  {
   "cell_type": "code",
   "execution_count": 74,
   "metadata": {},
   "outputs": [
    {
     "name": "stdout",
     "output_type": "stream",
     "text": [
      "[10, 20, 30, 40, 10]\n"
     ]
    }
   ],
   "source": [
    "L=[10,20,30,0,0,40,0,10,0,0]\n",
    "#for i in range(len(L)):\n",
    "#    if L[i]==0:\n",
    "#       del L[i]\n",
    "#never use for on a list if their lenght is modified in the for body\n",
    "i=0\n",
    "while i<len(L):\n",
    "    if L[i]==0:\n",
    "        del L[i]\n",
    "    else:\n",
    "        i+=1\n",
    "        \n",
    "print(L)\n"
   ]
  },
  {
   "cell_type": "markdown",
   "metadata": {},
   "source": [
    "Do not use for when there are side effects inside."
   ]
  },
  {
   "cell_type": "markdown",
   "metadata": {},
   "source": [
    "### Adding element in a list"
   ]
  },
  {
   "cell_type": "code",
   "execution_count": 75,
   "metadata": {},
   "outputs": [
    {
     "name": "stdout",
     "output_type": "stream",
     "text": [
      "[1, 10, 20, 30, 40, 50, 4, 5, 6]\n",
      "[1, 's', 's', 10, 20, 30, 40, 50, 4, 5, 6]\n",
      "[5, 1, 2, 4, 30]\n",
      "False [1, 5, 6, 3] [1, [5, 6], 3]\n"
     ]
    }
   ],
   "source": [
    "L=[1,2,3,4,5,6]\n",
    "L[1:3]=[10,20,30,40,50]\n",
    "print(L)\n",
    "L[1:1]=[\"s\",\"s\"]\n",
    "print(L)\n",
    "L=[1,2,3]\n",
    "L[-1:]=[4]\n",
    "L[0:0]=[5]\n",
    "L[len(L):]=[30]\n",
    "print(L)\n",
    "L=[1,2,3]\n",
    "LL=[1,2,3]\n",
    "L[1:2]=[5,6]\n",
    "LL[1]=[5,6]\n",
    "print(LL==L,L,LL)"
   ]
  },
  {
   "cell_type": "code",
   "execution_count": 76,
   "metadata": {},
   "outputs": [
    {
     "name": "stdout",
     "output_type": "stream",
     "text": [
      "[1, 2, 3, 10]\n",
      "[1, 2, 200, 3, 10]\n",
      "2501410083456\n",
      "[1, 2, 200, 3, 10, 100, 200]\n",
      "2501410083456\n",
      "2499960393280\n",
      "2499960393280\n",
      "[]\n"
     ]
    }
   ],
   "source": [
    "L=[1,2,3]\n",
    "L.append(10)\n",
    "print(L)\n",
    "L.insert(2,200)\n",
    "print(L)\n",
    "print(id(L))\n",
    "L.extend([100,200])\n",
    "print(L)\n",
    "#with extend it doesent change the id\n",
    "print(id(L))\n",
    "L=L+[100,200]\n",
    "print(id(L))\n",
    "L+=[100,200]\n",
    "#operation is done in place, evaluated only once.\n",
    "print(id(L))\n",
    "#every operation creates a new object\n",
    "L.clear()\n",
    "print(L)\n",
    "#each of this methods return None\n"
   ]
  },
  {
   "cell_type": "code",
   "execution_count": 77,
   "metadata": {},
   "outputs": [
    {
     "name": "stdout",
     "output_type": "stream",
     "text": [
      "[10, 10]\n"
     ]
    },
    {
     "ename": "KeyboardInterrupt",
     "evalue": "",
     "output_type": "error",
     "traceback": [
      "\u001b[1;31m---------------------------------------------------------------------------\u001b[0m",
      "\u001b[1;31mKeyboardInterrupt\u001b[0m                         Traceback (most recent call last)",
      "Cell \u001b[1;32mIn [77], line 8\u001b[0m\n\u001b[0;32m      6\u001b[0m L\u001b[39m=\u001b[39m[\u001b[39m10\u001b[39m]\n\u001b[0;32m      7\u001b[0m \u001b[39mfor\u001b[39;00m i \u001b[39min\u001b[39;00m L:\n\u001b[1;32m----> 8\u001b[0m     L\u001b[39m.\u001b[39mappend(i)\n\u001b[0;32m      9\u001b[0m \u001b[39mprint\u001b[39m(L)\n",
      "\u001b[1;31mKeyboardInterrupt\u001b[0m: "
     ]
    }
   ],
   "source": [
    "L=[10]\n",
    "for i in L:\n",
    "    L=L+[i]\n",
    "print(L)\n",
    "#do not use the for on a list\n",
    "L=[10]\n",
    "for i in L:\n",
    "    L.append(i)\n",
    "print(L)\n",
    "#this is an infinite loop\n",
    "#SO don't use for on a list"
   ]
  },
  {
   "cell_type": "markdown",
   "metadata": {},
   "source": [
    "### Arguemented assignement"
   ]
  },
  {
   "cell_type": "code",
   "execution_count": null,
   "metadata": {},
   "outputs": [
    {
     "name": "stdout",
     "output_type": "stream",
     "text": [
      "[1, 2, 1, 2]\n"
     ]
    }
   ],
   "source": [
    "i=1\n",
    "i=i+1\n",
    "i+=1\n",
    "count=2\n",
    "count *=1#left hand side is evaluated first\n",
    "count -=1#left hand side is evaluated first\n",
    "count /=1#left hand side is evaluated first\n",
    "count //=1#left hand side is evaluated first\n",
    "count %=1#left hand side is evaluated first\n",
    "count **=1#left hand side is evaluated first\n",
    "L=[1,2]\n",
    "L*=2\n",
    "print(L)"
   ]
  },
  {
   "cell_type": "code",
   "execution_count": null,
   "metadata": {},
   "outputs": [
    {
     "name": "stdout",
     "output_type": "stream",
     "text": [
      "i m f\n",
      "[1, 12, 3]\n",
      "i m f\n",
      "i m f\n",
      "[1, 12, 3]\n"
     ]
    }
   ],
   "source": [
    "def f(x):\n",
    "    print(\"i m f\")\n",
    "    return x\n",
    "L=[1,2,3]\n",
    "L[f(1)]+=10\n",
    "print(L)\n",
    "L=[1,2,3]\n",
    "L[f(1)]=L[f(1)]+10\n",
    "print(L)"
   ]
  },
  {
   "cell_type": "code",
   "execution_count": 80,
   "metadata": {},
   "outputs": [
    {
     "name": "stdout",
     "output_type": "stream",
     "text": [
      "['a', 'o']\n",
      "['c', 'c', 'i', 'a', 'o']\n",
      "['a', 'c', 'c', 'i', 'o']\n"
     ]
    }
   ],
   "source": [
    "L=list(\"cciao\")\n",
    "#L.remove(\"c\")\n",
    "a=(\"c\",\"i\")\n",
    "n=[]\n",
    "for i in L:\n",
    "    if i not in a:\n",
    "       n+=[i] \n",
    "print(n)\n",
    "print(L.copy())\n",
    "L.sort()\n",
    "\n",
    "print(L)"
   ]
  },
  {
   "cell_type": "code",
   "execution_count": 96,
   "metadata": {},
   "outputs": [
    {
     "name": "stdout",
     "output_type": "stream",
     "text": [
      "100\n",
      "[[1000]]\n"
     ]
    }
   ],
   "source": [
    "b=20\n",
    "def f(a):\n",
    "    #no not ever use global if its not essential. \n",
    "    global b\n",
    "    a=10\n",
    "    b=100\n",
    "    return None\n",
    "f(10)\n",
    "print(b)\n",
    "b=[10]\n",
    "def F(a):\n",
    "    a[0]=[1000]\n",
    "    return None\n",
    "F(b)\n",
    "print(b)\n",
    "\n",
    "\n",
    "    "
   ]
  },
  {
   "cell_type": "code",
   "execution_count": 118,
   "metadata": {},
   "outputs": [
    {
     "name": "stdout",
     "output_type": "stream",
     "text": [
      "[0, 2, 4, 6, 8, 10, 12, 14, 16, 18, 20, 22, 24, 26, 28, 30, 32, 34, 36, 38, 40, 42, 44, 46, 48, 50, 52, 54, 56, 58, 60, 62, 64, 66, 68, 70, 72, 74, 76, 78, 80, 82, 84, 86, 88, 90, 92, 94, 96, 98, 100, 102, 104, 106, 108, 110, 112, 114, 116, 118, 120, 122, 124, 126, 128, 130, 132, 134, 136, 138, 140, 142, 144, 146, 148, 150, 152, 154, 156, 158, 160, 162, 164, 166, 168, 170, 172, 174, 176, 178, 180, 182, 184, 186, 188, 190, 192, 194, 196, 198, 200]\n",
      "[0, 2, 4, 6, 8, 10, 12, 14, 16, 18, 20, 22, 24, 26, 28, 30, 32, 34, 36, 38, 40, 42, 44, 46, 48, 50, 52, 54, 56, 58, 60, 62, 64, 66, 68, 70, 72, 74, 76, 78, 80, 82, 84, 86, 88, 90, 92, 94, 96, 98, 100, 102, 104, 106, 108, 110, 112, 114, 116, 118, 120, 122, 124, 126, 128, 130, 132, 134, 136, 138, 140, 142, 144, 146, 148, 150, 152, 154, 156, 158, 160, 162, 164, 166, 168, 170, 172, 174, 176, 178, 180, 182, 184, 186, 188, 190, 192, 194, 196, 198, 200]\n",
      "[0, 2, 4, 6, 8, 10, 12, 14, 16, 18, 20, 22, 24, 26, 28, 30, 32, 34, 36, 38, 40, 42, 44, 46, 48, 50, 52, 54, 56, 58, 60, 62, 64, 66, 68, 70, 72, 74, 76, 78, 80, 82, 84, 86, 88, 90, 92, 94, 96, 98, 100, 102, 104, 106, 108, 110, 112, 114, 116, 118, 120, 122, 124, 126, 128, 130, 132, 134, 136, 138, 140, 142, 144, 146, 148, 150, 152, 154, 156, 158, 160, 162, 164, 166, 168, 170, 172, 174, 176, 178, 180, 182, 184, 186, 188, 190, 192, 194, 196, 198, 200]\n",
      "[[], [0], [0], [0, 2], [0, 2], [0, 2, 4], [0, 2, 4], [0, 2, 4, 6], [0, 2, 4, 6], [0, 2, 4, 6, 8], [0, 2, 4, 6, 8], [0, 2, 4, 6, 8, 10], [0, 2, 4, 6, 8, 10], [0, 2, 4, 6, 8, 10, 12], [0, 2, 4, 6, 8, 10, 12], [0, 2, 4, 6, 8, 10, 12, 14], [0, 2, 4, 6, 8, 10, 12, 14], [0, 2, 4, 6, 8, 10, 12, 14, 16], [0, 2, 4, 6, 8, 10, 12, 14, 16], [0, 2, 4, 6, 8, 10, 12, 14, 16, 18]]\n",
      "10*****************20\n",
      "24\n",
      "ok\n",
      "ok\n",
      "done\n",
      "ok\n",
      "ok\n",
      "done\n"
     ]
    },
    {
     "data": {
      "text/plain": [
       "True"
      ]
     },
     "execution_count": 118,
     "metadata": {},
     "output_type": "execute_result"
    }
   ],
   "source": [
    "doubles=[]\n",
    "for i in range(0,101):\n",
    "    doubles.append(2*i)\n",
    "print(doubles)\n",
    "double=[2*i for i in range(0,101)]\n",
    "print(double)\n",
    "even=[i for i in double if i%2==0]\n",
    "print(even)\n",
    "even=[ i for i in range(20)]\n",
    "LL=[]\n",
    "for i in range(20):\n",
    "    W=[]\n",
    "    for j in range(i):\n",
    "        W.append(j)\n",
    "    LL.append(W)\n",
    "L=[[j for j in range(i) if j%2==0] for i in range(20)]\n",
    "print(L)\n",
    "print(10,20,sep=\"*****************\")\n",
    "def fact(n):\n",
    "    if n==0:\n",
    "        return 1\n",
    "    return (n)*fact(n-1)\n",
    "print(fact(4))\n",
    "def first(n):\n",
    "    for i in range(n):\n",
    "        print(\"ok\")\n",
    "    print(\"done\")\n",
    "first(2)\n",
    "def second(n):\n",
    "    if n==0:\n",
    "        print(\"done\")\n",
    "    else:\n",
    "        print(\"ok\")\n",
    "        second(n-1)\n",
    "second(2)\n",
    "#palindromic \n",
    "def pal_s(S):\n",
    "    return S==S[::-1]\n",
    "def pal(S):\n",
    "    if len(S)<=1:\n",
    "        return True\n",
    "    if S[0]==S[-1]:\n",
    "       return pal(S[1:-1])\n",
    "    else:\n",
    "        return False\n",
    "    \n",
    "\n",
    "pal_s(\"AnnA\")"
   ]
  }
 ],
 "metadata": {
  "kernelspec": {
   "display_name": "Python 3.9.4 64-bit",
   "language": "python",
   "name": "python3"
  },
  "language_info": {
   "codemirror_mode": {
    "name": "ipython",
    "version": 3
   },
   "file_extension": ".py",
   "mimetype": "text/x-python",
   "name": "python",
   "nbconvert_exporter": "python",
   "pygments_lexer": "ipython3",
   "version": "3.9.4"
  },
  "orig_nbformat": 4,
  "vscode": {
   "interpreter": {
    "hash": "81794d4967e6c3204c66dcd87b604927b115b27c00565d3d43f05ba2f3a2cb0d"
   }
  }
 },
 "nbformat": 4,
 "nbformat_minor": 2
}
