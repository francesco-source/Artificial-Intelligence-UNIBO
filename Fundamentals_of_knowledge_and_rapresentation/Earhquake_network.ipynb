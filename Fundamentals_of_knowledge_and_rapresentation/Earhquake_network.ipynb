{
 "cells": [
  {
   "cell_type": "markdown",
   "metadata": {},
   "source": [
    "# Eatrhquake network"
   ]
  },
  {
   "cell_type": "code",
   "execution_count": 2,
   "metadata": {},
   "outputs": [
    {
     "name": "stdout",
     "output_type": "stream",
     "text": [
      "CPD of Burglary\n",
      "+-------------+-------+\n",
      "| Burglary(0) | 0.999 |\n",
      "+-------------+-------+\n",
      "| Burglary(1) | 0.001 |\n",
      "+-------------+-------+\n",
      "CPD of Earthquake\n",
      "+---------------+-------+\n",
      "| Earthquake(0) | 0.998 |\n",
      "+---------------+-------+\n",
      "| Earthquake(1) | 0.002 |\n",
      "+---------------+-------+\n",
      "CPD of Alarm\n",
      "+------------+---------------+---------------+---------------+---------------+\n",
      "| Burglary   | Burglary(0)   | Burglary(0)   | Burglary(1)   | Burglary(1)   |\n",
      "+------------+---------------+---------------+---------------+---------------+\n",
      "| Earthquake | Earthquake(0) | Earthquake(1) | Earthquake(0) | Earthquake(1) |\n",
      "+------------+---------------+---------------+---------------+---------------+\n",
      "| Alarm(0)   | 0.999         | 0.71          | 0.06          | 0.05          |\n",
      "+------------+---------------+---------------+---------------+---------------+\n",
      "| Alarm(1)   | 0.001         | 0.29          | 0.94          | 0.95          |\n",
      "+------------+---------------+---------------+---------------+---------------+\n",
      "CPD of JohnCalls\n",
      "+--------------+----------+----------+\n",
      "| Alarm        | Alarm(0) | Alarm(1) |\n",
      "+--------------+----------+----------+\n",
      "| JohnCalls(0) | 0.95     | 0.1      |\n",
      "+--------------+----------+----------+\n",
      "| JohnCalls(1) | 0.05     | 0.9      |\n",
      "+--------------+----------+----------+\n",
      "CPD of MaryCalls\n",
      "+--------------+----------+----------+\n",
      "| Alarm        | Alarm(0) | Alarm(1) |\n",
      "+--------------+----------+----------+\n",
      "| MaryCalls(0) | 0.1      | 0.7      |\n",
      "+--------------+----------+----------+\n",
      "| MaryCalls(1) | 0.9      | 0.3      |\n",
      "+--------------+----------+----------+\n"
     ]
    }
   ],
   "source": [
    "from pgmpy.models import BayesianNetwork\n",
    "from pgmpy.inference import VariableElimination\n",
    "from pgmpy.factors.discrete import TabularCPD\n",
    "alarm_model=BayesianNetwork([\n",
    "      (\"Burglary\", \"Alarm\"),\n",
    "        (\"Earthquake\", \"Alarm\"),\n",
    "        (\"Alarm\", \"JohnCalls\"),\n",
    "        (\"Alarm\", \"MaryCalls\"),\n",
    "    \n",
    "])\n",
    "cpd_burglary = TabularCPD(\n",
    "    variable=\"Burglary\", variable_card=2, values=[[0.999], [0.001]]\n",
    ")\n",
    "cpd_earthquake = TabularCPD(\n",
    "    variable=\"Earthquake\", variable_card=2, values=[[0.998], [0.002]]\n",
    ")\n",
    "cpd_alarm = TabularCPD(\n",
    "    variable=\"Alarm\",\n",
    "    variable_card=2,\n",
    "    values=[[0.999, 0.71, 0.06, 0.05], [0.001, 0.29, 0.94, 0.95]],\n",
    "    evidence=[\"Burglary\", \"Earthquake\"],\n",
    "    evidence_card=[2, 2],\n",
    ")\n",
    "cpd_johncalls = TabularCPD(\n",
    "    variable=\"JohnCalls\",\n",
    "    variable_card=2,\n",
    "    values=[[0.95, 0.1], [0.05, 0.9]],\n",
    "    evidence=[\"Alarm\"],\n",
    "    evidence_card=[2],\n",
    ")\n",
    "cpd_marycalls = TabularCPD(\n",
    "    variable=\"MaryCalls\",\n",
    "    variable_card=2,\n",
    "    values=[[0.1, 0.7], [0.9, 0.3]],\n",
    "    evidence=[\"Alarm\"],\n",
    "    evidence_card=[2],\n",
    ")\n",
    "alarm_model.add_cpds(\n",
    "    cpd_burglary, cpd_earthquake, cpd_alarm, cpd_johncalls, cpd_marycalls\n",
    ")\n",
    "alarm_model.check_model()\n",
    "alarm_model.nodes()\n",
    "alarm_model.edges()\n",
    "alarm_model.local_independencies(\"Burglary\")\n",
    "alarm_model.get_independencies()\n",
    "for cpd in alarm_model.get_cpds():\n",
    "    print(\"CPD of {variable}\".format(variable=cpd.variable))\n",
    "    print(cpd)\n"
   ]
  }
 ],
 "metadata": {
  "kernelspec": {
   "display_name": "Python 3.9.4 64-bit",
   "language": "python",
   "name": "python3"
  },
  "language_info": {
   "codemirror_mode": {
    "name": "ipython",
    "version": 3
   },
   "file_extension": ".py",
   "mimetype": "text/x-python",
   "name": "python",
   "nbconvert_exporter": "python",
   "pygments_lexer": "ipython3",
   "version": "3.9.4"
  },
  "orig_nbformat": 4,
  "vscode": {
   "interpreter": {
    "hash": "81794d4967e6c3204c66dcd87b604927b115b27c00565d3d43f05ba2f3a2cb0d"
   }
  }
 },
 "nbformat": 4,
 "nbformat_minor": 2
}
