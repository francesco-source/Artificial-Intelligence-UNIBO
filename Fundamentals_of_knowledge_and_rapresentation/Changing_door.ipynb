{
 "cells": [
  {
   "cell_type": "markdown",
   "metadata": {},
   "source": [
    "# Monty Hall Problem"
   ]
  },
  {
   "cell_type": "code",
   "execution_count": 1,
   "metadata": {},
   "outputs": [
    {
     "name": "stderr",
     "output_type": "stream",
     "text": [
      "c:\\Python39\\lib\\site-packages\\tqdm\\auto.py:22: TqdmWarning: IProgress not found. Please update jupyter and ipywidgets. See https://ipywidgets.readthedocs.io/en/stable/user_install.html\n",
      "  from .autonotebook import tqdm as notebook_tqdm\n"
     ]
    },
    {
     "data": {
      "text/plain": [
       "[<TabularCPD representing P(C:3) at 0x26edc2afe80>,\n",
       " <TabularCPD representing P(P:3) at 0x26edc2a0e20>,\n",
       " <TabularCPD representing P(H:3 | C:3, P:3) at 0x26eb8177a30>]"
      ]
     },
     "execution_count": 1,
     "metadata": {},
     "output_type": "execute_result"
    }
   ],
   "source": [
    "from pgmpy.models import BayesianNetwork\n",
    "from pgmpy.factors.discrete import TabularCPD\n",
    "\n",
    "\n",
    "# Defining the network structure\n",
    "model = BayesianNetwork([(\"C\", \"H\"), (\"P\", \"H\")])\n",
    "\n",
    "# Defining the CPDs:\n",
    "cpd_c = TabularCPD(\"C\", 3, [[0.33], [0.33], [0.33]])\n",
    "cpd_p = TabularCPD(\"P\", 3, [[0.33], [0.33], [0.33]])\n",
    "cpd_h = TabularCPD(\n",
    "    \"H\",\n",
    "    3,\n",
    "    [\n",
    "        [0, 0, 0, 0, 0.5, 1, 0, 1, 0.5],\n",
    "        [0.5, 0, 1, 0, 0, 0, 1, 0, 0.5],\n",
    "        [0.5, 1, 0, 1, 0.5, 0, 0, 0, 0],\n",
    "    ],\n",
    "    evidence=[\"C\", \"P\"],\n",
    "    evidence_card=[3, 3],\n",
    ")\n",
    "\n",
    "# Associating the CPDs with the network structure.\n",
    "model.add_cpds(cpd_c, cpd_p, cpd_h)\n",
    "\n",
    "# Some other methods\n",
    "model.get_cpds()\n"
   ]
  },
  {
   "cell_type": "code",
   "execution_count": 3,
   "metadata": {},
   "outputs": [
    {
     "name": "stderr",
     "output_type": "stream",
     "text": [
      "Finding Elimination Order: : : 0it [00:00, ?it/s]\n",
      "0it [00:00, ?it/s]"
     ]
    },
    {
     "name": "stdout",
     "output_type": "stream",
     "text": [
      "<pgmpy.inference.ExactInference.VariableElimination object at 0x0000026EB81774F0>\n"
     ]
    },
    {
     "name": "stderr",
     "output_type": "stream",
     "text": [
      "\n"
     ]
    }
   ],
   "source": [
    "from pgmpy.inference import VariableElimination\n",
    "\n",
    "infer = VariableElimination(model)\n",
    "posterior_p = infer.query([\"P\"], evidence={\"C\": 0, \"H\": 2})\n",
    "print(posterior_p)"
   ]
  }
 ],
 "metadata": {
  "kernelspec": {
   "display_name": "Python 3.9.4 64-bit",
   "language": "python",
   "name": "python3"
  },
  "language_info": {
   "codemirror_mode": {
    "name": "ipython",
    "version": 3
   },
   "file_extension": ".py",
   "mimetype": "text/x-python",
   "name": "python",
   "nbconvert_exporter": "python",
   "pygments_lexer": "ipython3",
   "version": "3.9.4"
  },
  "orig_nbformat": 4,
  "vscode": {
   "interpreter": {
    "hash": "81794d4967e6c3204c66dcd87b604927b115b27c00565d3d43f05ba2f3a2cb0d"
   }
  }
 },
 "nbformat": 4,
 "nbformat_minor": 2
}
