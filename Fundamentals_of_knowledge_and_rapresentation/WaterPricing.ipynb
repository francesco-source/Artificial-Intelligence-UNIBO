{
 "cells": [
  {
   "cell_type": "markdown",
   "metadata": {},
   "source": [
    "# Water Pricing "
   ]
  },
  {
   "cell_type": "markdown",
   "metadata": {},
   "source": [
    "Water pricing is the most important and the simples instrument to encourage a more efficient use of irrigation in crop production.\n",
    "\n",
    " In a study publisched in 2015 by the University of Xin Jiang, Hohenheim and the Julius Kuhn-Institut analyze how it's possible to model a Bayesian Network to improve the water usage by variating the water price. \n",
    " \n",
    " The study was done to improve the water usage in Northwest China, in the Tarim River basin who suffers of extreme water drought's periods.\n",
    "\n",
    "My work is inspired by this study. I have modified a little bit the Bayesian Network and this is the result:\n"
   ]
  },
  {
   "cell_type": "markdown",
   "metadata": {},
   "source": [
    "<img src=\"ProjectPiviFrancesco_Bayesian_network.png\" alt=\"drawing\" width=\"600\"/>\n"
   ]
  },
  {
   "cell_type": "markdown",
   "metadata": {},
   "source": [
    "The variables considered for this model are:\n",
    "- **Water pricing**: water price based decided by the governament. It can has 3 values: low, medium and high. \n",
    "- **Agricultural extension services**: training farmes with regards to good crop management practices to improve yield levels, resource use efficiency and profit.\n",
    "- **Subsidy**: subsidizing agricultural producers for implementing advanced irrigation technology.\n",
    "- **Operation and maintenance**: Investments for running the water supply system including planning, construction, monitoring and repair of water storage distribution infrastructure.\n",
    "- **Altering crop pattern**: Shifting towards crop with higher water productivity.\n",
    "- **Aptimizing farm management practices**: Improving farm management practices to increase yield and minimize water losses.\n",
    "- **Adopting advanced irrigation technology**: Adapting advanced irrigation technology such as sprinkler irrigation or drip irrigation.\n",
    "- **Water use efficiency**:  The water use efficiency (WUE) is defined ad the economic yield of crops produced per unit of water. Three states correspond to low, medium, and high levels."
   ]
  },
  {
   "cell_type": "markdown",
   "metadata": {},
   "source": [
    "### Define the net"
   ]
  },
  {
   "cell_type": "code",
   "execution_count": 47,
   "metadata": {},
   "outputs": [],
   "source": [
    "import numpy as np\n",
    "import pandas as pd\n",
    "from pgmpy.models import BayesianNetwork\n",
    "from pgmpy.inference import VariableElimination\n",
    "water_price_model=BayesianNetwork([\n",
    "    (\"WaterPrice\",\"Operation and Maintenance\"),\n",
    "    (\"WaterPrice\",\"AlteringPattern\"),\n",
    "    (\"Agricultural servicies\",\"OptimizingManagement\"),\n",
    "    (\"Agricultural servicies\",\"AlteringPattern\"),\n",
    "    (\"Agricultural servicies\",\"NewTecnologies\"),\n",
    "    (\"Subsidy\",\"OptimizingManagement\"),\n",
    "    (\"Subsidy\",\"NewTecnologies\"),\n",
    "    (\"Operation and Maintenance\",\"NewTecnologies\"),\n",
    "    (\"AlteringPattern\",\"WaterEfficiency\"),\n",
    "    (\"NewTecnologies\",\"WaterEfficiency\"),\n",
    "    (\"OptimizingManagement\",\"WaterEfficiency\"),\n",
    "])\n",
    "\n"
   ]
  },
  {
   "cell_type": "markdown",
   "metadata": {},
   "source": [
    "### Defining CPDs"
   ]
  },
  {
   "cell_type": "code",
   "execution_count": 48,
   "metadata": {},
   "outputs": [],
   "source": [
    "from pgmpy.factors.discrete import TabularCPD\n",
    "cpd_water_price=TabularCPD(\n",
    "    variable=\"WaterPrice\",variable_card=3,values=[[0.33],[0.34],[0.33]]\n",
    ")\n",
    "cpd_agricultural_servicies=TabularCPD(\n",
    "    variable=\"Agricultural servicies\",variable_card=2,values=[[0.93],\n",
    "                                                              [0.07]]\n",
    ")\n",
    "cpd_subsidy=TabularCPD(\n",
    "    variable=\"Subsidy\", variable_card=2,values=[[0.20],\n",
    "                                                [0.80]]\n",
    ")\n",
    "cpd_operation_and_maintenance=TabularCPD(\n",
    "    variable=\"Operation and Maintenance\", variable_card=3, values=[[0.7,0.2,0.3],\n",
    "                                                                  [0.2,0.3,0.4],\n",
    "                                                                  [0.1,0.5,0.3]],evidence=[\"WaterPrice\"],evidence_card=[3]\n",
    ")\n",
    "cpd_altering_crop_pattern=TabularCPD(\n",
    "    variable=\"AlteringPattern\",variable_card=2,values=[[0.98,0.72,0.90,0.44,0.60,0.70],\n",
    "                                                       [0.02,0.28,0.10,0.56,0.40,0.30]],evidence=[\"WaterPrice\",\"Agricultural servicies\"],evidence_card=[3,2]\n",
    ")\n",
    "cpd_optimizing_farm_management_practise=TabularCPD(\n",
    "    variable=\"OptimizingManagement\",variable_card=2,values=[[0.99,0.4,0.8,0.1],\n",
    "                                                            [0.01,0.6,0.2,0.9]],evidence=[\"Agricultural servicies\",\"Subsidy\"],evidence_card=[2,2]\n",
    ")\n",
    "cpd_new_irrigation_tecnologies=TabularCPD(\n",
    "    variable=\"NewTecnologies\",variable_card=3,            values=[[0.99, 0.90,0.98,0.85,0.45,0.30,0.10,0.05,0.15,0.10,0.10,0.00],\n",
    "                                                                  [0.01, 0.09,0.02,0.10,0.50,0.60,0.65,0.70,0.60,0.65,0.40,0.10],\n",
    "                                                                  [0.00, 0.01,0.00,0.05,0.05,0.10,0.25,0.25,0.25,0.25,0.50,0.90]],\n",
    "    evidence=[\"Operation and Maintenance\",\"Agricultural servicies\",\"Subsidy\"],evidence_card=[3,2,2]\n",
    ")\n",
    "cpd_water_use_efficiency=TabularCPD(\n",
    "    variable=\"WaterEfficiency\",variable_card=3,     values=[[1.00,0.92,0.90,0.98,0.80,0.30,0.85,0.75,0.50,0.60,0.10,0.00],\n",
    "                                                            [0.00,0.06,0.08,0.02,0.18,0.60,0.10,0.20,0.40,0.30,0.50,0.20],\n",
    "                                                            [0.00,0.02,0.02,0.00,0.02,0.10,0.05,0.05,0.10,0.10,0.40,0.80]],\n",
    "    evidence=[\"AlteringPattern\",\"OptimizingManagement\",\"NewTecnologies\"],evidence_card=[2,2,3]\n",
    ")\n"
   ]
  },
  {
   "cell_type": "markdown",
   "metadata": {},
   "source": [
    "### Adding CPDs and cheking if the model is correct"
   ]
  },
  {
   "cell_type": "code",
   "execution_count": 49,
   "metadata": {},
   "outputs": [
    {
     "data": {
      "text/plain": [
       "True"
      ]
     },
     "execution_count": 49,
     "metadata": {},
     "output_type": "execute_result"
    }
   ],
   "source": [
    "\n",
    "water_price_model.add_cpds(\n",
    "    cpd_water_price,cpd_agricultural_servicies,cpd_subsidy,cpd_operation_and_maintenance,cpd_altering_crop_pattern,cpd_optimizing_farm_management_practise,\n",
    "    cpd_new_irrigation_tecnologies,cpd_water_use_efficiency\n",
    ")\n",
    "water_price_model.check_model()\n"
   ]
  },
  {
   "cell_type": "code",
   "execution_count": 50,
   "metadata": {},
   "outputs": [
    {
     "name": "stdout",
     "output_type": "stream",
     "text": [
      "CPD of WaterPrice\n",
      "+---------------+------+\n",
      "| WaterPrice(0) | 0.33 |\n",
      "+---------------+------+\n",
      "| WaterPrice(1) | 0.34 |\n",
      "+---------------+------+\n",
      "| WaterPrice(2) | 0.33 |\n",
      "+---------------+------+\n",
      "CPD of Agricultural servicies\n",
      "+---------------------------+------+\n",
      "| Agricultural servicies(0) | 0.93 |\n",
      "+---------------------------+------+\n",
      "| Agricultural servicies(1) | 0.07 |\n",
      "+---------------------------+------+\n",
      "CPD of Subsidy\n",
      "+------------+-----+\n",
      "| Subsidy(0) | 0.2 |\n",
      "+------------+-----+\n",
      "| Subsidy(1) | 0.8 |\n",
      "+------------+-----+\n",
      "CPD of Operation and Maintenance\n",
      "+------------------------------+---------------+---------------+---------------+\n",
      "| WaterPrice                   | WaterPrice(0) | WaterPrice(1) | WaterPrice(2) |\n",
      "+------------------------------+---------------+---------------+---------------+\n",
      "| Operation and Maintenance(0) | 0.7           | 0.2           | 0.3           |\n",
      "+------------------------------+---------------+---------------+---------------+\n",
      "| Operation and Maintenance(1) | 0.2           | 0.3           | 0.4           |\n",
      "+------------------------------+---------------+---------------+---------------+\n",
      "| Operation and Maintenance(2) | 0.1           | 0.5           | 0.3           |\n",
      "+------------------------------+---------------+---------------+---------------+\n",
      "CPD of AlteringPattern\n",
      "+------------------------+-----+---------------------------+\n",
      "| WaterPrice             | ... | WaterPrice(2)             |\n",
      "+------------------------+-----+---------------------------+\n",
      "| Agricultural servicies | ... | Agricultural servicies(1) |\n",
      "+------------------------+-----+---------------------------+\n",
      "| AlteringPattern(0)     | ... | 0.7                       |\n",
      "+------------------------+-----+---------------------------+\n",
      "| AlteringPattern(1)     | ... | 0.3                       |\n",
      "+------------------------+-----+---------------------------+\n",
      "CPD of OptimizingManagement\n",
      "+-------------------------+-----+---------------------------+\n",
      "| Agricultural servicies  | ... | Agricultural servicies(1) |\n",
      "+-------------------------+-----+---------------------------+\n",
      "| Subsidy                 | ... | Subsidy(1)                |\n",
      "+-------------------------+-----+---------------------------+\n",
      "| OptimizingManagement(0) | ... | 0.1                       |\n",
      "+-------------------------+-----+---------------------------+\n",
      "| OptimizingManagement(1) | ... | 0.9                       |\n",
      "+-------------------------+-----+---------------------------+\n",
      "CPD of NewTecnologies\n",
      "+---------------------------+-----+------------------------------+\n",
      "| Operation and Maintenance | ... | Operation and Maintenance(2) |\n",
      "+---------------------------+-----+------------------------------+\n",
      "| Agricultural servicies    | ... | Agricultural servicies(1)    |\n",
      "+---------------------------+-----+------------------------------+\n",
      "| Subsidy                   | ... | Subsidy(1)                   |\n",
      "+---------------------------+-----+------------------------------+\n",
      "| NewTecnologies(0)         | ... | 0.0                          |\n",
      "+---------------------------+-----+------------------------------+\n",
      "| NewTecnologies(1)         | ... | 0.1                          |\n",
      "+---------------------------+-----+------------------------------+\n",
      "| NewTecnologies(2)         | ... | 0.9                          |\n",
      "+---------------------------+-----+------------------------------+\n",
      "CPD of WaterEfficiency\n",
      "+----------------------+-----+-------------------------+\n",
      "| AlteringPattern      | ... | AlteringPattern(1)      |\n",
      "+----------------------+-----+-------------------------+\n",
      "| OptimizingManagement | ... | OptimizingManagement(1) |\n",
      "+----------------------+-----+-------------------------+\n",
      "| NewTecnologies       | ... | NewTecnologies(2)       |\n",
      "+----------------------+-----+-------------------------+\n",
      "| WaterEfficiency(0)   | ... | 0.0                     |\n",
      "+----------------------+-----+-------------------------+\n",
      "| WaterEfficiency(1)   | ... | 0.2                     |\n",
      "+----------------------+-----+-------------------------+\n",
      "| WaterEfficiency(2)   | ... | 0.8                     |\n",
      "+----------------------+-----+-------------------------+\n"
     ]
    }
   ],
   "source": [
    "for cpd in water_price_model.get_cpds():\n",
    "    print(\"CPD of {variable}\".format(variable=cpd.variable))\n",
    "    print(cpd)"
   ]
  },
  {
   "cell_type": "code",
   "execution_count": 51,
   "metadata": {},
   "outputs": [
    {
     "data": {
      "text/plain": [
       "(AlteringPattern ⟂ OptimizingManagement, NewTecnologies, Operation and Maintenance, Subsidy | WaterPrice, Agricultural servicies)"
      ]
     },
     "execution_count": 51,
     "metadata": {},
     "output_type": "execute_result"
    }
   ],
   "source": [
    "water_price_model.local_independencies(\"AlteringPattern\")"
   ]
  },
  {
   "cell_type": "code",
   "execution_count": 52,
   "metadata": {},
   "outputs": [],
   "source": [
    "water_inference = VariableElimination(water_price_model)"
   ]
  },
  {
   "cell_type": "code",
   "execution_count": 53,
   "metadata": {},
   "outputs": [
    {
     "name": "stdout",
     "output_type": "stream",
     "text": [
      "P(Operation and Maintenance|Waterprice=high)\n"
     ]
    },
    {
     "name": "stderr",
     "output_type": "stream",
     "text": [
      "Finding Elimination Order: : : 0it [00:00, ?it/s]\n",
      "0it [00:00, ?it/s]"
     ]
    },
    {
     "name": "stdout",
     "output_type": "stream",
     "text": [
      "+------------------------------+----------------------------------+\n",
      "| Operation and Maintenance    |   phi(Operation and Maintenance) |\n",
      "+==============================+==================================+\n",
      "| Operation and Maintenance(0) |                           0.3000 |\n",
      "+------------------------------+----------------------------------+\n",
      "| Operation and Maintenance(1) |                           0.4000 |\n",
      "+------------------------------+----------------------------------+\n",
      "| Operation and Maintenance(2) |                           0.3000 |\n",
      "+------------------------------+----------------------------------+\n"
     ]
    },
    {
     "name": "stderr",
     "output_type": "stream",
     "text": [
      "\n"
     ]
    }
   ],
   "source": [
    "print('P(Operation and Maintenance|Waterprice=high)')\n",
    "q_1 = water_inference.query(['Operation and Maintenance'],{\"WaterPrice\":2})\n",
    "print(q_1)"
   ]
  },
  {
   "cell_type": "code",
   "execution_count": 58,
   "metadata": {},
   "outputs": [
    {
     "name": "stdout",
     "output_type": "stream",
     "text": [
      "P(Altering crop patterns| Water Pricing=high, Agricultural extencion servicies=high)\n"
     ]
    },
    {
     "name": "stderr",
     "output_type": "stream",
     "text": [
      "Finding Elimination Order: : 100%|██████████| 2/2 [00:00<00:00, 1984.53it/s]\n",
      "Eliminating: Agricultural servicies: 100%|██████████| 2/2 [00:00<00:00, 454.03it/s]"
     ]
    },
    {
     "name": "stdout",
     "output_type": "stream",
     "text": [
      "+-------------------+-----------------------+\n",
      "| NewTecnologies    |   phi(NewTecnologies) |\n",
      "+===================+=======================+\n",
      "| NewTecnologies(0) |                0.4099 |\n",
      "+-------------------+-----------------------+\n",
      "| NewTecnologies(1) |                0.4535 |\n",
      "+-------------------+-----------------------+\n",
      "| NewTecnologies(2) |                0.1367 |\n",
      "+-------------------+-----------------------+\n"
     ]
    },
    {
     "name": "stderr",
     "output_type": "stream",
     "text": [
      "\n"
     ]
    }
   ],
   "source": [
    "print(\"P(Altering crop patterns| Water Pricing=high, Subsidy=high)\")\n",
    "q_2=water_inference.query([\"NewTecnologies\"],{\"WaterPrice\":2,\"Subsidy\":1})\n",
    "print(q_2)"
   ]
  },
  {
   "cell_type": "code",
   "execution_count": 66,
   "metadata": {},
   "outputs": [
    {
     "name": "stdout",
     "output_type": "stream",
     "text": [
      "P(Water price|WaterUseEfficiency=high)\n"
     ]
    },
    {
     "name": "stderr",
     "output_type": "stream",
     "text": [
      "Finding Elimination Order: : 100%|██████████| 5/5 [00:00<00:00, 2506.16it/s]\n",
      "Eliminating: Subsidy: 100%|██████████| 5/5 [00:00<00:00, 494.49it/s]         "
     ]
    },
    {
     "name": "stdout",
     "output_type": "stream",
     "text": [
      "+---------------+-------------------+\n",
      "| WaterPrice    |   phi(WaterPrice) |\n",
      "+===============+===================+\n",
      "| WaterPrice(0) |            0.0901 |\n",
      "+---------------+-------------------+\n",
      "| WaterPrice(1) |            0.3131 |\n",
      "+---------------+-------------------+\n",
      "| WaterPrice(2) |            0.5968 |\n",
      "+---------------+-------------------+\n"
     ]
    },
    {
     "name": "stderr",
     "output_type": "stream",
     "text": [
      "\n"
     ]
    }
   ],
   "source": [
    "print(\"P(Water price|WaterUseEfficiency=high,Newtecnologies=medium)\")\n",
    "q_3=water_inference.query([\"WaterPrice\"],{\"WaterEfficiency\":2,\"NewTecnologies\":1})\n",
    "print(q_3)\n"
   ]
  },
  {
   "cell_type": "code",
   "execution_count": 70,
   "metadata": {},
   "outputs": [
    {
     "name": "stdout",
     "output_type": "stream",
     "text": [
      "P(Subsidy|Water use efficiency=high\n"
     ]
    },
    {
     "name": "stderr",
     "output_type": "stream",
     "text": [
      "Finding Elimination Order: : 100%|██████████| 6/6 [00:00<00:00, 4078.74it/s]\n",
      "Eliminating: Agricultural servicies: 100%|██████████| 6/6 [00:00<00:00, 645.51it/s]"
     ]
    },
    {
     "name": "stdout",
     "output_type": "stream",
     "text": [
      "+------------+----------------+\n",
      "| Subsidy    |   phi(Subsidy) |\n",
      "+============+================+\n",
      "| Subsidy(0) |         0.0756 |\n",
      "+------------+----------------+\n",
      "| Subsidy(1) |         0.9244 |\n",
      "+------------+----------------+\n"
     ]
    },
    {
     "name": "stderr",
     "output_type": "stream",
     "text": [
      "\n"
     ]
    }
   ],
   "source": [
    "print(\"P(Subsidy|Water use efficiency=high\")\n",
    "q_4=water_inference.query([\"Subsidy\"],{\"WaterEfficiency\":2})\n",
    "print(q_4)\n",
    "#da rivedere non torna molto"
   ]
  },
  {
   "cell_type": "code",
   "execution_count": 72,
   "metadata": {},
   "outputs": [
    {
     "name": "stdout",
     "output_type": "stream",
     "text": [
      "Agricultural extencion servicies| Water use efficiency=high\n"
     ]
    },
    {
     "name": "stderr",
     "output_type": "stream",
     "text": [
      "Finding Elimination Order: : 100%|██████████| 6/6 [00:00<00:00, 2488.71it/s]\n",
      "Eliminating: Subsidy: 100%|██████████| 6/6 [00:00<00:00, 548.23it/s]         "
     ]
    },
    {
     "name": "stdout",
     "output_type": "stream",
     "text": [
      "+---------------------------+-------------------------------+\n",
      "| Agricultural servicies    |   phi(Agricultural servicies) |\n",
      "+===========================+===============================+\n",
      "| Agricultural servicies(0) |                        0.7823 |\n",
      "+---------------------------+-------------------------------+\n",
      "| Agricultural servicies(1) |                        0.2177 |\n",
      "+---------------------------+-------------------------------+\n"
     ]
    },
    {
     "name": "stderr",
     "output_type": "stream",
     "text": [
      "\n"
     ]
    }
   ],
   "source": [
    "print(\"Agricultural extencion servicies| Water use efficiency=high\")\n",
    "q_5=water_inference.query([\"Agricultural servicies \"],{\"WaterEfficiency\":2})\n",
    "print(q_5)\n",
    "#da rivedere "
   ]
  },
  {
   "cell_type": "code",
   "execution_count": 77,
   "metadata": {},
   "outputs": [
    {
     "data": {
      "text/plain": [
       "(AlteringPattern ⟂ OptimizingManagement, NewTecnologies, Operation and Maintenance, Subsidy | WaterPrice, Agricultural servicies)"
      ]
     },
     "execution_count": 77,
     "metadata": {},
     "output_type": "execute_result"
    }
   ],
   "source": [
    "water_price_model.local_independencies(\"NewTecnologies\")\n",
    "water_price_model.local_independencies(\"AlteringPattern\")\n"
   ]
  },
  {
   "cell_type": "code",
   "execution_count": 78,
   "metadata": {},
   "outputs": [
    {
     "name": "stdout",
     "output_type": "stream",
     "text": [
      "WaterPrice| Water use efficiency=high\n"
     ]
    },
    {
     "name": "stderr",
     "output_type": "stream",
     "text": [
      "Finding Elimination Order: : 100%|██████████| 6/6 [00:00<00:00, 2641.53it/s]\n",
      "Eliminating: Subsidy: 100%|██████████| 6/6 [00:00<00:00, 346.49it/s]         "
     ]
    },
    {
     "name": "stdout",
     "output_type": "stream",
     "text": [
      "+---------------+-------------------+\n",
      "| WaterPrice    |   phi(WaterPrice) |\n",
      "+===============+===================+\n",
      "| WaterPrice(0) |            0.0939 |\n",
      "+---------------+-------------------+\n",
      "| WaterPrice(1) |            0.3541 |\n",
      "+---------------+-------------------+\n",
      "| WaterPrice(2) |            0.5519 |\n",
      "+---------------+-------------------+\n"
     ]
    },
    {
     "name": "stderr",
     "output_type": "stream",
     "text": [
      "\n"
     ]
    }
   ],
   "source": [
    "print(\"WaterPrice| Water use efficiency=high\")\n",
    "q_6=water_inference.query(variables=[\"WaterPrice\"],evidence={\"WaterEfficiency\":2})\n",
    "print(q_6)"
   ]
  },
  {
   "cell_type": "code",
   "execution_count": 88,
   "metadata": {},
   "outputs": [
    {
     "data": {
      "text/plain": [
       "{'WaterPrice': {'AlteringPattern',\n",
       "  'NewTecnologies',\n",
       "  'Operation and Maintenance',\n",
       "  'WaterEfficiency',\n",
       "  'WaterPrice'}}"
      ]
     },
     "execution_count": 88,
     "metadata": {},
     "output_type": "execute_result"
    }
   ],
   "source": [
    "\n",
    "water_price_model.active_trail_nodes(\"WaterPrice\",\"Agricultural servicies\",\"AlteringPattern\")"
   ]
  }
 ],
 "metadata": {
  "kernelspec": {
   "display_name": "Python 3.9.4 64-bit",
   "language": "python",
   "name": "python3"
  },
  "language_info": {
   "codemirror_mode": {
    "name": "ipython",
    "version": 3
   },
   "file_extension": ".py",
   "mimetype": "text/x-python",
   "name": "python",
   "nbconvert_exporter": "python",
   "pygments_lexer": "ipython3",
   "version": "3.9.4"
  },
  "orig_nbformat": 4,
  "vscode": {
   "interpreter": {
    "hash": "81794d4967e6c3204c66dcd87b604927b115b27c00565d3d43f05ba2f3a2cb0d"
   }
  }
 },
 "nbformat": 4,
 "nbformat_minor": 2
}
